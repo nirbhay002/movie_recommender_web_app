{
 "cells": [
  {
   "cell_type": "code",
   "execution_count": 1,
   "id": "4767606b",
   "metadata": {},
   "outputs": [],
   "source": [
    "# %pip install nltk\n",
    "# %pip install numpy\n",
    "# %pip install pandas\n",
    "# %pip install scikit-learn\n",
    "# %pip install streamlit\n",
    "# %pip install requests"
   ]
  },
  {
   "cell_type": "code",
   "execution_count": 2,
   "id": "69f5c4ee",
   "metadata": {},
   "outputs": [],
   "source": [
    "import numpy as np\n",
    "import pandas as pd"
   ]
  },
  {
   "cell_type": "code",
   "execution_count": 3,
   "id": "40e0f476",
   "metadata": {},
   "outputs": [],
   "source": [
    "\n",
    "movies = pd.read_csv('tmdb_5000_movies.csv')\n",
    "credits = pd.read_csv('tmdb_5000_credits.csv')"
   ]
  },
  {
   "cell_type": "code",
   "execution_count": 4,
   "id": "308b29dd",
   "metadata": {},
   "outputs": [
    {
     "data": {
      "text/html": [
       "<div>\n",
       "<style scoped>\n",
       "    .dataframe tbody tr th:only-of-type {\n",
       "        vertical-align: middle;\n",
       "    }\n",
       "\n",
       "    .dataframe tbody tr th {\n",
       "        vertical-align: top;\n",
       "    }\n",
       "\n",
       "    .dataframe thead th {\n",
       "        text-align: right;\n",
       "    }\n",
       "</style>\n",
       "<table border=\"1\" class=\"dataframe\">\n",
       "  <thead>\n",
       "    <tr style=\"text-align: right;\">\n",
       "      <th></th>\n",
       "      <th>budget</th>\n",
       "      <th>genres</th>\n",
       "      <th>homepage</th>\n",
       "      <th>id</th>\n",
       "      <th>keywords</th>\n",
       "      <th>original_language</th>\n",
       "      <th>original_title</th>\n",
       "      <th>overview</th>\n",
       "      <th>popularity</th>\n",
       "      <th>production_companies</th>\n",
       "      <th>production_countries</th>\n",
       "      <th>release_date</th>\n",
       "      <th>revenue</th>\n",
       "      <th>runtime</th>\n",
       "      <th>spoken_languages</th>\n",
       "      <th>status</th>\n",
       "      <th>tagline</th>\n",
       "      <th>title</th>\n",
       "      <th>vote_average</th>\n",
       "      <th>vote_count</th>\n",
       "    </tr>\n",
       "  </thead>\n",
       "  <tbody>\n",
       "    <tr>\n",
       "      <th>0</th>\n",
       "      <td>237000000</td>\n",
       "      <td>[{\"id\": 28, \"name\": \"Action\"}, {\"id\": 12, \"nam...</td>\n",
       "      <td>http://www.avatarmovie.com/</td>\n",
       "      <td>19995</td>\n",
       "      <td>[{\"id\": 1463, \"name\": \"culture clash\"}, {\"id\":...</td>\n",
       "      <td>en</td>\n",
       "      <td>Avatar</td>\n",
       "      <td>In the 22nd century, a paraplegic Marine is di...</td>\n",
       "      <td>150.437577</td>\n",
       "      <td>[{\"name\": \"Ingenious Film Partners\", \"id\": 289...</td>\n",
       "      <td>[{\"iso_3166_1\": \"US\", \"name\": \"United States o...</td>\n",
       "      <td>2009-12-10</td>\n",
       "      <td>2787965087</td>\n",
       "      <td>162.0</td>\n",
       "      <td>[{\"iso_639_1\": \"en\", \"name\": \"English\"}, {\"iso...</td>\n",
       "      <td>Released</td>\n",
       "      <td>Enter the World of Pandora.</td>\n",
       "      <td>Avatar</td>\n",
       "      <td>7.2</td>\n",
       "      <td>11800</td>\n",
       "    </tr>\n",
       "  </tbody>\n",
       "</table>\n",
       "</div>"
      ],
      "text/plain": [
       "      budget                                             genres  \\\n",
       "0  237000000  [{\"id\": 28, \"name\": \"Action\"}, {\"id\": 12, \"nam...   \n",
       "\n",
       "                      homepage     id  \\\n",
       "0  http://www.avatarmovie.com/  19995   \n",
       "\n",
       "                                            keywords original_language  \\\n",
       "0  [{\"id\": 1463, \"name\": \"culture clash\"}, {\"id\":...                en   \n",
       "\n",
       "  original_title                                           overview  \\\n",
       "0         Avatar  In the 22nd century, a paraplegic Marine is di...   \n",
       "\n",
       "   popularity                               production_companies  \\\n",
       "0  150.437577  [{\"name\": \"Ingenious Film Partners\", \"id\": 289...   \n",
       "\n",
       "                                production_countries release_date     revenue  \\\n",
       "0  [{\"iso_3166_1\": \"US\", \"name\": \"United States o...   2009-12-10  2787965087   \n",
       "\n",
       "   runtime                                   spoken_languages    status  \\\n",
       "0    162.0  [{\"iso_639_1\": \"en\", \"name\": \"English\"}, {\"iso...  Released   \n",
       "\n",
       "                       tagline   title  vote_average  vote_count  \n",
       "0  Enter the World of Pandora.  Avatar           7.2       11800  "
      ]
     },
     "execution_count": 4,
     "metadata": {},
     "output_type": "execute_result"
    }
   ],
   "source": [
    "movies.head(1)"
   ]
  },
  {
   "cell_type": "code",
   "execution_count": 5,
   "id": "bda05af2",
   "metadata": {},
   "outputs": [
    {
     "data": {
      "text/html": [
       "<div>\n",
       "<style scoped>\n",
       "    .dataframe tbody tr th:only-of-type {\n",
       "        vertical-align: middle;\n",
       "    }\n",
       "\n",
       "    .dataframe tbody tr th {\n",
       "        vertical-align: top;\n",
       "    }\n",
       "\n",
       "    .dataframe thead th {\n",
       "        text-align: right;\n",
       "    }\n",
       "</style>\n",
       "<table border=\"1\" class=\"dataframe\">\n",
       "  <thead>\n",
       "    <tr style=\"text-align: right;\">\n",
       "      <th></th>\n",
       "      <th>movie_id</th>\n",
       "      <th>title</th>\n",
       "      <th>cast</th>\n",
       "      <th>crew</th>\n",
       "    </tr>\n",
       "  </thead>\n",
       "  <tbody>\n",
       "    <tr>\n",
       "      <th>0</th>\n",
       "      <td>19995</td>\n",
       "      <td>Avatar</td>\n",
       "      <td>[{\"cast_id\": 242, \"character\": \"Jake Sully\", \"...</td>\n",
       "      <td>[{\"credit_id\": \"52fe48009251416c750aca23\", \"de...</td>\n",
       "    </tr>\n",
       "  </tbody>\n",
       "</table>\n",
       "</div>"
      ],
      "text/plain": [
       "   movie_id   title                                               cast  \\\n",
       "0     19995  Avatar  [{\"cast_id\": 242, \"character\": \"Jake Sully\", \"...   \n",
       "\n",
       "                                                crew  \n",
       "0  [{\"credit_id\": \"52fe48009251416c750aca23\", \"de...  "
      ]
     },
     "execution_count": 5,
     "metadata": {},
     "output_type": "execute_result"
    }
   ],
   "source": [
    "credits.head(1)"
   ]
  },
  {
   "cell_type": "code",
   "execution_count": 6,
   "id": "f5fb454a",
   "metadata": {},
   "outputs": [],
   "source": [
    "movies = movies.merge(credits,on='title')"
   ]
  },
  {
   "cell_type": "code",
   "execution_count": 7,
   "id": "7afacb77",
   "metadata": {},
   "outputs": [
    {
     "name": "stdout",
     "output_type": "stream",
     "text": [
      "<class 'pandas.core.frame.DataFrame'>\n",
      "RangeIndex: 4809 entries, 0 to 4808\n",
      "Data columns (total 23 columns):\n",
      " #   Column                Non-Null Count  Dtype  \n",
      "---  ------                --------------  -----  \n",
      " 0   budget                4809 non-null   int64  \n",
      " 1   genres                4809 non-null   object \n",
      " 2   homepage              1713 non-null   object \n",
      " 3   id                    4809 non-null   int64  \n",
      " 4   keywords              4809 non-null   object \n",
      " 5   original_language     4809 non-null   object \n",
      " 6   original_title        4809 non-null   object \n",
      " 7   overview              4806 non-null   object \n",
      " 8   popularity            4809 non-null   float64\n",
      " 9   production_companies  4809 non-null   object \n",
      " 10  production_countries  4809 non-null   object \n",
      " 11  release_date          4808 non-null   object \n",
      " 12  revenue               4809 non-null   int64  \n",
      " 13  runtime               4807 non-null   float64\n",
      " 14  spoken_languages      4809 non-null   object \n",
      " 15  status                4809 non-null   object \n",
      " 16  tagline               3965 non-null   object \n",
      " 17  title                 4809 non-null   object \n",
      " 18  vote_average          4809 non-null   float64\n",
      " 19  vote_count            4809 non-null   int64  \n",
      " 20  movie_id              4809 non-null   int64  \n",
      " 21  cast                  4809 non-null   object \n",
      " 22  crew                  4809 non-null   object \n",
      "dtypes: float64(3), int64(5), object(15)\n",
      "memory usage: 864.2+ KB\n"
     ]
    }
   ],
   "source": [
    "movies.info()"
   ]
  },
  {
   "cell_type": "code",
   "execution_count": 8,
   "id": "908dba82",
   "metadata": {},
   "outputs": [
    {
     "data": {
      "text/html": [
       "<div>\n",
       "<style scoped>\n",
       "    .dataframe tbody tr th:only-of-type {\n",
       "        vertical-align: middle;\n",
       "    }\n",
       "\n",
       "    .dataframe tbody tr th {\n",
       "        vertical-align: top;\n",
       "    }\n",
       "\n",
       "    .dataframe thead th {\n",
       "        text-align: right;\n",
       "    }\n",
       "</style>\n",
       "<table border=\"1\" class=\"dataframe\">\n",
       "  <thead>\n",
       "    <tr style=\"text-align: right;\">\n",
       "      <th></th>\n",
       "      <th>budget</th>\n",
       "      <th>genres</th>\n",
       "      <th>homepage</th>\n",
       "      <th>id</th>\n",
       "      <th>keywords</th>\n",
       "      <th>original_language</th>\n",
       "      <th>original_title</th>\n",
       "      <th>overview</th>\n",
       "      <th>popularity</th>\n",
       "      <th>production_companies</th>\n",
       "      <th>...</th>\n",
       "      <th>runtime</th>\n",
       "      <th>spoken_languages</th>\n",
       "      <th>status</th>\n",
       "      <th>tagline</th>\n",
       "      <th>title</th>\n",
       "      <th>vote_average</th>\n",
       "      <th>vote_count</th>\n",
       "      <th>movie_id</th>\n",
       "      <th>cast</th>\n",
       "      <th>crew</th>\n",
       "    </tr>\n",
       "  </thead>\n",
       "  <tbody>\n",
       "    <tr>\n",
       "      <th>0</th>\n",
       "      <td>237000000</td>\n",
       "      <td>[{\"id\": 28, \"name\": \"Action\"}, {\"id\": 12, \"nam...</td>\n",
       "      <td>http://www.avatarmovie.com/</td>\n",
       "      <td>19995</td>\n",
       "      <td>[{\"id\": 1463, \"name\": \"culture clash\"}, {\"id\":...</td>\n",
       "      <td>en</td>\n",
       "      <td>Avatar</td>\n",
       "      <td>In the 22nd century, a paraplegic Marine is di...</td>\n",
       "      <td>150.437577</td>\n",
       "      <td>[{\"name\": \"Ingenious Film Partners\", \"id\": 289...</td>\n",
       "      <td>...</td>\n",
       "      <td>162.0</td>\n",
       "      <td>[{\"iso_639_1\": \"en\", \"name\": \"English\"}, {\"iso...</td>\n",
       "      <td>Released</td>\n",
       "      <td>Enter the World of Pandora.</td>\n",
       "      <td>Avatar</td>\n",
       "      <td>7.2</td>\n",
       "      <td>11800</td>\n",
       "      <td>19995</td>\n",
       "      <td>[{\"cast_id\": 242, \"character\": \"Jake Sully\", \"...</td>\n",
       "      <td>[{\"credit_id\": \"52fe48009251416c750aca23\", \"de...</td>\n",
       "    </tr>\n",
       "  </tbody>\n",
       "</table>\n",
       "<p>1 rows × 23 columns</p>\n",
       "</div>"
      ],
      "text/plain": [
       "      budget                                             genres  \\\n",
       "0  237000000  [{\"id\": 28, \"name\": \"Action\"}, {\"id\": 12, \"nam...   \n",
       "\n",
       "                      homepage     id  \\\n",
       "0  http://www.avatarmovie.com/  19995   \n",
       "\n",
       "                                            keywords original_language  \\\n",
       "0  [{\"id\": 1463, \"name\": \"culture clash\"}, {\"id\":...                en   \n",
       "\n",
       "  original_title                                           overview  \\\n",
       "0         Avatar  In the 22nd century, a paraplegic Marine is di...   \n",
       "\n",
       "   popularity                               production_companies  ... runtime  \\\n",
       "0  150.437577  [{\"name\": \"Ingenious Film Partners\", \"id\": 289...  ...   162.0   \n",
       "\n",
       "                                    spoken_languages    status  \\\n",
       "0  [{\"iso_639_1\": \"en\", \"name\": \"English\"}, {\"iso...  Released   \n",
       "\n",
       "                       tagline   title vote_average vote_count movie_id  \\\n",
       "0  Enter the World of Pandora.  Avatar          7.2      11800    19995   \n",
       "\n",
       "                                                cast  \\\n",
       "0  [{\"cast_id\": 242, \"character\": \"Jake Sully\", \"...   \n",
       "\n",
       "                                                crew  \n",
       "0  [{\"credit_id\": \"52fe48009251416c750aca23\", \"de...  \n",
       "\n",
       "[1 rows x 23 columns]"
      ]
     },
     "execution_count": 8,
     "metadata": {},
     "output_type": "execute_result"
    }
   ],
   "source": [
    "movies.head(1)\n",
    "# columns to keep:\n",
    "# budget\n",
    "# homepage\n",
    "# id\n",
    "# original_language\n",
    "# original_title\n",
    "# popularity\n",
    "# production_comapny\n",
    "# production_countries\n",
    "# release-date(not sure)"
   ]
  },
  {
   "cell_type": "code",
   "execution_count": 9,
   "id": "afacecbd",
   "metadata": {},
   "outputs": [],
   "source": [
    "movies = movies[['movie_id', 'title', 'overview','genres','keywords','cast','crew']]"
   ]
  },
  {
   "cell_type": "code",
   "execution_count": 10,
   "id": "9c0de4ef",
   "metadata": {},
   "outputs": [
    {
     "data": {
      "text/html": [
       "<div>\n",
       "<style scoped>\n",
       "    .dataframe tbody tr th:only-of-type {\n",
       "        vertical-align: middle;\n",
       "    }\n",
       "\n",
       "    .dataframe tbody tr th {\n",
       "        vertical-align: top;\n",
       "    }\n",
       "\n",
       "    .dataframe thead th {\n",
       "        text-align: right;\n",
       "    }\n",
       "</style>\n",
       "<table border=\"1\" class=\"dataframe\">\n",
       "  <thead>\n",
       "    <tr style=\"text-align: right;\">\n",
       "      <th></th>\n",
       "      <th>movie_id</th>\n",
       "      <th>title</th>\n",
       "      <th>overview</th>\n",
       "      <th>genres</th>\n",
       "      <th>keywords</th>\n",
       "      <th>cast</th>\n",
       "      <th>crew</th>\n",
       "    </tr>\n",
       "  </thead>\n",
       "  <tbody>\n",
       "    <tr>\n",
       "      <th>0</th>\n",
       "      <td>19995</td>\n",
       "      <td>Avatar</td>\n",
       "      <td>In the 22nd century, a paraplegic Marine is di...</td>\n",
       "      <td>[{\"id\": 28, \"name\": \"Action\"}, {\"id\": 12, \"nam...</td>\n",
       "      <td>[{\"id\": 1463, \"name\": \"culture clash\"}, {\"id\":...</td>\n",
       "      <td>[{\"cast_id\": 242, \"character\": \"Jake Sully\", \"...</td>\n",
       "      <td>[{\"credit_id\": \"52fe48009251416c750aca23\", \"de...</td>\n",
       "    </tr>\n",
       "    <tr>\n",
       "      <th>1</th>\n",
       "      <td>285</td>\n",
       "      <td>Pirates of the Caribbean: At World's End</td>\n",
       "      <td>Captain Barbossa, long believed to be dead, ha...</td>\n",
       "      <td>[{\"id\": 12, \"name\": \"Adventure\"}, {\"id\": 14, \"...</td>\n",
       "      <td>[{\"id\": 270, \"name\": \"ocean\"}, {\"id\": 726, \"na...</td>\n",
       "      <td>[{\"cast_id\": 4, \"character\": \"Captain Jack Spa...</td>\n",
       "      <td>[{\"credit_id\": \"52fe4232c3a36847f800b579\", \"de...</td>\n",
       "    </tr>\n",
       "    <tr>\n",
       "      <th>2</th>\n",
       "      <td>206647</td>\n",
       "      <td>Spectre</td>\n",
       "      <td>A cryptic message from Bond’s past sends him o...</td>\n",
       "      <td>[{\"id\": 28, \"name\": \"Action\"}, {\"id\": 12, \"nam...</td>\n",
       "      <td>[{\"id\": 470, \"name\": \"spy\"}, {\"id\": 818, \"name...</td>\n",
       "      <td>[{\"cast_id\": 1, \"character\": \"James Bond\", \"cr...</td>\n",
       "      <td>[{\"credit_id\": \"54805967c3a36829b5002c41\", \"de...</td>\n",
       "    </tr>\n",
       "    <tr>\n",
       "      <th>3</th>\n",
       "      <td>49026</td>\n",
       "      <td>The Dark Knight Rises</td>\n",
       "      <td>Following the death of District Attorney Harve...</td>\n",
       "      <td>[{\"id\": 28, \"name\": \"Action\"}, {\"id\": 80, \"nam...</td>\n",
       "      <td>[{\"id\": 849, \"name\": \"dc comics\"}, {\"id\": 853,...</td>\n",
       "      <td>[{\"cast_id\": 2, \"character\": \"Bruce Wayne / Ba...</td>\n",
       "      <td>[{\"credit_id\": \"52fe4781c3a36847f81398c3\", \"de...</td>\n",
       "    </tr>\n",
       "    <tr>\n",
       "      <th>4</th>\n",
       "      <td>49529</td>\n",
       "      <td>John Carter</td>\n",
       "      <td>John Carter is a war-weary, former military ca...</td>\n",
       "      <td>[{\"id\": 28, \"name\": \"Action\"}, {\"id\": 12, \"nam...</td>\n",
       "      <td>[{\"id\": 818, \"name\": \"based on novel\"}, {\"id\":...</td>\n",
       "      <td>[{\"cast_id\": 5, \"character\": \"John Carter\", \"c...</td>\n",
       "      <td>[{\"credit_id\": \"52fe479ac3a36847f813eaa3\", \"de...</td>\n",
       "    </tr>\n",
       "  </tbody>\n",
       "</table>\n",
       "</div>"
      ],
      "text/plain": [
       "   movie_id                                     title  \\\n",
       "0     19995                                    Avatar   \n",
       "1       285  Pirates of the Caribbean: At World's End   \n",
       "2    206647                                   Spectre   \n",
       "3     49026                     The Dark Knight Rises   \n",
       "4     49529                               John Carter   \n",
       "\n",
       "                                            overview  \\\n",
       "0  In the 22nd century, a paraplegic Marine is di...   \n",
       "1  Captain Barbossa, long believed to be dead, ha...   \n",
       "2  A cryptic message from Bond’s past sends him o...   \n",
       "3  Following the death of District Attorney Harve...   \n",
       "4  John Carter is a war-weary, former military ca...   \n",
       "\n",
       "                                              genres  \\\n",
       "0  [{\"id\": 28, \"name\": \"Action\"}, {\"id\": 12, \"nam...   \n",
       "1  [{\"id\": 12, \"name\": \"Adventure\"}, {\"id\": 14, \"...   \n",
       "2  [{\"id\": 28, \"name\": \"Action\"}, {\"id\": 12, \"nam...   \n",
       "3  [{\"id\": 28, \"name\": \"Action\"}, {\"id\": 80, \"nam...   \n",
       "4  [{\"id\": 28, \"name\": \"Action\"}, {\"id\": 12, \"nam...   \n",
       "\n",
       "                                            keywords  \\\n",
       "0  [{\"id\": 1463, \"name\": \"culture clash\"}, {\"id\":...   \n",
       "1  [{\"id\": 270, \"name\": \"ocean\"}, {\"id\": 726, \"na...   \n",
       "2  [{\"id\": 470, \"name\": \"spy\"}, {\"id\": 818, \"name...   \n",
       "3  [{\"id\": 849, \"name\": \"dc comics\"}, {\"id\": 853,...   \n",
       "4  [{\"id\": 818, \"name\": \"based on novel\"}, {\"id\":...   \n",
       "\n",
       "                                                cast  \\\n",
       "0  [{\"cast_id\": 242, \"character\": \"Jake Sully\", \"...   \n",
       "1  [{\"cast_id\": 4, \"character\": \"Captain Jack Spa...   \n",
       "2  [{\"cast_id\": 1, \"character\": \"James Bond\", \"cr...   \n",
       "3  [{\"cast_id\": 2, \"character\": \"Bruce Wayne / Ba...   \n",
       "4  [{\"cast_id\": 5, \"character\": \"John Carter\", \"c...   \n",
       "\n",
       "                                                crew  \n",
       "0  [{\"credit_id\": \"52fe48009251416c750aca23\", \"de...  \n",
       "1  [{\"credit_id\": \"52fe4232c3a36847f800b579\", \"de...  \n",
       "2  [{\"credit_id\": \"54805967c3a36829b5002c41\", \"de...  \n",
       "3  [{\"credit_id\": \"52fe4781c3a36847f81398c3\", \"de...  \n",
       "4  [{\"credit_id\": \"52fe479ac3a36847f813eaa3\", \"de...  "
      ]
     },
     "execution_count": 10,
     "metadata": {},
     "output_type": "execute_result"
    }
   ],
   "source": [
    "movies.head()"
   ]
  },
  {
   "cell_type": "code",
   "execution_count": 11,
   "id": "8de5bf8b",
   "metadata": {},
   "outputs": [
    {
     "data": {
      "text/plain": [
       "movie_id    0\n",
       "title       0\n",
       "overview    3\n",
       "genres      0\n",
       "keywords    0\n",
       "cast        0\n",
       "crew        0\n",
       "dtype: int64"
      ]
     },
     "execution_count": 11,
     "metadata": {},
     "output_type": "execute_result"
    }
   ],
   "source": [
    "movies.isnull().sum()"
   ]
  },
  {
   "cell_type": "code",
   "execution_count": 12,
   "id": "e6e63d3d",
   "metadata": {},
   "outputs": [],
   "source": [
    "movies.dropna(inplace=True)"
   ]
  },
  {
   "cell_type": "code",
   "execution_count": 13,
   "id": "2c335a21",
   "metadata": {},
   "outputs": [
    {
     "data": {
      "text/plain": [
       "np.int64(0)"
      ]
     },
     "execution_count": 13,
     "metadata": {},
     "output_type": "execute_result"
    }
   ],
   "source": [
    "movies.duplicated().sum()"
   ]
  },
  {
   "cell_type": "code",
   "execution_count": 14,
   "id": "c749f431",
   "metadata": {},
   "outputs": [
    {
     "data": {
      "text/plain": [
       "'[{\"id\": 28, \"name\": \"Action\"}, {\"id\": 12, \"name\": \"Adventure\"}, {\"id\": 14, \"name\": \"Fantasy\"}, {\"id\": 878, \"name\": \"Science Fiction\"}]'"
      ]
     },
     "execution_count": 14,
     "metadata": {},
     "output_type": "execute_result"
    }
   ],
   "source": [
    "movies.iloc[0].genres"
   ]
  },
  {
   "cell_type": "code",
   "execution_count": 15,
   "id": "a0e4fedf",
   "metadata": {},
   "outputs": [],
   "source": [
    "\n",
    "import ast\n",
    "def convert(text):\n",
    "    L = []\n",
    "    for i in ast.literal_eval(text): #to convert string into list as genre is in form of string\n",
    "        L.append(i['name']) \n",
    "    return L "
   ]
  },
  {
   "cell_type": "code",
   "execution_count": 16,
   "id": "a2f5c285",
   "metadata": {},
   "outputs": [
    {
     "data": {
      "text/html": [
       "<div>\n",
       "<style scoped>\n",
       "    .dataframe tbody tr th:only-of-type {\n",
       "        vertical-align: middle;\n",
       "    }\n",
       "\n",
       "    .dataframe tbody tr th {\n",
       "        vertical-align: top;\n",
       "    }\n",
       "\n",
       "    .dataframe thead th {\n",
       "        text-align: right;\n",
       "    }\n",
       "</style>\n",
       "<table border=\"1\" class=\"dataframe\">\n",
       "  <thead>\n",
       "    <tr style=\"text-align: right;\">\n",
       "      <th></th>\n",
       "      <th>movie_id</th>\n",
       "      <th>title</th>\n",
       "      <th>overview</th>\n",
       "      <th>genres</th>\n",
       "      <th>keywords</th>\n",
       "      <th>cast</th>\n",
       "      <th>crew</th>\n",
       "    </tr>\n",
       "  </thead>\n",
       "  <tbody>\n",
       "    <tr>\n",
       "      <th>0</th>\n",
       "      <td>19995</td>\n",
       "      <td>Avatar</td>\n",
       "      <td>In the 22nd century, a paraplegic Marine is di...</td>\n",
       "      <td>[Action, Adventure, Fantasy, Science Fiction]</td>\n",
       "      <td>[{\"id\": 1463, \"name\": \"culture clash\"}, {\"id\":...</td>\n",
       "      <td>[{\"cast_id\": 242, \"character\": \"Jake Sully\", \"...</td>\n",
       "      <td>[{\"credit_id\": \"52fe48009251416c750aca23\", \"de...</td>\n",
       "    </tr>\n",
       "    <tr>\n",
       "      <th>1</th>\n",
       "      <td>285</td>\n",
       "      <td>Pirates of the Caribbean: At World's End</td>\n",
       "      <td>Captain Barbossa, long believed to be dead, ha...</td>\n",
       "      <td>[Adventure, Fantasy, Action]</td>\n",
       "      <td>[{\"id\": 270, \"name\": \"ocean\"}, {\"id\": 726, \"na...</td>\n",
       "      <td>[{\"cast_id\": 4, \"character\": \"Captain Jack Spa...</td>\n",
       "      <td>[{\"credit_id\": \"52fe4232c3a36847f800b579\", \"de...</td>\n",
       "    </tr>\n",
       "    <tr>\n",
       "      <th>2</th>\n",
       "      <td>206647</td>\n",
       "      <td>Spectre</td>\n",
       "      <td>A cryptic message from Bond’s past sends him o...</td>\n",
       "      <td>[Action, Adventure, Crime]</td>\n",
       "      <td>[{\"id\": 470, \"name\": \"spy\"}, {\"id\": 818, \"name...</td>\n",
       "      <td>[{\"cast_id\": 1, \"character\": \"James Bond\", \"cr...</td>\n",
       "      <td>[{\"credit_id\": \"54805967c3a36829b5002c41\", \"de...</td>\n",
       "    </tr>\n",
       "    <tr>\n",
       "      <th>3</th>\n",
       "      <td>49026</td>\n",
       "      <td>The Dark Knight Rises</td>\n",
       "      <td>Following the death of District Attorney Harve...</td>\n",
       "      <td>[Action, Crime, Drama, Thriller]</td>\n",
       "      <td>[{\"id\": 849, \"name\": \"dc comics\"}, {\"id\": 853,...</td>\n",
       "      <td>[{\"cast_id\": 2, \"character\": \"Bruce Wayne / Ba...</td>\n",
       "      <td>[{\"credit_id\": \"52fe4781c3a36847f81398c3\", \"de...</td>\n",
       "    </tr>\n",
       "    <tr>\n",
       "      <th>4</th>\n",
       "      <td>49529</td>\n",
       "      <td>John Carter</td>\n",
       "      <td>John Carter is a war-weary, former military ca...</td>\n",
       "      <td>[Action, Adventure, Science Fiction]</td>\n",
       "      <td>[{\"id\": 818, \"name\": \"based on novel\"}, {\"id\":...</td>\n",
       "      <td>[{\"cast_id\": 5, \"character\": \"John Carter\", \"c...</td>\n",
       "      <td>[{\"credit_id\": \"52fe479ac3a36847f813eaa3\", \"de...</td>\n",
       "    </tr>\n",
       "  </tbody>\n",
       "</table>\n",
       "</div>"
      ],
      "text/plain": [
       "   movie_id                                     title  \\\n",
       "0     19995                                    Avatar   \n",
       "1       285  Pirates of the Caribbean: At World's End   \n",
       "2    206647                                   Spectre   \n",
       "3     49026                     The Dark Knight Rises   \n",
       "4     49529                               John Carter   \n",
       "\n",
       "                                            overview  \\\n",
       "0  In the 22nd century, a paraplegic Marine is di...   \n",
       "1  Captain Barbossa, long believed to be dead, ha...   \n",
       "2  A cryptic message from Bond’s past sends him o...   \n",
       "3  Following the death of District Attorney Harve...   \n",
       "4  John Carter is a war-weary, former military ca...   \n",
       "\n",
       "                                          genres  \\\n",
       "0  [Action, Adventure, Fantasy, Science Fiction]   \n",
       "1                   [Adventure, Fantasy, Action]   \n",
       "2                     [Action, Adventure, Crime]   \n",
       "3               [Action, Crime, Drama, Thriller]   \n",
       "4           [Action, Adventure, Science Fiction]   \n",
       "\n",
       "                                            keywords  \\\n",
       "0  [{\"id\": 1463, \"name\": \"culture clash\"}, {\"id\":...   \n",
       "1  [{\"id\": 270, \"name\": \"ocean\"}, {\"id\": 726, \"na...   \n",
       "2  [{\"id\": 470, \"name\": \"spy\"}, {\"id\": 818, \"name...   \n",
       "3  [{\"id\": 849, \"name\": \"dc comics\"}, {\"id\": 853,...   \n",
       "4  [{\"id\": 818, \"name\": \"based on novel\"}, {\"id\":...   \n",
       "\n",
       "                                                cast  \\\n",
       "0  [{\"cast_id\": 242, \"character\": \"Jake Sully\", \"...   \n",
       "1  [{\"cast_id\": 4, \"character\": \"Captain Jack Spa...   \n",
       "2  [{\"cast_id\": 1, \"character\": \"James Bond\", \"cr...   \n",
       "3  [{\"cast_id\": 2, \"character\": \"Bruce Wayne / Ba...   \n",
       "4  [{\"cast_id\": 5, \"character\": \"John Carter\", \"c...   \n",
       "\n",
       "                                                crew  \n",
       "0  [{\"credit_id\": \"52fe48009251416c750aca23\", \"de...  \n",
       "1  [{\"credit_id\": \"52fe4232c3a36847f800b579\", \"de...  \n",
       "2  [{\"credit_id\": \"54805967c3a36829b5002c41\", \"de...  \n",
       "3  [{\"credit_id\": \"52fe4781c3a36847f81398c3\", \"de...  \n",
       "4  [{\"credit_id\": \"52fe479ac3a36847f813eaa3\", \"de...  "
      ]
     },
     "execution_count": 16,
     "metadata": {},
     "output_type": "execute_result"
    }
   ],
   "source": [
    "movies['genres'] = movies['genres'].apply(convert)\n",
    "movies.head()"
   ]
  },
  {
   "cell_type": "code",
   "execution_count": 17,
   "id": "2b9f80cd",
   "metadata": {},
   "outputs": [
    {
     "data": {
      "text/html": [
       "<div>\n",
       "<style scoped>\n",
       "    .dataframe tbody tr th:only-of-type {\n",
       "        vertical-align: middle;\n",
       "    }\n",
       "\n",
       "    .dataframe tbody tr th {\n",
       "        vertical-align: top;\n",
       "    }\n",
       "\n",
       "    .dataframe thead th {\n",
       "        text-align: right;\n",
       "    }\n",
       "</style>\n",
       "<table border=\"1\" class=\"dataframe\">\n",
       "  <thead>\n",
       "    <tr style=\"text-align: right;\">\n",
       "      <th></th>\n",
       "      <th>movie_id</th>\n",
       "      <th>title</th>\n",
       "      <th>overview</th>\n",
       "      <th>genres</th>\n",
       "      <th>keywords</th>\n",
       "      <th>cast</th>\n",
       "      <th>crew</th>\n",
       "    </tr>\n",
       "  </thead>\n",
       "  <tbody>\n",
       "    <tr>\n",
       "      <th>0</th>\n",
       "      <td>19995</td>\n",
       "      <td>Avatar</td>\n",
       "      <td>In the 22nd century, a paraplegic Marine is di...</td>\n",
       "      <td>[Action, Adventure, Fantasy, Science Fiction]</td>\n",
       "      <td>[culture clash, future, space war, space colon...</td>\n",
       "      <td>[{\"cast_id\": 242, \"character\": \"Jake Sully\", \"...</td>\n",
       "      <td>[{\"credit_id\": \"52fe48009251416c750aca23\", \"de...</td>\n",
       "    </tr>\n",
       "    <tr>\n",
       "      <th>1</th>\n",
       "      <td>285</td>\n",
       "      <td>Pirates of the Caribbean: At World's End</td>\n",
       "      <td>Captain Barbossa, long believed to be dead, ha...</td>\n",
       "      <td>[Adventure, Fantasy, Action]</td>\n",
       "      <td>[ocean, drug abuse, exotic island, east india ...</td>\n",
       "      <td>[{\"cast_id\": 4, \"character\": \"Captain Jack Spa...</td>\n",
       "      <td>[{\"credit_id\": \"52fe4232c3a36847f800b579\", \"de...</td>\n",
       "    </tr>\n",
       "    <tr>\n",
       "      <th>2</th>\n",
       "      <td>206647</td>\n",
       "      <td>Spectre</td>\n",
       "      <td>A cryptic message from Bond’s past sends him o...</td>\n",
       "      <td>[Action, Adventure, Crime]</td>\n",
       "      <td>[spy, based on novel, secret agent, sequel, mi...</td>\n",
       "      <td>[{\"cast_id\": 1, \"character\": \"James Bond\", \"cr...</td>\n",
       "      <td>[{\"credit_id\": \"54805967c3a36829b5002c41\", \"de...</td>\n",
       "    </tr>\n",
       "    <tr>\n",
       "      <th>3</th>\n",
       "      <td>49026</td>\n",
       "      <td>The Dark Knight Rises</td>\n",
       "      <td>Following the death of District Attorney Harve...</td>\n",
       "      <td>[Action, Crime, Drama, Thriller]</td>\n",
       "      <td>[dc comics, crime fighter, terrorist, secret i...</td>\n",
       "      <td>[{\"cast_id\": 2, \"character\": \"Bruce Wayne / Ba...</td>\n",
       "      <td>[{\"credit_id\": \"52fe4781c3a36847f81398c3\", \"de...</td>\n",
       "    </tr>\n",
       "    <tr>\n",
       "      <th>4</th>\n",
       "      <td>49529</td>\n",
       "      <td>John Carter</td>\n",
       "      <td>John Carter is a war-weary, former military ca...</td>\n",
       "      <td>[Action, Adventure, Science Fiction]</td>\n",
       "      <td>[based on novel, mars, medallion, space travel...</td>\n",
       "      <td>[{\"cast_id\": 5, \"character\": \"John Carter\", \"c...</td>\n",
       "      <td>[{\"credit_id\": \"52fe479ac3a36847f813eaa3\", \"de...</td>\n",
       "    </tr>\n",
       "  </tbody>\n",
       "</table>\n",
       "</div>"
      ],
      "text/plain": [
       "   movie_id                                     title  \\\n",
       "0     19995                                    Avatar   \n",
       "1       285  Pirates of the Caribbean: At World's End   \n",
       "2    206647                                   Spectre   \n",
       "3     49026                     The Dark Knight Rises   \n",
       "4     49529                               John Carter   \n",
       "\n",
       "                                            overview  \\\n",
       "0  In the 22nd century, a paraplegic Marine is di...   \n",
       "1  Captain Barbossa, long believed to be dead, ha...   \n",
       "2  A cryptic message from Bond’s past sends him o...   \n",
       "3  Following the death of District Attorney Harve...   \n",
       "4  John Carter is a war-weary, former military ca...   \n",
       "\n",
       "                                          genres  \\\n",
       "0  [Action, Adventure, Fantasy, Science Fiction]   \n",
       "1                   [Adventure, Fantasy, Action]   \n",
       "2                     [Action, Adventure, Crime]   \n",
       "3               [Action, Crime, Drama, Thriller]   \n",
       "4           [Action, Adventure, Science Fiction]   \n",
       "\n",
       "                                            keywords  \\\n",
       "0  [culture clash, future, space war, space colon...   \n",
       "1  [ocean, drug abuse, exotic island, east india ...   \n",
       "2  [spy, based on novel, secret agent, sequel, mi...   \n",
       "3  [dc comics, crime fighter, terrorist, secret i...   \n",
       "4  [based on novel, mars, medallion, space travel...   \n",
       "\n",
       "                                                cast  \\\n",
       "0  [{\"cast_id\": 242, \"character\": \"Jake Sully\", \"...   \n",
       "1  [{\"cast_id\": 4, \"character\": \"Captain Jack Spa...   \n",
       "2  [{\"cast_id\": 1, \"character\": \"James Bond\", \"cr...   \n",
       "3  [{\"cast_id\": 2, \"character\": \"Bruce Wayne / Ba...   \n",
       "4  [{\"cast_id\": 5, \"character\": \"John Carter\", \"c...   \n",
       "\n",
       "                                                crew  \n",
       "0  [{\"credit_id\": \"52fe48009251416c750aca23\", \"de...  \n",
       "1  [{\"credit_id\": \"52fe4232c3a36847f800b579\", \"de...  \n",
       "2  [{\"credit_id\": \"54805967c3a36829b5002c41\", \"de...  \n",
       "3  [{\"credit_id\": \"52fe4781c3a36847f81398c3\", \"de...  \n",
       "4  [{\"credit_id\": \"52fe479ac3a36847f813eaa3\", \"de...  "
      ]
     },
     "execution_count": 17,
     "metadata": {},
     "output_type": "execute_result"
    }
   ],
   "source": [
    "movies['keywords'] = movies['keywords'].apply(convert)\n",
    "movies.head()"
   ]
  },
  {
   "cell_type": "code",
   "execution_count": 18,
   "id": "3fb9f091",
   "metadata": {},
   "outputs": [],
   "source": [
    "#basically this function is to fetch the first 3 character names from movies['cast']\n",
    "def convert3(text):\n",
    "    L = []\n",
    "    counter = 0\n",
    "    for i in ast.literal_eval(text):\n",
    "        if counter < 3:\n",
    "            L.append(i['name'])\n",
    "        counter+=1\n",
    "    return L "
   ]
  },
  {
   "cell_type": "code",
   "execution_count": 19,
   "id": "0ecadd69",
   "metadata": {},
   "outputs": [
    {
     "data": {
      "text/html": [
       "<div>\n",
       "<style scoped>\n",
       "    .dataframe tbody tr th:only-of-type {\n",
       "        vertical-align: middle;\n",
       "    }\n",
       "\n",
       "    .dataframe tbody tr th {\n",
       "        vertical-align: top;\n",
       "    }\n",
       "\n",
       "    .dataframe thead th {\n",
       "        text-align: right;\n",
       "    }\n",
       "</style>\n",
       "<table border=\"1\" class=\"dataframe\">\n",
       "  <thead>\n",
       "    <tr style=\"text-align: right;\">\n",
       "      <th></th>\n",
       "      <th>movie_id</th>\n",
       "      <th>title</th>\n",
       "      <th>overview</th>\n",
       "      <th>genres</th>\n",
       "      <th>keywords</th>\n",
       "      <th>cast</th>\n",
       "      <th>crew</th>\n",
       "    </tr>\n",
       "  </thead>\n",
       "  <tbody>\n",
       "    <tr>\n",
       "      <th>0</th>\n",
       "      <td>19995</td>\n",
       "      <td>Avatar</td>\n",
       "      <td>In the 22nd century, a paraplegic Marine is di...</td>\n",
       "      <td>[Action, Adventure, Fantasy, Science Fiction]</td>\n",
       "      <td>[culture clash, future, space war, space colon...</td>\n",
       "      <td>[Sam Worthington, Zoe Saldana, Sigourney Weave...</td>\n",
       "      <td>[{\"credit_id\": \"52fe48009251416c750aca23\", \"de...</td>\n",
       "    </tr>\n",
       "    <tr>\n",
       "      <th>1</th>\n",
       "      <td>285</td>\n",
       "      <td>Pirates of the Caribbean: At World's End</td>\n",
       "      <td>Captain Barbossa, long believed to be dead, ha...</td>\n",
       "      <td>[Adventure, Fantasy, Action]</td>\n",
       "      <td>[ocean, drug abuse, exotic island, east india ...</td>\n",
       "      <td>[Johnny Depp, Orlando Bloom, Keira Knightley, ...</td>\n",
       "      <td>[{\"credit_id\": \"52fe4232c3a36847f800b579\", \"de...</td>\n",
       "    </tr>\n",
       "    <tr>\n",
       "      <th>2</th>\n",
       "      <td>206647</td>\n",
       "      <td>Spectre</td>\n",
       "      <td>A cryptic message from Bond’s past sends him o...</td>\n",
       "      <td>[Action, Adventure, Crime]</td>\n",
       "      <td>[spy, based on novel, secret agent, sequel, mi...</td>\n",
       "      <td>[Daniel Craig, Christoph Waltz, Léa Seydoux, R...</td>\n",
       "      <td>[{\"credit_id\": \"54805967c3a36829b5002c41\", \"de...</td>\n",
       "    </tr>\n",
       "    <tr>\n",
       "      <th>3</th>\n",
       "      <td>49026</td>\n",
       "      <td>The Dark Knight Rises</td>\n",
       "      <td>Following the death of District Attorney Harve...</td>\n",
       "      <td>[Action, Crime, Drama, Thriller]</td>\n",
       "      <td>[dc comics, crime fighter, terrorist, secret i...</td>\n",
       "      <td>[Christian Bale, Michael Caine, Gary Oldman, A...</td>\n",
       "      <td>[{\"credit_id\": \"52fe4781c3a36847f81398c3\", \"de...</td>\n",
       "    </tr>\n",
       "    <tr>\n",
       "      <th>4</th>\n",
       "      <td>49529</td>\n",
       "      <td>John Carter</td>\n",
       "      <td>John Carter is a war-weary, former military ca...</td>\n",
       "      <td>[Action, Adventure, Science Fiction]</td>\n",
       "      <td>[based on novel, mars, medallion, space travel...</td>\n",
       "      <td>[Taylor Kitsch, Lynn Collins, Samantha Morton,...</td>\n",
       "      <td>[{\"credit_id\": \"52fe479ac3a36847f813eaa3\", \"de...</td>\n",
       "    </tr>\n",
       "  </tbody>\n",
       "</table>\n",
       "</div>"
      ],
      "text/plain": [
       "   movie_id                                     title  \\\n",
       "0     19995                                    Avatar   \n",
       "1       285  Pirates of the Caribbean: At World's End   \n",
       "2    206647                                   Spectre   \n",
       "3     49026                     The Dark Knight Rises   \n",
       "4     49529                               John Carter   \n",
       "\n",
       "                                            overview  \\\n",
       "0  In the 22nd century, a paraplegic Marine is di...   \n",
       "1  Captain Barbossa, long believed to be dead, ha...   \n",
       "2  A cryptic message from Bond’s past sends him o...   \n",
       "3  Following the death of District Attorney Harve...   \n",
       "4  John Carter is a war-weary, former military ca...   \n",
       "\n",
       "                                          genres  \\\n",
       "0  [Action, Adventure, Fantasy, Science Fiction]   \n",
       "1                   [Adventure, Fantasy, Action]   \n",
       "2                     [Action, Adventure, Crime]   \n",
       "3               [Action, Crime, Drama, Thriller]   \n",
       "4           [Action, Adventure, Science Fiction]   \n",
       "\n",
       "                                            keywords  \\\n",
       "0  [culture clash, future, space war, space colon...   \n",
       "1  [ocean, drug abuse, exotic island, east india ...   \n",
       "2  [spy, based on novel, secret agent, sequel, mi...   \n",
       "3  [dc comics, crime fighter, terrorist, secret i...   \n",
       "4  [based on novel, mars, medallion, space travel...   \n",
       "\n",
       "                                                cast  \\\n",
       "0  [Sam Worthington, Zoe Saldana, Sigourney Weave...   \n",
       "1  [Johnny Depp, Orlando Bloom, Keira Knightley, ...   \n",
       "2  [Daniel Craig, Christoph Waltz, Léa Seydoux, R...   \n",
       "3  [Christian Bale, Michael Caine, Gary Oldman, A...   \n",
       "4  [Taylor Kitsch, Lynn Collins, Samantha Morton,...   \n",
       "\n",
       "                                                crew  \n",
       "0  [{\"credit_id\": \"52fe48009251416c750aca23\", \"de...  \n",
       "1  [{\"credit_id\": \"52fe4232c3a36847f800b579\", \"de...  \n",
       "2  [{\"credit_id\": \"54805967c3a36829b5002c41\", \"de...  \n",
       "3  [{\"credit_id\": \"52fe4781c3a36847f81398c3\", \"de...  \n",
       "4  [{\"credit_id\": \"52fe479ac3a36847f813eaa3\", \"de...  "
      ]
     },
     "execution_count": 19,
     "metadata": {},
     "output_type": "execute_result"
    }
   ],
   "source": [
    "\n",
    "movies['cast'] = movies['cast'].apply(convert)\n",
    "movies.head()"
   ]
  },
  {
   "cell_type": "code",
   "execution_count": 20,
   "id": "78374388",
   "metadata": {},
   "outputs": [
    {
     "data": {
      "text/plain": [
       "'[{\"credit_id\": \"52fe48009251416c750aca23\", \"department\": \"Editing\", \"gender\": 0, \"id\": 1721, \"job\": \"Editor\", \"name\": \"Stephen E. Rivkin\"}, {\"credit_id\": \"539c47ecc3a36810e3001f87\", \"department\": \"Art\", \"gender\": 2, \"id\": 496, \"job\": \"Production Design\", \"name\": \"Rick Carter\"}, {\"credit_id\": \"54491c89c3a3680fb4001cf7\", \"department\": \"Sound\", \"gender\": 0, \"id\": 900, \"job\": \"Sound Designer\", \"name\": \"Christopher Boyes\"}, {\"credit_id\": \"54491cb70e0a267480001bd0\", \"department\": \"Sound\", \"gender\": 0, \"id\": 900, \"job\": \"Supervising Sound Editor\", \"name\": \"Christopher Boyes\"}, {\"credit_id\": \"539c4a4cc3a36810c9002101\", \"department\": \"Production\", \"gender\": 1, \"id\": 1262, \"job\": \"Casting\", \"name\": \"Mali Finn\"}, {\"credit_id\": \"5544ee3b925141499f0008fc\", \"department\": \"Sound\", \"gender\": 2, \"id\": 1729, \"job\": \"Original Music Composer\", \"name\": \"James Horner\"}, {\"credit_id\": \"52fe48009251416c750ac9c3\", \"department\": \"Directing\", \"gender\": 2, \"id\": 2710, \"job\": \"Director\", \"name\": \"James Cameron\"}, {\"credit_id\": \"52fe48009251416c750ac9d9\", \"department\": \"Writing\", \"gender\": 2, \"id\": 2710, \"job\": \"Writer\", \"name\": \"James Cameron\"}, {\"credit_id\": \"52fe48009251416c750aca17\", \"department\": \"Editing\", \"gender\": 2, \"id\": 2710, \"job\": \"Editor\", \"name\": \"James Cameron\"}, {\"credit_id\": \"52fe48009251416c750aca29\", \"department\": \"Production\", \"gender\": 2, \"id\": 2710, \"job\": \"Producer\", \"name\": \"James Cameron\"}, {\"credit_id\": \"52fe48009251416c750aca3f\", \"department\": \"Writing\", \"gender\": 2, \"id\": 2710, \"job\": \"Screenplay\", \"name\": \"James Cameron\"}, {\"credit_id\": \"539c4987c3a36810ba0021a4\", \"department\": \"Art\", \"gender\": 2, \"id\": 7236, \"job\": \"Art Direction\", \"name\": \"Andrew Menzies\"}, {\"credit_id\": \"549598c3c3a3686ae9004383\", \"department\": \"Visual Effects\", \"gender\": 0, \"id\": 6690, \"job\": \"Visual Effects Producer\", \"name\": \"Jill Brooks\"}, {\"credit_id\": \"52fe48009251416c750aca4b\", \"department\": \"Production\", \"gender\": 1, \"id\": 6347, \"job\": \"Casting\", \"name\": \"Margery Simkin\"}, {\"credit_id\": \"570b6f419251417da70032fe\", \"department\": \"Art\", \"gender\": 2, \"id\": 6878, \"job\": \"Supervising Art Director\", \"name\": \"Kevin Ishioka\"}, {\"credit_id\": \"5495a0fac3a3686ae9004468\", \"department\": \"Sound\", \"gender\": 0, \"id\": 6883, \"job\": \"Music Editor\", \"name\": \"Dick Bernstein\"}, {\"credit_id\": \"54959706c3a3686af3003e81\", \"department\": \"Sound\", \"gender\": 0, \"id\": 8159, \"job\": \"Sound Effects Editor\", \"name\": \"Shannon Mills\"}, {\"credit_id\": \"54491d58c3a3680fb1001ccb\", \"department\": \"Sound\", \"gender\": 0, \"id\": 8160, \"job\": \"Foley\", \"name\": \"Dennie Thorpe\"}, {\"credit_id\": \"54491d6cc3a3680fa5001b2c\", \"department\": \"Sound\", \"gender\": 0, \"id\": 8163, \"job\": \"Foley\", \"name\": \"Jana Vance\"}, {\"credit_id\": \"52fe48009251416c750aca57\", \"department\": \"Costume & Make-Up\", \"gender\": 1, \"id\": 8527, \"job\": \"Costume Design\", \"name\": \"Deborah Lynn Scott\"}, {\"credit_id\": \"52fe48009251416c750aca2f\", \"department\": \"Production\", \"gender\": 2, \"id\": 8529, \"job\": \"Producer\", \"name\": \"Jon Landau\"}, {\"credit_id\": \"539c4937c3a36810ba002194\", \"department\": \"Art\", \"gender\": 0, \"id\": 9618, \"job\": \"Art Direction\", \"name\": \"Sean Haworth\"}, {\"credit_id\": \"539c49b6c3a36810c10020e6\", \"department\": \"Art\", \"gender\": 1, \"id\": 12653, \"job\": \"Set Decoration\", \"name\": \"Kim Sinclair\"}, {\"credit_id\": \"570b6f2f9251413a0e00020d\", \"department\": \"Art\", \"gender\": 1, \"id\": 12653, \"job\": \"Supervising Art Director\", \"name\": \"Kim Sinclair\"}, {\"credit_id\": \"54491a6c0e0a26748c001b19\", \"department\": \"Art\", \"gender\": 2, \"id\": 14350, \"job\": \"Set Designer\", \"name\": \"Richard F. Mays\"}, {\"credit_id\": \"56928cf4c3a3684cff0025c4\", \"department\": \"Production\", \"gender\": 1, \"id\": 20294, \"job\": \"Executive Producer\", \"name\": \"Laeta Kalogridis\"}, {\"credit_id\": \"52fe48009251416c750aca51\", \"department\": \"Costume & Make-Up\", \"gender\": 0, \"id\": 17675, \"job\": \"Costume Design\", \"name\": \"Mayes C. Rubeo\"}, {\"credit_id\": \"52fe48009251416c750aca11\", \"department\": \"Camera\", \"gender\": 2, \"id\": 18265, \"job\": \"Director of Photography\", \"name\": \"Mauro Fiore\"}, {\"credit_id\": \"5449194d0e0a26748f001b39\", \"department\": \"Art\", \"gender\": 0, \"id\": 42281, \"job\": \"Set Designer\", \"name\": \"Scott Herbertson\"}, {\"credit_id\": \"52fe48009251416c750aca05\", \"department\": \"Crew\", \"gender\": 0, \"id\": 42288, \"job\": \"Stunts\", \"name\": \"Woody Schultz\"}, {\"credit_id\": \"5592aefb92514152de0010f5\", \"department\": \"Costume & Make-Up\", \"gender\": 0, \"id\": 29067, \"job\": \"Makeup Artist\", \"name\": \"Linda DeVetta\"}, {\"credit_id\": \"5592afa492514152de00112c\", \"department\": \"Costume & Make-Up\", \"gender\": 0, \"id\": 29067, \"job\": \"Hairstylist\", \"name\": \"Linda DeVetta\"}, {\"credit_id\": \"54959ed592514130fc002e5d\", \"department\": \"Camera\", \"gender\": 2, \"id\": 33302, \"job\": \"Camera Operator\", \"name\": \"Richard Bluck\"}, {\"credit_id\": \"539c4891c3a36810ba002147\", \"department\": \"Art\", \"gender\": 2, \"id\": 33303, \"job\": \"Art Direction\", \"name\": \"Simon Bright\"}, {\"credit_id\": \"54959c069251417a81001f3a\", \"department\": \"Visual Effects\", \"gender\": 0, \"id\": 113145, \"job\": \"Visual Effects Supervisor\", \"name\": \"Richard Martin\"}, {\"credit_id\": \"54959a0dc3a3680ff5002c8d\", \"department\": \"Crew\", \"gender\": 2, \"id\": 58188, \"job\": \"Visual Effects Editor\", \"name\": \"Steve R. Moore\"}, {\"credit_id\": \"52fe48009251416c750aca1d\", \"department\": \"Editing\", \"gender\": 2, \"id\": 58871, \"job\": \"Editor\", \"name\": \"John Refoua\"}, {\"credit_id\": \"54491a4dc3a3680fc30018ca\", \"department\": \"Art\", \"gender\": 0, \"id\": 92359, \"job\": \"Set Designer\", \"name\": \"Karl J. Martin\"}, {\"credit_id\": \"52fe48009251416c750aca35\", \"department\": \"Camera\", \"gender\": 1, \"id\": 72201, \"job\": \"Director of Photography\", \"name\": \"Chiling Lin\"}, {\"credit_id\": \"52fe48009251416c750ac9ff\", \"department\": \"Crew\", \"gender\": 0, \"id\": 89714, \"job\": \"Stunts\", \"name\": \"Ilram Choi\"}, {\"credit_id\": \"54959c529251416e2b004394\", \"department\": \"Visual Effects\", \"gender\": 2, \"id\": 93214, \"job\": \"Visual Effects Supervisor\", \"name\": \"Steven Quale\"}, {\"credit_id\": \"54491edf0e0a267489001c37\", \"department\": \"Crew\", \"gender\": 1, \"id\": 122607, \"job\": \"Dialect Coach\", \"name\": \"Carla Meyer\"}, {\"credit_id\": \"539c485bc3a368653d001a3a\", \"department\": \"Art\", \"gender\": 2, \"id\": 132585, \"job\": \"Art Direction\", \"name\": \"Nick Bassett\"}, {\"credit_id\": \"539c4903c3a368653d001a74\", \"department\": \"Art\", \"gender\": 0, \"id\": 132596, \"job\": \"Art Direction\", \"name\": \"Jill Cormack\"}, {\"credit_id\": \"539c4967c3a368653d001a94\", \"department\": \"Art\", \"gender\": 0, \"id\": 132604, \"job\": \"Art Direction\", \"name\": \"Andy McLaren\"}, {\"credit_id\": \"52fe48009251416c750aca45\", \"department\": \"Crew\", \"gender\": 0, \"id\": 236696, \"job\": \"Motion Capture Artist\", \"name\": \"Terry Notary\"}, {\"credit_id\": \"54959e02c3a3680fc60027d2\", \"department\": \"Crew\", \"gender\": 2, \"id\": 956198, \"job\": \"Stunt Coordinator\", \"name\": \"Garrett Warren\"}, {\"credit_id\": \"54959ca3c3a3686ae300438c\", \"department\": \"Visual Effects\", \"gender\": 2, \"id\": 957874, \"job\": \"Visual Effects Supervisor\", \"name\": \"Jonathan Rothbart\"}, {\"credit_id\": \"570b6f519251412c74001b2f\", \"department\": \"Art\", \"gender\": 0, \"id\": 957889, \"job\": \"Supervising Art Director\", \"name\": \"Stefan Dechant\"}, {\"credit_id\": \"570b6f62c3a3680b77007460\", \"department\": \"Art\", \"gender\": 2, \"id\": 959555, \"job\": \"Supervising Art Director\", \"name\": \"Todd Cherniawsky\"}, {\"credit_id\": \"539c4a3ac3a36810da0021cc\", \"department\": \"Production\", \"gender\": 0, \"id\": 1016177, \"job\": \"Casting\", \"name\": \"Miranda Rivers\"}, {\"credit_id\": \"539c482cc3a36810c1002062\", \"department\": \"Art\", \"gender\": 0, \"id\": 1032536, \"job\": \"Production Design\", \"name\": \"Robert Stromberg\"}, {\"credit_id\": \"539c4b65c3a36810c9002125\", \"department\": \"Costume & Make-Up\", \"gender\": 2, \"id\": 1071680, \"job\": \"Costume Design\", \"name\": \"John Harding\"}, {\"credit_id\": \"54959e6692514130fc002e4e\", \"department\": \"Camera\", \"gender\": 0, \"id\": 1177364, \"job\": \"Steadicam Operator\", \"name\": \"Roberto De Angelis\"}, {\"credit_id\": \"539c49f1c3a368653d001aac\", \"department\": \"Costume & Make-Up\", \"gender\": 2, \"id\": 1202850, \"job\": \"Makeup Department Head\", \"name\": \"Mike Smithson\"}, {\"credit_id\": \"5495999ec3a3686ae100460c\", \"department\": \"Visual Effects\", \"gender\": 0, \"id\": 1204668, \"job\": \"Visual Effects Producer\", \"name\": \"Alain Lalanne\"}, {\"credit_id\": \"54959cdfc3a3681153002729\", \"department\": \"Visual Effects\", \"gender\": 0, \"id\": 1206410, \"job\": \"Visual Effects Supervisor\", \"name\": \"Lucas Salton\"}, {\"credit_id\": \"549596239251417a81001eae\", \"department\": \"Crew\", \"gender\": 0, \"id\": 1234266, \"job\": \"Post Production Supervisor\", \"name\": \"Janace Tashjian\"}, {\"credit_id\": \"54959c859251416e1e003efe\", \"department\": \"Visual Effects\", \"gender\": 0, \"id\": 1271932, \"job\": \"Visual Effects Supervisor\", \"name\": \"Stephen Rosenbaum\"}, {\"credit_id\": \"5592af28c3a368775a00105f\", \"department\": \"Costume & Make-Up\", \"gender\": 0, \"id\": 1310064, \"job\": \"Makeup Artist\", \"name\": \"Frankie Karena\"}, {\"credit_id\": \"539c4adfc3a36810e300203b\", \"department\": \"Costume & Make-Up\", \"gender\": 1, \"id\": 1319844, \"job\": \"Costume Supervisor\", \"name\": \"Lisa Lovaas\"}, {\"credit_id\": \"54959b579251416e2b004371\", \"department\": \"Visual Effects\", \"gender\": 0, \"id\": 1327028, \"job\": \"Visual Effects Supervisor\", \"name\": \"Jonathan Fawkner\"}, {\"credit_id\": \"539c48a7c3a36810b5001fa7\", \"department\": \"Art\", \"gender\": 0, \"id\": 1330561, \"job\": \"Art Direction\", \"name\": \"Robert Bavin\"}, {\"credit_id\": \"539c4a71c3a36810da0021e0\", \"department\": \"Costume & Make-Up\", \"gender\": 0, \"id\": 1330567, \"job\": \"Costume Supervisor\", \"name\": \"Anthony Almaraz\"}, {\"credit_id\": \"539c4a8ac3a36810ba0021e4\", \"department\": \"Costume & Make-Up\", \"gender\": 0, \"id\": 1330570, \"job\": \"Costume Supervisor\", \"name\": \"Carolyn M. Fenton\"}, {\"credit_id\": \"539c4ab6c3a36810da0021f0\", \"department\": \"Costume & Make-Up\", \"gender\": 0, \"id\": 1330574, \"job\": \"Costume Supervisor\", \"name\": \"Beth Koenigsberg\"}, {\"credit_id\": \"54491ab70e0a267480001ba2\", \"department\": \"Art\", \"gender\": 0, \"id\": 1336191, \"job\": \"Set Designer\", \"name\": \"Sam Page\"}, {\"credit_id\": \"544919d9c3a3680fc30018bd\", \"department\": \"Art\", \"gender\": 0, \"id\": 1339441, \"job\": \"Set Designer\", \"name\": \"Tex Kadonaga\"}, {\"credit_id\": \"54491cf50e0a267483001b0c\", \"department\": \"Editing\", \"gender\": 0, \"id\": 1352422, \"job\": \"Dialogue Editor\", \"name\": \"Kim Foscato\"}, {\"credit_id\": \"544919f40e0a26748c001b09\", \"department\": \"Art\", \"gender\": 0, \"id\": 1352962, \"job\": \"Set Designer\", \"name\": \"Tammy S. Lee\"}, {\"credit_id\": \"5495a115c3a3680ff5002d71\", \"department\": \"Crew\", \"gender\": 0, \"id\": 1357070, \"job\": \"Transportation Coordinator\", \"name\": \"Denny Caira\"}, {\"credit_id\": \"5495a12f92514130fc002e94\", \"department\": \"Crew\", \"gender\": 0, \"id\": 1357071, \"job\": \"Transportation Coordinator\", \"name\": \"James Waitkus\"}, {\"credit_id\": \"5495976fc3a36811530026b0\", \"department\": \"Sound\", \"gender\": 0, \"id\": 1360103, \"job\": \"Supervising Sound Editor\", \"name\": \"Addison Teague\"}, {\"credit_id\": \"54491837c3a3680fb1001c5a\", \"department\": \"Art\", \"gender\": 2, \"id\": 1376887, \"job\": \"Set Designer\", \"name\": \"C. Scott Baker\"}, {\"credit_id\": \"54491878c3a3680fb4001c9d\", \"department\": \"Art\", \"gender\": 0, \"id\": 1376888, \"job\": \"Set Designer\", \"name\": \"Luke Caska\"}, {\"credit_id\": \"544918dac3a3680fa5001ae0\", \"department\": \"Art\", \"gender\": 0, \"id\": 1376889, \"job\": \"Set Designer\", \"name\": \"David Chow\"}, {\"credit_id\": \"544919110e0a267486001b68\", \"department\": \"Art\", \"gender\": 0, \"id\": 1376890, \"job\": \"Set Designer\", \"name\": \"Jonathan Dyer\"}, {\"credit_id\": \"54491967c3a3680faa001b5e\", \"department\": \"Art\", \"gender\": 0, \"id\": 1376891, \"job\": \"Set Designer\", \"name\": \"Joseph Hiura\"}, {\"credit_id\": \"54491997c3a3680fb1001c8a\", \"department\": \"Art\", \"gender\": 0, \"id\": 1376892, \"job\": \"Art Department Coordinator\", \"name\": \"Rebecca Jellie\"}, {\"credit_id\": \"544919ba0e0a26748f001b42\", \"department\": \"Art\", \"gender\": 0, \"id\": 1376893, \"job\": \"Set Designer\", \"name\": \"Robert Andrew Johnson\"}, {\"credit_id\": \"54491b1dc3a3680faa001b8c\", \"department\": \"Art\", \"gender\": 0, \"id\": 1376895, \"job\": \"Assistant Art Director\", \"name\": \"Mike Stassi\"}, {\"credit_id\": \"54491b79c3a3680fbb001826\", \"department\": \"Art\", \"gender\": 0, \"id\": 1376897, \"job\": \"Construction Coordinator\", \"name\": \"John Villarino\"}, {\"credit_id\": \"54491baec3a3680fb4001ce6\", \"department\": \"Art\", \"gender\": 2, \"id\": 1376898, \"job\": \"Assistant Art Director\", \"name\": \"Jeffrey Wisniewski\"}, {\"credit_id\": \"54491d2fc3a3680fb4001d07\", \"department\": \"Editing\", \"gender\": 0, \"id\": 1376899, \"job\": \"Dialogue Editor\", \"name\": \"Cheryl Nardi\"}, {\"credit_id\": \"54491d86c3a3680fa5001b2f\", \"department\": \"Editing\", \"gender\": 0, \"id\": 1376901, \"job\": \"Dialogue Editor\", \"name\": \"Marshall Winn\"}, {\"credit_id\": \"54491d9dc3a3680faa001bb0\", \"department\": \"Sound\", \"gender\": 0, \"id\": 1376902, \"job\": \"Supervising Sound Editor\", \"name\": \"Gwendolyn Yates Whittle\"}, {\"credit_id\": \"54491dc10e0a267486001bce\", \"department\": \"Sound\", \"gender\": 0, \"id\": 1376903, \"job\": \"Sound Re-Recording Mixer\", \"name\": \"William Stein\"}, {\"credit_id\": \"54491f500e0a26747c001c07\", \"department\": \"Crew\", \"gender\": 0, \"id\": 1376909, \"job\": \"Choreographer\", \"name\": \"Lula Washington\"}, {\"credit_id\": \"549599239251412c4e002a2e\", \"department\": \"Visual Effects\", \"gender\": 0, \"id\": 1391692, \"job\": \"Visual Effects Producer\", \"name\": \"Chris Del Conte\"}, {\"credit_id\": \"54959d54c3a36831b8001d9a\", \"department\": \"Visual Effects\", \"gender\": 2, \"id\": 1391695, \"job\": \"Visual Effects Supervisor\", \"name\": \"R. Christopher White\"}, {\"credit_id\": \"54959bdf9251412c4e002a66\", \"department\": \"Visual Effects\", \"gender\": 0, \"id\": 1394070, \"job\": \"Visual Effects Supervisor\", \"name\": \"Dan Lemmon\"}, {\"credit_id\": \"5495971d92514132ed002922\", \"department\": \"Sound\", \"gender\": 0, \"id\": 1394129, \"job\": \"Sound Effects Editor\", \"name\": \"Tim Nielsen\"}, {\"credit_id\": \"5592b25792514152cc0011aa\", \"department\": \"Crew\", \"gender\": 0, \"id\": 1394286, \"job\": \"CG Supervisor\", \"name\": \"Michael Mulholland\"}, {\"credit_id\": \"54959a329251416e2b004355\", \"department\": \"Crew\", \"gender\": 0, \"id\": 1394750, \"job\": \"Visual Effects Editor\", \"name\": \"Thomas Nittmann\"}, {\"credit_id\": \"54959d6dc3a3686ae9004401\", \"department\": \"Visual Effects\", \"gender\": 0, \"id\": 1394755, \"job\": \"Visual Effects Supervisor\", \"name\": \"Edson Williams\"}, {\"credit_id\": \"5495a08fc3a3686ae300441c\", \"department\": \"Editing\", \"gender\": 0, \"id\": 1394953, \"job\": \"Digital Intermediate\", \"name\": \"Christine Carr\"}, {\"credit_id\": \"55402d659251413d6d000249\", \"department\": \"Visual Effects\", \"gender\": 0, \"id\": 1395269, \"job\": \"Visual Effects Supervisor\", \"name\": \"John Bruno\"}, {\"credit_id\": \"54959e7b9251416e1e003f3e\", \"department\": \"Camera\", \"gender\": 0, \"id\": 1398970, \"job\": \"Steadicam Operator\", \"name\": \"David Emmerichs\"}, {\"credit_id\": \"54959734c3a3686ae10045e0\", \"department\": \"Sound\", \"gender\": 0, \"id\": 1400906, \"job\": \"Sound Effects Editor\", \"name\": \"Christopher Scarabosio\"}, {\"credit_id\": \"549595dd92514130fc002d79\", \"department\": \"Production\", \"gender\": 0, \"id\": 1401784, \"job\": \"Production Supervisor\", \"name\": \"Jennifer Teves\"}, {\"credit_id\": \"549596009251413af70028cc\", \"department\": \"Production\", \"gender\": 0, \"id\": 1401785, \"job\": \"Production Manager\", \"name\": \"Brigitte Yorke\"}, {\"credit_id\": \"549596e892514130fc002d99\", \"department\": \"Sound\", \"gender\": 0, \"id\": 1401786, \"job\": \"Sound Effects Editor\", \"name\": \"Ken Fischer\"}, {\"credit_id\": \"549598229251412c4e002a1c\", \"department\": \"Crew\", \"gender\": 0, \"id\": 1401787, \"job\": \"Special Effects Coordinator\", \"name\": \"Iain Hutton\"}, {\"credit_id\": \"549598349251416e2b00432b\", \"department\": \"Crew\", \"gender\": 0, \"id\": 1401788, \"job\": \"Special Effects Coordinator\", \"name\": \"Steve Ingram\"}, {\"credit_id\": \"54959905c3a3686ae3004324\", \"department\": \"Visual Effects\", \"gender\": 0, \"id\": 1401789, \"job\": \"Visual Effects Producer\", \"name\": \"Joyce Cox\"}, {\"credit_id\": \"5495994b92514132ed002951\", \"department\": \"Visual Effects\", \"gender\": 0, \"id\": 1401790, \"job\": \"Visual Effects Producer\", \"name\": \"Jenny Foster\"}, {\"credit_id\": \"549599cbc3a3686ae1004613\", \"department\": \"Crew\", \"gender\": 0, \"id\": 1401791, \"job\": \"Visual Effects Editor\", \"name\": \"Christopher Marino\"}, {\"credit_id\": \"549599f2c3a3686ae100461e\", \"department\": \"Crew\", \"gender\": 0, \"id\": 1401792, \"job\": \"Visual Effects Editor\", \"name\": \"Jim Milton\"}, {\"credit_id\": \"54959a51c3a3686af3003eb5\", \"department\": \"Visual Effects\", \"gender\": 0, \"id\": 1401793, \"job\": \"Visual Effects Producer\", \"name\": \"Cyndi Ochs\"}, {\"credit_id\": \"54959a7cc3a36811530026f4\", \"department\": \"Crew\", \"gender\": 0, \"id\": 1401794, \"job\": \"Visual Effects Editor\", \"name\": \"Lucas Putnam\"}, {\"credit_id\": \"54959b91c3a3680ff5002cb4\", \"department\": \"Visual Effects\", \"gender\": 0, \"id\": 1401795, \"job\": \"Visual Effects Supervisor\", \"name\": \"Anthony \\'Max\\' Ivins\"}, {\"credit_id\": \"54959bb69251412c4e002a5f\", \"department\": \"Visual Effects\", \"gender\": 0, \"id\": 1401796, \"job\": \"Visual Effects Supervisor\", \"name\": \"John Knoll\"}, {\"credit_id\": \"54959cbbc3a3686ae3004391\", \"department\": \"Visual Effects\", \"gender\": 2, \"id\": 1401799, \"job\": \"Visual Effects Supervisor\", \"name\": \"Eric Saindon\"}, {\"credit_id\": \"54959d06c3a3686ae90043f6\", \"department\": \"Visual Effects\", \"gender\": 0, \"id\": 1401800, \"job\": \"Visual Effects Supervisor\", \"name\": \"Wayne Stables\"}, {\"credit_id\": \"54959d259251416e1e003f11\", \"department\": \"Visual Effects\", \"gender\": 0, \"id\": 1401801, \"job\": \"Visual Effects Supervisor\", \"name\": \"David Stinnett\"}, {\"credit_id\": \"54959db49251413af7002975\", \"department\": \"Visual Effects\", \"gender\": 0, \"id\": 1401803, \"job\": \"Visual Effects Supervisor\", \"name\": \"Guy Williams\"}, {\"credit_id\": \"54959de4c3a3681153002750\", \"department\": \"Crew\", \"gender\": 0, \"id\": 1401804, \"job\": \"Stunt Coordinator\", \"name\": \"Stuart Thorp\"}, {\"credit_id\": \"54959ef2c3a3680fc60027f2\", \"department\": \"Lighting\", \"gender\": 0, \"id\": 1401805, \"job\": \"Best Boy Electric\", \"name\": \"Giles Coburn\"}, {\"credit_id\": \"54959f07c3a3680fc60027f9\", \"department\": \"Camera\", \"gender\": 2, \"id\": 1401806, \"job\": \"Still Photographer\", \"name\": \"Mark Fellman\"}, {\"credit_id\": \"54959f47c3a3681153002774\", \"department\": \"Lighting\", \"gender\": 0, \"id\": 1401807, \"job\": \"Lighting Technician\", \"name\": \"Scott Sprague\"}, {\"credit_id\": \"54959f8cc3a36831b8001df2\", \"department\": \"Visual Effects\", \"gender\": 0, \"id\": 1401808, \"job\": \"Animation Director\", \"name\": \"Jeremy Hollobon\"}, {\"credit_id\": \"54959fa0c3a36831b8001dfb\", \"department\": \"Visual Effects\", \"gender\": 0, \"id\": 1401809, \"job\": \"Animation Director\", \"name\": \"Orlando Meunier\"}, {\"credit_id\": \"54959fb6c3a3686af3003f54\", \"department\": \"Visual Effects\", \"gender\": 0, \"id\": 1401810, \"job\": \"Animation Director\", \"name\": \"Taisuke Tanimura\"}, {\"credit_id\": \"54959fd2c3a36831b8001e02\", \"department\": \"Costume & Make-Up\", \"gender\": 0, \"id\": 1401812, \"job\": \"Set Costumer\", \"name\": \"Lilia Mishel Acevedo\"}, {\"credit_id\": \"54959ff9c3a3686ae300440c\", \"department\": \"Costume & Make-Up\", \"gender\": 0, \"id\": 1401814, \"job\": \"Set Costumer\", \"name\": \"Alejandro M. Hernandez\"}, {\"credit_id\": \"5495a0ddc3a3686ae10046fe\", \"department\": \"Editing\", \"gender\": 0, \"id\": 1401815, \"job\": \"Digital Intermediate\", \"name\": \"Marvin Hall\"}, {\"credit_id\": \"5495a1f7c3a3686ae3004443\", \"department\": \"Production\", \"gender\": 0, \"id\": 1401816, \"job\": \"Publicist\", \"name\": \"Judy Alley\"}, {\"credit_id\": \"5592b29fc3a36869d100002f\", \"department\": \"Crew\", \"gender\": 0, \"id\": 1418381, \"job\": \"CG Supervisor\", \"name\": \"Mike Perry\"}, {\"credit_id\": \"5592b23a9251415df8001081\", \"department\": \"Crew\", \"gender\": 0, \"id\": 1426854, \"job\": \"CG Supervisor\", \"name\": \"Andrew Morley\"}, {\"credit_id\": \"55491e1192514104c40002d8\", \"department\": \"Art\", \"gender\": 0, \"id\": 1438901, \"job\": \"Conceptual Design\", \"name\": \"Seth Engstrom\"}, {\"credit_id\": \"5525d5809251417276002b06\", \"department\": \"Crew\", \"gender\": 0, \"id\": 1447362, \"job\": \"Visual Effects Art Director\", \"name\": \"Eric Oliver\"}, {\"credit_id\": \"554427ca925141586500312a\", \"department\": \"Visual Effects\", \"gender\": 0, \"id\": 1447503, \"job\": \"Modeling\", \"name\": \"Matsune Suzuki\"}, {\"credit_id\": \"551906889251415aab001c88\", \"department\": \"Art\", \"gender\": 0, \"id\": 1447524, \"job\": \"Art Department Manager\", \"name\": \"Paul Tobin\"}, {\"credit_id\": \"5592af8492514152cc0010de\", \"department\": \"Costume & Make-Up\", \"gender\": 0, \"id\": 1452643, \"job\": \"Hairstylist\", \"name\": \"Roxane Griffin\"}, {\"credit_id\": \"553d3c109251415852001318\", \"department\": \"Lighting\", \"gender\": 0, \"id\": 1453938, \"job\": \"Lighting Artist\", \"name\": \"Arun Ram-Mohan\"}, {\"credit_id\": \"5592af4692514152d5001355\", \"department\": \"Costume & Make-Up\", \"gender\": 0, \"id\": 1457305, \"job\": \"Makeup Artist\", \"name\": \"Georgia Lockhart-Adams\"}, {\"credit_id\": \"5592b2eac3a36877470012a5\", \"department\": \"Crew\", \"gender\": 0, \"id\": 1466035, \"job\": \"CG Supervisor\", \"name\": \"Thrain Shadbolt\"}, {\"credit_id\": \"5592b032c3a36877450015f1\", \"department\": \"Crew\", \"gender\": 0, \"id\": 1483220, \"job\": \"CG Supervisor\", \"name\": \"Brad Alexander\"}, {\"credit_id\": \"5592b05592514152d80012f6\", \"department\": \"Crew\", \"gender\": 0, \"id\": 1483221, \"job\": \"CG Supervisor\", \"name\": \"Shadi Almassizadeh\"}, {\"credit_id\": \"5592b090c3a36877570010b5\", \"department\": \"Crew\", \"gender\": 0, \"id\": 1483222, \"job\": \"CG Supervisor\", \"name\": \"Simon Clutterbuck\"}, {\"credit_id\": \"5592b0dbc3a368774b00112c\", \"department\": \"Crew\", \"gender\": 0, \"id\": 1483223, \"job\": \"CG Supervisor\", \"name\": \"Graeme Demmocks\"}, {\"credit_id\": \"5592b0fe92514152db0010c1\", \"department\": \"Crew\", \"gender\": 0, \"id\": 1483224, \"job\": \"CG Supervisor\", \"name\": \"Adrian Fernandes\"}, {\"credit_id\": \"5592b11f9251415df8001059\", \"department\": \"Crew\", \"gender\": 0, \"id\": 1483225, \"job\": \"CG Supervisor\", \"name\": \"Mitch Gates\"}, {\"credit_id\": \"5592b15dc3a3687745001645\", \"department\": \"Crew\", \"gender\": 0, \"id\": 1483226, \"job\": \"CG Supervisor\", \"name\": \"Jerry Kung\"}, {\"credit_id\": \"5592b18e925141645a0004ae\", \"department\": \"Crew\", \"gender\": 0, \"id\": 1483227, \"job\": \"CG Supervisor\", \"name\": \"Andy Lomas\"}, {\"credit_id\": \"5592b1bfc3a368775d0010e7\", \"department\": \"Crew\", \"gender\": 0, \"id\": 1483228, \"job\": \"CG Supervisor\", \"name\": \"Sebastian Marino\"}, {\"credit_id\": \"5592b2049251415df8001078\", \"department\": \"Crew\", \"gender\": 0, \"id\": 1483229, \"job\": \"CG Supervisor\", \"name\": \"Matthias Menz\"}, {\"credit_id\": \"5592b27b92514152d800136a\", \"department\": \"Crew\", \"gender\": 0, \"id\": 1483230, \"job\": \"CG Supervisor\", \"name\": \"Sergei Nevshupov\"}, {\"credit_id\": \"5592b2c3c3a36869e800003c\", \"department\": \"Crew\", \"gender\": 0, \"id\": 1483231, \"job\": \"CG Supervisor\", \"name\": \"Philippe Rebours\"}, {\"credit_id\": \"5592b317c3a36877470012af\", \"department\": \"Crew\", \"gender\": 0, \"id\": 1483232, \"job\": \"CG Supervisor\", \"name\": \"Michael Takarangi\"}, {\"credit_id\": \"5592b345c3a36877470012bb\", \"department\": \"Crew\", \"gender\": 0, \"id\": 1483233, \"job\": \"CG Supervisor\", \"name\": \"David Weitzberg\"}, {\"credit_id\": \"5592b37cc3a368775100113b\", \"department\": \"Crew\", \"gender\": 0, \"id\": 1483234, \"job\": \"CG Supervisor\", \"name\": \"Ben White\"}, {\"credit_id\": \"573c8e2f9251413f5d000094\", \"department\": \"Crew\", \"gender\": 1, \"id\": 1621932, \"job\": \"Stunts\", \"name\": \"Min Windle\"}]'"
      ]
     },
     "execution_count": 20,
     "metadata": {},
     "output_type": "execute_result"
    }
   ],
   "source": [
    "movies['crew'][0] #we need only director"
   ]
  },
  {
   "cell_type": "code",
   "execution_count": 21,
   "id": "b8081b05",
   "metadata": {},
   "outputs": [],
   "source": [
    "def fetch_director(text):\n",
    "    L = []\n",
    "    for i in ast.literal_eval(text):\n",
    "        if i['job'] == 'Director':\n",
    "            L.append(i['name'])\n",
    "    return L "
   ]
  },
  {
   "cell_type": "code",
   "execution_count": 22,
   "id": "86c7e090",
   "metadata": {},
   "outputs": [],
   "source": [
    "movies['crew'] = movies['crew'].apply(fetch_director)"
   ]
  },
  {
   "cell_type": "code",
   "execution_count": 23,
   "id": "b42ee67b",
   "metadata": {},
   "outputs": [
    {
     "data": {
      "text/html": [
       "<div>\n",
       "<style scoped>\n",
       "    .dataframe tbody tr th:only-of-type {\n",
       "        vertical-align: middle;\n",
       "    }\n",
       "\n",
       "    .dataframe tbody tr th {\n",
       "        vertical-align: top;\n",
       "    }\n",
       "\n",
       "    .dataframe thead th {\n",
       "        text-align: right;\n",
       "    }\n",
       "</style>\n",
       "<table border=\"1\" class=\"dataframe\">\n",
       "  <thead>\n",
       "    <tr style=\"text-align: right;\">\n",
       "      <th></th>\n",
       "      <th>movie_id</th>\n",
       "      <th>title</th>\n",
       "      <th>overview</th>\n",
       "      <th>genres</th>\n",
       "      <th>keywords</th>\n",
       "      <th>cast</th>\n",
       "      <th>crew</th>\n",
       "    </tr>\n",
       "  </thead>\n",
       "  <tbody>\n",
       "    <tr>\n",
       "      <th>3956</th>\n",
       "      <td>79940</td>\n",
       "      <td>Tim and Eric's Billion Dollar Movie</td>\n",
       "      <td>Two guys get a billion dollars to make a movie...</td>\n",
       "      <td>[Comedy]</td>\n",
       "      <td>[restaurant, wolf, shopping mall, filmmaker, b...</td>\n",
       "      <td>[Eric Wareheim, Tim Heidecker, John C. Reilly,...</td>\n",
       "      <td>[Tim Heidecker, Eric Wareheim]</td>\n",
       "    </tr>\n",
       "    <tr>\n",
       "      <th>2000</th>\n",
       "      <td>10866</td>\n",
       "      <td>Joy Ride</td>\n",
       "      <td>Three young people on a road trip from Colorad...</td>\n",
       "      <td>[Mystery, Thriller, Drama]</td>\n",
       "      <td>[colorado, friendship, stalker, pokies, truck ...</td>\n",
       "      <td>[Steve Zahn, Paul Walker, Leelee Sobieski, Jes...</td>\n",
       "      <td>[John Dahl]</td>\n",
       "    </tr>\n",
       "    <tr>\n",
       "      <th>492</th>\n",
       "      <td>293644</td>\n",
       "      <td>Top Cat Begins</td>\n",
       "      <td>Top Cat has arrived to charm his way into your...</td>\n",
       "      <td>[Comedy, Animation]</td>\n",
       "      <td>[3d]</td>\n",
       "      <td>[Jason Harris, David Hoffman, Bill Lobley, Dar...</td>\n",
       "      <td>[Andrés Couturier]</td>\n",
       "    </tr>\n",
       "    <tr>\n",
       "      <th>969</th>\n",
       "      <td>9691</td>\n",
       "      <td>Assassins</td>\n",
       "      <td>Assassin Robert Rath arrives at a funeral to k...</td>\n",
       "      <td>[Action, Adventure, Crime, Thriller]</td>\n",
       "      <td>[competition, assassination, cia, bank, cat, m...</td>\n",
       "      <td>[Sylvester Stallone, Antonio Banderas, Juliann...</td>\n",
       "      <td>[Richard Donner]</td>\n",
       "    </tr>\n",
       "    <tr>\n",
       "      <th>815</th>\n",
       "      <td>8488</td>\n",
       "      <td>Hitch</td>\n",
       "      <td>Dating coach Alex 'Hitch' Hitchens mentors a b...</td>\n",
       "      <td>[Comedy, Drama, Romance]</td>\n",
       "      <td>[speed date, romantic comedy, dating]</td>\n",
       "      <td>[Will Smith, Eva Mendes, Kevin James, Amber Va...</td>\n",
       "      <td>[Andy Tennant]</td>\n",
       "    </tr>\n",
       "  </tbody>\n",
       "</table>\n",
       "</div>"
      ],
      "text/plain": [
       "      movie_id                                title  \\\n",
       "3956     79940  Tim and Eric's Billion Dollar Movie   \n",
       "2000     10866                             Joy Ride   \n",
       "492     293644                       Top Cat Begins   \n",
       "969       9691                            Assassins   \n",
       "815       8488                                Hitch   \n",
       "\n",
       "                                               overview  \\\n",
       "3956  Two guys get a billion dollars to make a movie...   \n",
       "2000  Three young people on a road trip from Colorad...   \n",
       "492   Top Cat has arrived to charm his way into your...   \n",
       "969   Assassin Robert Rath arrives at a funeral to k...   \n",
       "815   Dating coach Alex 'Hitch' Hitchens mentors a b...   \n",
       "\n",
       "                                    genres  \\\n",
       "3956                              [Comedy]   \n",
       "2000            [Mystery, Thriller, Drama]   \n",
       "492                    [Comedy, Animation]   \n",
       "969   [Action, Adventure, Crime, Thriller]   \n",
       "815               [Comedy, Drama, Romance]   \n",
       "\n",
       "                                               keywords  \\\n",
       "3956  [restaurant, wolf, shopping mall, filmmaker, b...   \n",
       "2000  [colorado, friendship, stalker, pokies, truck ...   \n",
       "492                                                [3d]   \n",
       "969   [competition, assassination, cia, bank, cat, m...   \n",
       "815               [speed date, romantic comedy, dating]   \n",
       "\n",
       "                                                   cast  \\\n",
       "3956  [Eric Wareheim, Tim Heidecker, John C. Reilly,...   \n",
       "2000  [Steve Zahn, Paul Walker, Leelee Sobieski, Jes...   \n",
       "492   [Jason Harris, David Hoffman, Bill Lobley, Dar...   \n",
       "969   [Sylvester Stallone, Antonio Banderas, Juliann...   \n",
       "815   [Will Smith, Eva Mendes, Kevin James, Amber Va...   \n",
       "\n",
       "                                crew  \n",
       "3956  [Tim Heidecker, Eric Wareheim]  \n",
       "2000                     [John Dahl]  \n",
       "492               [Andrés Couturier]  \n",
       "969                 [Richard Donner]  \n",
       "815                   [Andy Tennant]  "
      ]
     },
     "execution_count": 23,
     "metadata": {},
     "output_type": "execute_result"
    }
   ],
   "source": [
    "movies.sample(5)"
   ]
  },
  {
   "cell_type": "code",
   "execution_count": 24,
   "id": "8318dbfa",
   "metadata": {},
   "outputs": [
    {
     "data": {
      "text/plain": [
       "'In the 22nd century, a paraplegic Marine is dispatched to the moon Pandora on a unique mission, but becomes torn between following orders and protecting an alien civilization.'"
      ]
     },
     "execution_count": 24,
     "metadata": {},
     "output_type": "execute_result"
    }
   ],
   "source": [
    "movies['overview'][0] #ye string form mei hai, hm ise bhi list mei convert krenge taaki baaki list ke saath concatenate kr paaye"
   ]
  },
  {
   "cell_type": "code",
   "execution_count": 25,
   "id": "36b7f2d0",
   "metadata": {},
   "outputs": [],
   "source": [
    "movies['overview'] = movies['overview'].apply(lambda x:x.split())"
   ]
  },
  {
   "cell_type": "code",
   "execution_count": 26,
   "id": "af68be23",
   "metadata": {},
   "outputs": [
    {
     "data": {
      "text/html": [
       "<div>\n",
       "<style scoped>\n",
       "    .dataframe tbody tr th:only-of-type {\n",
       "        vertical-align: middle;\n",
       "    }\n",
       "\n",
       "    .dataframe tbody tr th {\n",
       "        vertical-align: top;\n",
       "    }\n",
       "\n",
       "    .dataframe thead th {\n",
       "        text-align: right;\n",
       "    }\n",
       "</style>\n",
       "<table border=\"1\" class=\"dataframe\">\n",
       "  <thead>\n",
       "    <tr style=\"text-align: right;\">\n",
       "      <th></th>\n",
       "      <th>movie_id</th>\n",
       "      <th>title</th>\n",
       "      <th>overview</th>\n",
       "      <th>genres</th>\n",
       "      <th>keywords</th>\n",
       "      <th>cast</th>\n",
       "      <th>crew</th>\n",
       "    </tr>\n",
       "  </thead>\n",
       "  <tbody>\n",
       "    <tr>\n",
       "      <th>0</th>\n",
       "      <td>19995</td>\n",
       "      <td>Avatar</td>\n",
       "      <td>[In, the, 22nd, century,, a, paraplegic, Marin...</td>\n",
       "      <td>[Action, Adventure, Fantasy, Science Fiction]</td>\n",
       "      <td>[culture clash, future, space war, space colon...</td>\n",
       "      <td>[Sam Worthington, Zoe Saldana, Sigourney Weave...</td>\n",
       "      <td>[James Cameron]</td>\n",
       "    </tr>\n",
       "    <tr>\n",
       "      <th>1</th>\n",
       "      <td>285</td>\n",
       "      <td>Pirates of the Caribbean: At World's End</td>\n",
       "      <td>[Captain, Barbossa,, long, believed, to, be, d...</td>\n",
       "      <td>[Adventure, Fantasy, Action]</td>\n",
       "      <td>[ocean, drug abuse, exotic island, east india ...</td>\n",
       "      <td>[Johnny Depp, Orlando Bloom, Keira Knightley, ...</td>\n",
       "      <td>[Gore Verbinski]</td>\n",
       "    </tr>\n",
       "    <tr>\n",
       "      <th>2</th>\n",
       "      <td>206647</td>\n",
       "      <td>Spectre</td>\n",
       "      <td>[A, cryptic, message, from, Bond’s, past, send...</td>\n",
       "      <td>[Action, Adventure, Crime]</td>\n",
       "      <td>[spy, based on novel, secret agent, sequel, mi...</td>\n",
       "      <td>[Daniel Craig, Christoph Waltz, Léa Seydoux, R...</td>\n",
       "      <td>[Sam Mendes]</td>\n",
       "    </tr>\n",
       "    <tr>\n",
       "      <th>3</th>\n",
       "      <td>49026</td>\n",
       "      <td>The Dark Knight Rises</td>\n",
       "      <td>[Following, the, death, of, District, Attorney...</td>\n",
       "      <td>[Action, Crime, Drama, Thriller]</td>\n",
       "      <td>[dc comics, crime fighter, terrorist, secret i...</td>\n",
       "      <td>[Christian Bale, Michael Caine, Gary Oldman, A...</td>\n",
       "      <td>[Christopher Nolan]</td>\n",
       "    </tr>\n",
       "    <tr>\n",
       "      <th>4</th>\n",
       "      <td>49529</td>\n",
       "      <td>John Carter</td>\n",
       "      <td>[John, Carter, is, a, war-weary,, former, mili...</td>\n",
       "      <td>[Action, Adventure, Science Fiction]</td>\n",
       "      <td>[based on novel, mars, medallion, space travel...</td>\n",
       "      <td>[Taylor Kitsch, Lynn Collins, Samantha Morton,...</td>\n",
       "      <td>[Andrew Stanton]</td>\n",
       "    </tr>\n",
       "  </tbody>\n",
       "</table>\n",
       "</div>"
      ],
      "text/plain": [
       "   movie_id                                     title  \\\n",
       "0     19995                                    Avatar   \n",
       "1       285  Pirates of the Caribbean: At World's End   \n",
       "2    206647                                   Spectre   \n",
       "3     49026                     The Dark Knight Rises   \n",
       "4     49529                               John Carter   \n",
       "\n",
       "                                            overview  \\\n",
       "0  [In, the, 22nd, century,, a, paraplegic, Marin...   \n",
       "1  [Captain, Barbossa,, long, believed, to, be, d...   \n",
       "2  [A, cryptic, message, from, Bond’s, past, send...   \n",
       "3  [Following, the, death, of, District, Attorney...   \n",
       "4  [John, Carter, is, a, war-weary,, former, mili...   \n",
       "\n",
       "                                          genres  \\\n",
       "0  [Action, Adventure, Fantasy, Science Fiction]   \n",
       "1                   [Adventure, Fantasy, Action]   \n",
       "2                     [Action, Adventure, Crime]   \n",
       "3               [Action, Crime, Drama, Thriller]   \n",
       "4           [Action, Adventure, Science Fiction]   \n",
       "\n",
       "                                            keywords  \\\n",
       "0  [culture clash, future, space war, space colon...   \n",
       "1  [ocean, drug abuse, exotic island, east india ...   \n",
       "2  [spy, based on novel, secret agent, sequel, mi...   \n",
       "3  [dc comics, crime fighter, terrorist, secret i...   \n",
       "4  [based on novel, mars, medallion, space travel...   \n",
       "\n",
       "                                                cast                 crew  \n",
       "0  [Sam Worthington, Zoe Saldana, Sigourney Weave...      [James Cameron]  \n",
       "1  [Johnny Depp, Orlando Bloom, Keira Knightley, ...     [Gore Verbinski]  \n",
       "2  [Daniel Craig, Christoph Waltz, Léa Seydoux, R...         [Sam Mendes]  \n",
       "3  [Christian Bale, Michael Caine, Gary Oldman, A...  [Christopher Nolan]  \n",
       "4  [Taylor Kitsch, Lynn Collins, Samantha Morton,...     [Andrew Stanton]  "
      ]
     },
     "execution_count": 26,
     "metadata": {},
     "output_type": "execute_result"
    }
   ],
   "source": [
    "movies.head()"
   ]
  },
  {
   "cell_type": "code",
   "execution_count": 27,
   "id": "ddfcd72f",
   "metadata": {},
   "outputs": [],
   "source": [
    "# idhr hm words ke bich ka space hta rhe hai which is very important. for more details, timeline -> 50:00\n",
    "def collapse(L):\n",
    "    L1 = []\n",
    "    for i in L:\n",
    "        L1.append(i.replace(\" \",\"\"))\n",
    "    return L1"
   ]
  },
  {
   "cell_type": "code",
   "execution_count": 28,
   "id": "14c485c2",
   "metadata": {},
   "outputs": [],
   "source": [
    "\n",
    "movies['cast'] = movies['cast'].apply(collapse)\n",
    "movies['crew'] = movies['crew'].apply(collapse)\n",
    "movies['genres'] = movies['genres'].apply(collapse)\n",
    "movies['keywords'] = movies['keywords'].apply(collapse)"
   ]
  },
  {
   "cell_type": "code",
   "execution_count": 29,
   "id": "f1e56356",
   "metadata": {},
   "outputs": [
    {
     "data": {
      "text/html": [
       "<div>\n",
       "<style scoped>\n",
       "    .dataframe tbody tr th:only-of-type {\n",
       "        vertical-align: middle;\n",
       "    }\n",
       "\n",
       "    .dataframe tbody tr th {\n",
       "        vertical-align: top;\n",
       "    }\n",
       "\n",
       "    .dataframe thead th {\n",
       "        text-align: right;\n",
       "    }\n",
       "</style>\n",
       "<table border=\"1\" class=\"dataframe\">\n",
       "  <thead>\n",
       "    <tr style=\"text-align: right;\">\n",
       "      <th></th>\n",
       "      <th>movie_id</th>\n",
       "      <th>title</th>\n",
       "      <th>overview</th>\n",
       "      <th>genres</th>\n",
       "      <th>keywords</th>\n",
       "      <th>cast</th>\n",
       "      <th>crew</th>\n",
       "    </tr>\n",
       "  </thead>\n",
       "  <tbody>\n",
       "    <tr>\n",
       "      <th>0</th>\n",
       "      <td>19995</td>\n",
       "      <td>Avatar</td>\n",
       "      <td>[In, the, 22nd, century,, a, paraplegic, Marin...</td>\n",
       "      <td>[Action, Adventure, Fantasy, ScienceFiction]</td>\n",
       "      <td>[cultureclash, future, spacewar, spacecolony, ...</td>\n",
       "      <td>[SamWorthington, ZoeSaldana, SigourneyWeaver, ...</td>\n",
       "      <td>[JamesCameron]</td>\n",
       "    </tr>\n",
       "    <tr>\n",
       "      <th>1</th>\n",
       "      <td>285</td>\n",
       "      <td>Pirates of the Caribbean: At World's End</td>\n",
       "      <td>[Captain, Barbossa,, long, believed, to, be, d...</td>\n",
       "      <td>[Adventure, Fantasy, Action]</td>\n",
       "      <td>[ocean, drugabuse, exoticisland, eastindiatrad...</td>\n",
       "      <td>[JohnnyDepp, OrlandoBloom, KeiraKnightley, Ste...</td>\n",
       "      <td>[GoreVerbinski]</td>\n",
       "    </tr>\n",
       "    <tr>\n",
       "      <th>2</th>\n",
       "      <td>206647</td>\n",
       "      <td>Spectre</td>\n",
       "      <td>[A, cryptic, message, from, Bond’s, past, send...</td>\n",
       "      <td>[Action, Adventure, Crime]</td>\n",
       "      <td>[spy, basedonnovel, secretagent, sequel, mi6, ...</td>\n",
       "      <td>[DanielCraig, ChristophWaltz, LéaSeydoux, Ralp...</td>\n",
       "      <td>[SamMendes]</td>\n",
       "    </tr>\n",
       "    <tr>\n",
       "      <th>3</th>\n",
       "      <td>49026</td>\n",
       "      <td>The Dark Knight Rises</td>\n",
       "      <td>[Following, the, death, of, District, Attorney...</td>\n",
       "      <td>[Action, Crime, Drama, Thriller]</td>\n",
       "      <td>[dccomics, crimefighter, terrorist, secretiden...</td>\n",
       "      <td>[ChristianBale, MichaelCaine, GaryOldman, Anne...</td>\n",
       "      <td>[ChristopherNolan]</td>\n",
       "    </tr>\n",
       "    <tr>\n",
       "      <th>4</th>\n",
       "      <td>49529</td>\n",
       "      <td>John Carter</td>\n",
       "      <td>[John, Carter, is, a, war-weary,, former, mili...</td>\n",
       "      <td>[Action, Adventure, ScienceFiction]</td>\n",
       "      <td>[basedonnovel, mars, medallion, spacetravel, p...</td>\n",
       "      <td>[TaylorKitsch, LynnCollins, SamanthaMorton, Wi...</td>\n",
       "      <td>[AndrewStanton]</td>\n",
       "    </tr>\n",
       "  </tbody>\n",
       "</table>\n",
       "</div>"
      ],
      "text/plain": [
       "   movie_id                                     title  \\\n",
       "0     19995                                    Avatar   \n",
       "1       285  Pirates of the Caribbean: At World's End   \n",
       "2    206647                                   Spectre   \n",
       "3     49026                     The Dark Knight Rises   \n",
       "4     49529                               John Carter   \n",
       "\n",
       "                                            overview  \\\n",
       "0  [In, the, 22nd, century,, a, paraplegic, Marin...   \n",
       "1  [Captain, Barbossa,, long, believed, to, be, d...   \n",
       "2  [A, cryptic, message, from, Bond’s, past, send...   \n",
       "3  [Following, the, death, of, District, Attorney...   \n",
       "4  [John, Carter, is, a, war-weary,, former, mili...   \n",
       "\n",
       "                                         genres  \\\n",
       "0  [Action, Adventure, Fantasy, ScienceFiction]   \n",
       "1                  [Adventure, Fantasy, Action]   \n",
       "2                    [Action, Adventure, Crime]   \n",
       "3              [Action, Crime, Drama, Thriller]   \n",
       "4           [Action, Adventure, ScienceFiction]   \n",
       "\n",
       "                                            keywords  \\\n",
       "0  [cultureclash, future, spacewar, spacecolony, ...   \n",
       "1  [ocean, drugabuse, exoticisland, eastindiatrad...   \n",
       "2  [spy, basedonnovel, secretagent, sequel, mi6, ...   \n",
       "3  [dccomics, crimefighter, terrorist, secretiden...   \n",
       "4  [basedonnovel, mars, medallion, spacetravel, p...   \n",
       "\n",
       "                                                cast                crew  \n",
       "0  [SamWorthington, ZoeSaldana, SigourneyWeaver, ...      [JamesCameron]  \n",
       "1  [JohnnyDepp, OrlandoBloom, KeiraKnightley, Ste...     [GoreVerbinski]  \n",
       "2  [DanielCraig, ChristophWaltz, LéaSeydoux, Ralp...         [SamMendes]  \n",
       "3  [ChristianBale, MichaelCaine, GaryOldman, Anne...  [ChristopherNolan]  \n",
       "4  [TaylorKitsch, LynnCollins, SamanthaMorton, Wi...     [AndrewStanton]  "
      ]
     },
     "execution_count": 29,
     "metadata": {},
     "output_type": "execute_result"
    }
   ],
   "source": [
    "movies.head()"
   ]
  },
  {
   "cell_type": "code",
   "execution_count": 30,
   "id": "8bdd655d",
   "metadata": {},
   "outputs": [],
   "source": [
    "movies['tags'] = movies['overview'] + movies['genres'] + movies['keywords'] + movies['cast'] + movies['crew']"
   ]
  },
  {
   "cell_type": "code",
   "execution_count": 31,
   "id": "4d4457ff",
   "metadata": {},
   "outputs": [
    {
     "data": {
      "text/html": [
       "<div>\n",
       "<style scoped>\n",
       "    .dataframe tbody tr th:only-of-type {\n",
       "        vertical-align: middle;\n",
       "    }\n",
       "\n",
       "    .dataframe tbody tr th {\n",
       "        vertical-align: top;\n",
       "    }\n",
       "\n",
       "    .dataframe thead th {\n",
       "        text-align: right;\n",
       "    }\n",
       "</style>\n",
       "<table border=\"1\" class=\"dataframe\">\n",
       "  <thead>\n",
       "    <tr style=\"text-align: right;\">\n",
       "      <th></th>\n",
       "      <th>movie_id</th>\n",
       "      <th>title</th>\n",
       "      <th>overview</th>\n",
       "      <th>genres</th>\n",
       "      <th>keywords</th>\n",
       "      <th>cast</th>\n",
       "      <th>crew</th>\n",
       "      <th>tags</th>\n",
       "    </tr>\n",
       "  </thead>\n",
       "  <tbody>\n",
       "    <tr>\n",
       "      <th>0</th>\n",
       "      <td>19995</td>\n",
       "      <td>Avatar</td>\n",
       "      <td>[In, the, 22nd, century,, a, paraplegic, Marin...</td>\n",
       "      <td>[Action, Adventure, Fantasy, ScienceFiction]</td>\n",
       "      <td>[cultureclash, future, spacewar, spacecolony, ...</td>\n",
       "      <td>[SamWorthington, ZoeSaldana, SigourneyWeaver, ...</td>\n",
       "      <td>[JamesCameron]</td>\n",
       "      <td>[In, the, 22nd, century,, a, paraplegic, Marin...</td>\n",
       "    </tr>\n",
       "    <tr>\n",
       "      <th>1</th>\n",
       "      <td>285</td>\n",
       "      <td>Pirates of the Caribbean: At World's End</td>\n",
       "      <td>[Captain, Barbossa,, long, believed, to, be, d...</td>\n",
       "      <td>[Adventure, Fantasy, Action]</td>\n",
       "      <td>[ocean, drugabuse, exoticisland, eastindiatrad...</td>\n",
       "      <td>[JohnnyDepp, OrlandoBloom, KeiraKnightley, Ste...</td>\n",
       "      <td>[GoreVerbinski]</td>\n",
       "      <td>[Captain, Barbossa,, long, believed, to, be, d...</td>\n",
       "    </tr>\n",
       "    <tr>\n",
       "      <th>2</th>\n",
       "      <td>206647</td>\n",
       "      <td>Spectre</td>\n",
       "      <td>[A, cryptic, message, from, Bond’s, past, send...</td>\n",
       "      <td>[Action, Adventure, Crime]</td>\n",
       "      <td>[spy, basedonnovel, secretagent, sequel, mi6, ...</td>\n",
       "      <td>[DanielCraig, ChristophWaltz, LéaSeydoux, Ralp...</td>\n",
       "      <td>[SamMendes]</td>\n",
       "      <td>[A, cryptic, message, from, Bond’s, past, send...</td>\n",
       "    </tr>\n",
       "    <tr>\n",
       "      <th>3</th>\n",
       "      <td>49026</td>\n",
       "      <td>The Dark Knight Rises</td>\n",
       "      <td>[Following, the, death, of, District, Attorney...</td>\n",
       "      <td>[Action, Crime, Drama, Thriller]</td>\n",
       "      <td>[dccomics, crimefighter, terrorist, secretiden...</td>\n",
       "      <td>[ChristianBale, MichaelCaine, GaryOldman, Anne...</td>\n",
       "      <td>[ChristopherNolan]</td>\n",
       "      <td>[Following, the, death, of, District, Attorney...</td>\n",
       "    </tr>\n",
       "    <tr>\n",
       "      <th>4</th>\n",
       "      <td>49529</td>\n",
       "      <td>John Carter</td>\n",
       "      <td>[John, Carter, is, a, war-weary,, former, mili...</td>\n",
       "      <td>[Action, Adventure, ScienceFiction]</td>\n",
       "      <td>[basedonnovel, mars, medallion, spacetravel, p...</td>\n",
       "      <td>[TaylorKitsch, LynnCollins, SamanthaMorton, Wi...</td>\n",
       "      <td>[AndrewStanton]</td>\n",
       "      <td>[John, Carter, is, a, war-weary,, former, mili...</td>\n",
       "    </tr>\n",
       "  </tbody>\n",
       "</table>\n",
       "</div>"
      ],
      "text/plain": [
       "   movie_id                                     title  \\\n",
       "0     19995                                    Avatar   \n",
       "1       285  Pirates of the Caribbean: At World's End   \n",
       "2    206647                                   Spectre   \n",
       "3     49026                     The Dark Knight Rises   \n",
       "4     49529                               John Carter   \n",
       "\n",
       "                                            overview  \\\n",
       "0  [In, the, 22nd, century,, a, paraplegic, Marin...   \n",
       "1  [Captain, Barbossa,, long, believed, to, be, d...   \n",
       "2  [A, cryptic, message, from, Bond’s, past, send...   \n",
       "3  [Following, the, death, of, District, Attorney...   \n",
       "4  [John, Carter, is, a, war-weary,, former, mili...   \n",
       "\n",
       "                                         genres  \\\n",
       "0  [Action, Adventure, Fantasy, ScienceFiction]   \n",
       "1                  [Adventure, Fantasy, Action]   \n",
       "2                    [Action, Adventure, Crime]   \n",
       "3              [Action, Crime, Drama, Thriller]   \n",
       "4           [Action, Adventure, ScienceFiction]   \n",
       "\n",
       "                                            keywords  \\\n",
       "0  [cultureclash, future, spacewar, spacecolony, ...   \n",
       "1  [ocean, drugabuse, exoticisland, eastindiatrad...   \n",
       "2  [spy, basedonnovel, secretagent, sequel, mi6, ...   \n",
       "3  [dccomics, crimefighter, terrorist, secretiden...   \n",
       "4  [basedonnovel, mars, medallion, spacetravel, p...   \n",
       "\n",
       "                                                cast                crew  \\\n",
       "0  [SamWorthington, ZoeSaldana, SigourneyWeaver, ...      [JamesCameron]   \n",
       "1  [JohnnyDepp, OrlandoBloom, KeiraKnightley, Ste...     [GoreVerbinski]   \n",
       "2  [DanielCraig, ChristophWaltz, LéaSeydoux, Ralp...         [SamMendes]   \n",
       "3  [ChristianBale, MichaelCaine, GaryOldman, Anne...  [ChristopherNolan]   \n",
       "4  [TaylorKitsch, LynnCollins, SamanthaMorton, Wi...     [AndrewStanton]   \n",
       "\n",
       "                                                tags  \n",
       "0  [In, the, 22nd, century,, a, paraplegic, Marin...  \n",
       "1  [Captain, Barbossa,, long, believed, to, be, d...  \n",
       "2  [A, cryptic, message, from, Bond’s, past, send...  \n",
       "3  [Following, the, death, of, District, Attorney...  \n",
       "4  [John, Carter, is, a, war-weary,, former, mili...  "
      ]
     },
     "execution_count": 31,
     "metadata": {},
     "output_type": "execute_result"
    }
   ],
   "source": [
    "movies.head()"
   ]
  },
  {
   "cell_type": "code",
   "execution_count": 32,
   "id": "79bbcb3e",
   "metadata": {},
   "outputs": [],
   "source": [
    "new_df = movies[['movie_id','title','tags']]"
   ]
  },
  {
   "cell_type": "code",
   "execution_count": 33,
   "id": "14e87b76",
   "metadata": {},
   "outputs": [
    {
     "data": {
      "text/html": [
       "<div>\n",
       "<style scoped>\n",
       "    .dataframe tbody tr th:only-of-type {\n",
       "        vertical-align: middle;\n",
       "    }\n",
       "\n",
       "    .dataframe tbody tr th {\n",
       "        vertical-align: top;\n",
       "    }\n",
       "\n",
       "    .dataframe thead th {\n",
       "        text-align: right;\n",
       "    }\n",
       "</style>\n",
       "<table border=\"1\" class=\"dataframe\">\n",
       "  <thead>\n",
       "    <tr style=\"text-align: right;\">\n",
       "      <th></th>\n",
       "      <th>movie_id</th>\n",
       "      <th>title</th>\n",
       "      <th>tags</th>\n",
       "    </tr>\n",
       "  </thead>\n",
       "  <tbody>\n",
       "    <tr>\n",
       "      <th>0</th>\n",
       "      <td>19995</td>\n",
       "      <td>Avatar</td>\n",
       "      <td>[In, the, 22nd, century,, a, paraplegic, Marin...</td>\n",
       "    </tr>\n",
       "    <tr>\n",
       "      <th>1</th>\n",
       "      <td>285</td>\n",
       "      <td>Pirates of the Caribbean: At World's End</td>\n",
       "      <td>[Captain, Barbossa,, long, believed, to, be, d...</td>\n",
       "    </tr>\n",
       "    <tr>\n",
       "      <th>2</th>\n",
       "      <td>206647</td>\n",
       "      <td>Spectre</td>\n",
       "      <td>[A, cryptic, message, from, Bond’s, past, send...</td>\n",
       "    </tr>\n",
       "    <tr>\n",
       "      <th>3</th>\n",
       "      <td>49026</td>\n",
       "      <td>The Dark Knight Rises</td>\n",
       "      <td>[Following, the, death, of, District, Attorney...</td>\n",
       "    </tr>\n",
       "    <tr>\n",
       "      <th>4</th>\n",
       "      <td>49529</td>\n",
       "      <td>John Carter</td>\n",
       "      <td>[John, Carter, is, a, war-weary,, former, mili...</td>\n",
       "    </tr>\n",
       "    <tr>\n",
       "      <th>...</th>\n",
       "      <td>...</td>\n",
       "      <td>...</td>\n",
       "      <td>...</td>\n",
       "    </tr>\n",
       "    <tr>\n",
       "      <th>4804</th>\n",
       "      <td>9367</td>\n",
       "      <td>El Mariachi</td>\n",
       "      <td>[El, Mariachi, just, wants, to, play, his, gui...</td>\n",
       "    </tr>\n",
       "    <tr>\n",
       "      <th>4805</th>\n",
       "      <td>72766</td>\n",
       "      <td>Newlyweds</td>\n",
       "      <td>[A, newlywed, couple's, honeymoon, is, upended...</td>\n",
       "    </tr>\n",
       "    <tr>\n",
       "      <th>4806</th>\n",
       "      <td>231617</td>\n",
       "      <td>Signed, Sealed, Delivered</td>\n",
       "      <td>[\"Signed,, Sealed,, Delivered\", introduces, a,...</td>\n",
       "    </tr>\n",
       "    <tr>\n",
       "      <th>4807</th>\n",
       "      <td>126186</td>\n",
       "      <td>Shanghai Calling</td>\n",
       "      <td>[When, ambitious, New, York, attorney, Sam, is...</td>\n",
       "    </tr>\n",
       "    <tr>\n",
       "      <th>4808</th>\n",
       "      <td>25975</td>\n",
       "      <td>My Date with Drew</td>\n",
       "      <td>[Ever, since, the, second, grade, when, he, fi...</td>\n",
       "    </tr>\n",
       "  </tbody>\n",
       "</table>\n",
       "<p>4806 rows × 3 columns</p>\n",
       "</div>"
      ],
      "text/plain": [
       "      movie_id                                     title  \\\n",
       "0        19995                                    Avatar   \n",
       "1          285  Pirates of the Caribbean: At World's End   \n",
       "2       206647                                   Spectre   \n",
       "3        49026                     The Dark Knight Rises   \n",
       "4        49529                               John Carter   \n",
       "...        ...                                       ...   \n",
       "4804      9367                               El Mariachi   \n",
       "4805     72766                                 Newlyweds   \n",
       "4806    231617                 Signed, Sealed, Delivered   \n",
       "4807    126186                          Shanghai Calling   \n",
       "4808     25975                         My Date with Drew   \n",
       "\n",
       "                                                   tags  \n",
       "0     [In, the, 22nd, century,, a, paraplegic, Marin...  \n",
       "1     [Captain, Barbossa,, long, believed, to, be, d...  \n",
       "2     [A, cryptic, message, from, Bond’s, past, send...  \n",
       "3     [Following, the, death, of, District, Attorney...  \n",
       "4     [John, Carter, is, a, war-weary,, former, mili...  \n",
       "...                                                 ...  \n",
       "4804  [El, Mariachi, just, wants, to, play, his, gui...  \n",
       "4805  [A, newlywed, couple's, honeymoon, is, upended...  \n",
       "4806  [\"Signed,, Sealed,, Delivered\", introduces, a,...  \n",
       "4807  [When, ambitious, New, York, attorney, Sam, is...  \n",
       "4808  [Ever, since, the, second, grade, when, he, fi...  \n",
       "\n",
       "[4806 rows x 3 columns]"
      ]
     },
     "execution_count": 33,
     "metadata": {},
     "output_type": "execute_result"
    }
   ],
   "source": [
    "new_df"
   ]
  },
  {
   "cell_type": "code",
   "execution_count": 34,
   "id": "29cfd049",
   "metadata": {},
   "outputs": [
    {
     "name": "stderr",
     "output_type": "stream",
     "text": [
      "C:\\Users\\acer\\AppData\\Local\\Temp\\ipykernel_17120\\3089450492.py:1: SettingWithCopyWarning: \n",
      "A value is trying to be set on a copy of a slice from a DataFrame.\n",
      "Try using .loc[row_indexer,col_indexer] = value instead\n",
      "\n",
      "See the caveats in the documentation: https://pandas.pydata.org/pandas-docs/stable/user_guide/indexing.html#returning-a-view-versus-a-copy\n",
      "  new_df['tags'] = new_df['tags'].apply(lambda x:\" \".join(x))\n"
     ]
    }
   ],
   "source": [
    "new_df['tags'] = new_df['tags'].apply(lambda x:\" \".join(x))"
   ]
  },
  {
   "cell_type": "code",
   "execution_count": 35,
   "id": "8bc421f9",
   "metadata": {},
   "outputs": [
    {
     "data": {
      "text/html": [
       "<div>\n",
       "<style scoped>\n",
       "    .dataframe tbody tr th:only-of-type {\n",
       "        vertical-align: middle;\n",
       "    }\n",
       "\n",
       "    .dataframe tbody tr th {\n",
       "        vertical-align: top;\n",
       "    }\n",
       "\n",
       "    .dataframe thead th {\n",
       "        text-align: right;\n",
       "    }\n",
       "</style>\n",
       "<table border=\"1\" class=\"dataframe\">\n",
       "  <thead>\n",
       "    <tr style=\"text-align: right;\">\n",
       "      <th></th>\n",
       "      <th>movie_id</th>\n",
       "      <th>title</th>\n",
       "      <th>tags</th>\n",
       "    </tr>\n",
       "  </thead>\n",
       "  <tbody>\n",
       "    <tr>\n",
       "      <th>0</th>\n",
       "      <td>19995</td>\n",
       "      <td>Avatar</td>\n",
       "      <td>In the 22nd century, a paraplegic Marine is di...</td>\n",
       "    </tr>\n",
       "    <tr>\n",
       "      <th>1</th>\n",
       "      <td>285</td>\n",
       "      <td>Pirates of the Caribbean: At World's End</td>\n",
       "      <td>Captain Barbossa, long believed to be dead, ha...</td>\n",
       "    </tr>\n",
       "    <tr>\n",
       "      <th>2</th>\n",
       "      <td>206647</td>\n",
       "      <td>Spectre</td>\n",
       "      <td>A cryptic message from Bond’s past sends him o...</td>\n",
       "    </tr>\n",
       "    <tr>\n",
       "      <th>3</th>\n",
       "      <td>49026</td>\n",
       "      <td>The Dark Knight Rises</td>\n",
       "      <td>Following the death of District Attorney Harve...</td>\n",
       "    </tr>\n",
       "    <tr>\n",
       "      <th>4</th>\n",
       "      <td>49529</td>\n",
       "      <td>John Carter</td>\n",
       "      <td>John Carter is a war-weary, former military ca...</td>\n",
       "    </tr>\n",
       "  </tbody>\n",
       "</table>\n",
       "</div>"
      ],
      "text/plain": [
       "   movie_id                                     title  \\\n",
       "0     19995                                    Avatar   \n",
       "1       285  Pirates of the Caribbean: At World's End   \n",
       "2    206647                                   Spectre   \n",
       "3     49026                     The Dark Knight Rises   \n",
       "4     49529                               John Carter   \n",
       "\n",
       "                                                tags  \n",
       "0  In the 22nd century, a paraplegic Marine is di...  \n",
       "1  Captain Barbossa, long believed to be dead, ha...  \n",
       "2  A cryptic message from Bond’s past sends him o...  \n",
       "3  Following the death of District Attorney Harve...  \n",
       "4  John Carter is a war-weary, former military ca...  "
      ]
     },
     "execution_count": 35,
     "metadata": {},
     "output_type": "execute_result"
    }
   ],
   "source": [
    "new_df.head()"
   ]
  },
  {
   "cell_type": "code",
   "execution_count": 36,
   "id": "375b9fb3",
   "metadata": {},
   "outputs": [
    {
     "data": {
      "text/plain": [
       "'In the 22nd century, a paraplegic Marine is dispatched to the moon Pandora on a unique mission, but becomes torn between following orders and protecting an alien civilization. Action Adventure Fantasy ScienceFiction cultureclash future spacewar spacecolony society spacetravel futuristic romance space alien tribe alienplanet cgi marine soldier battle loveaffair antiwar powerrelations mindandsoul 3d SamWorthington ZoeSaldana SigourneyWeaver StephenLang MichelleRodriguez GiovanniRibisi JoelDavidMoore CCHPounder WesStudi LazAlonso DileepRao MattGerald SeanAnthonyMoran JasonWhyte ScottLawrence KellyKilgour JamesPatrickPitt SeanPatrickMurphy PeterDillon KevinDorman KelsonHenderson DavidVanHorn JacobTomuri MichaelBlain-Rozgay JonCurry LukeHawker WoodySchultz PeterMensah SoniaYee JahnelCurfman IlramChoi KylaWarren LisaRoumain DebraWilson ChrisMala TaylorKibby JodieLandau JulieLamm CullenB.Madden JosephBradyMadden FrankieTorres AustinWilson SaraWilson TamicaWashington-Miller LucyBriant NathanMeister GerryBlair MatthewChamberlain PaulYates WrayWilson JamesGaylyn MelvinLenoClarkIII CarvonFutrell BrandonJelkes MicahMoch HanniyahMuhammad ChristopherNolen ChristaOliver AprilMarieThomas BravitaA.Threatt ColinBleasdale MikeBodnar MattClayton NicoleDionne JamieHarrison AllanHenry AnthonyIngruber AshleyJeffery DeanKnowsley JosephMika-Hunt TerryNotary KaiPantano LoganPithyou StuartPollock Raja GarethRuck RhianSheehan T.J.Storm JodieTaylor AliciaVela-Bailey RichardWhiteside NikieZambo JuleneRenee JamesCameron'"
      ]
     },
     "execution_count": 36,
     "metadata": {},
     "output_type": "execute_result"
    }
   ],
   "source": [
    "new_df['tags'][0]"
   ]
  },
  {
   "cell_type": "code",
   "execution_count": 37,
   "id": "91d98f32",
   "metadata": {},
   "outputs": [
    {
     "name": "stderr",
     "output_type": "stream",
     "text": [
      "C:\\Users\\acer\\AppData\\Local\\Temp\\ipykernel_17120\\3214958533.py:1: SettingWithCopyWarning: \n",
      "A value is trying to be set on a copy of a slice from a DataFrame.\n",
      "Try using .loc[row_indexer,col_indexer] = value instead\n",
      "\n",
      "See the caveats in the documentation: https://pandas.pydata.org/pandas-docs/stable/user_guide/indexing.html#returning-a-view-versus-a-copy\n",
      "  new_df['tags'] = new_df['tags'].apply(lambda x:x.lower())\n"
     ]
    }
   ],
   "source": [
    "new_df['tags'] = new_df['tags'].apply(lambda x:x.lower())"
   ]
  },
  {
   "cell_type": "code",
   "execution_count": 38,
   "id": "bb00a181",
   "metadata": {},
   "outputs": [
    {
     "data": {
      "text/html": [
       "<div>\n",
       "<style scoped>\n",
       "    .dataframe tbody tr th:only-of-type {\n",
       "        vertical-align: middle;\n",
       "    }\n",
       "\n",
       "    .dataframe tbody tr th {\n",
       "        vertical-align: top;\n",
       "    }\n",
       "\n",
       "    .dataframe thead th {\n",
       "        text-align: right;\n",
       "    }\n",
       "</style>\n",
       "<table border=\"1\" class=\"dataframe\">\n",
       "  <thead>\n",
       "    <tr style=\"text-align: right;\">\n",
       "      <th></th>\n",
       "      <th>movie_id</th>\n",
       "      <th>title</th>\n",
       "      <th>tags</th>\n",
       "    </tr>\n",
       "  </thead>\n",
       "  <tbody>\n",
       "    <tr>\n",
       "      <th>0</th>\n",
       "      <td>19995</td>\n",
       "      <td>Avatar</td>\n",
       "      <td>in the 22nd century, a paraplegic marine is di...</td>\n",
       "    </tr>\n",
       "    <tr>\n",
       "      <th>1</th>\n",
       "      <td>285</td>\n",
       "      <td>Pirates of the Caribbean: At World's End</td>\n",
       "      <td>captain barbossa, long believed to be dead, ha...</td>\n",
       "    </tr>\n",
       "    <tr>\n",
       "      <th>2</th>\n",
       "      <td>206647</td>\n",
       "      <td>Spectre</td>\n",
       "      <td>a cryptic message from bond’s past sends him o...</td>\n",
       "    </tr>\n",
       "    <tr>\n",
       "      <th>3</th>\n",
       "      <td>49026</td>\n",
       "      <td>The Dark Knight Rises</td>\n",
       "      <td>following the death of district attorney harve...</td>\n",
       "    </tr>\n",
       "    <tr>\n",
       "      <th>4</th>\n",
       "      <td>49529</td>\n",
       "      <td>John Carter</td>\n",
       "      <td>john carter is a war-weary, former military ca...</td>\n",
       "    </tr>\n",
       "  </tbody>\n",
       "</table>\n",
       "</div>"
      ],
      "text/plain": [
       "   movie_id                                     title  \\\n",
       "0     19995                                    Avatar   \n",
       "1       285  Pirates of the Caribbean: At World's End   \n",
       "2    206647                                   Spectre   \n",
       "3     49026                     The Dark Knight Rises   \n",
       "4     49529                               John Carter   \n",
       "\n",
       "                                                tags  \n",
       "0  in the 22nd century, a paraplegic marine is di...  \n",
       "1  captain barbossa, long believed to be dead, ha...  \n",
       "2  a cryptic message from bond’s past sends him o...  \n",
       "3  following the death of district attorney harve...  \n",
       "4  john carter is a war-weary, former military ca...  "
      ]
     },
     "execution_count": 38,
     "metadata": {},
     "output_type": "execute_result"
    }
   ],
   "source": [
    "new_df.head()"
   ]
  },
  {
   "cell_type": "code",
   "execution_count": 39,
   "id": "4d3a2fd0",
   "metadata": {},
   "outputs": [],
   "source": [
    "import nltk\n",
    "\n",
    "from nltk.stem.porter import PorterStemmer\n",
    "ps = PorterStemmer() #for stemming as we need to convert each word to its root form i.e. love, loving and loved will become love\n",
    "\n",
    "def stem(text):\n",
    "    y = []\n",
    "    for i in text.split():\n",
    "        y.append(ps.stem(i))\n",
    "    return \" \".join(y)"
   ]
  },
  {
   "cell_type": "code",
   "execution_count": 40,
   "id": "8b6a5c2e",
   "metadata": {},
   "outputs": [
    {
     "name": "stderr",
     "output_type": "stream",
     "text": [
      "C:\\Users\\acer\\AppData\\Local\\Temp\\ipykernel_17120\\3213734980.py:1: SettingWithCopyWarning: \n",
      "A value is trying to be set on a copy of a slice from a DataFrame.\n",
      "Try using .loc[row_indexer,col_indexer] = value instead\n",
      "\n",
      "See the caveats in the documentation: https://pandas.pydata.org/pandas-docs/stable/user_guide/indexing.html#returning-a-view-versus-a-copy\n",
      "  new_df['tags'] = new_df['tags'].apply(stem)\n"
     ]
    }
   ],
   "source": [
    "new_df['tags'] = new_df['tags'].apply(stem)"
   ]
  },
  {
   "cell_type": "code",
   "execution_count": 41,
   "id": "dde55741",
   "metadata": {},
   "outputs": [],
   "source": [
    "# now we will do vectorization. The method we are using for vectorization here is called bag of words. for more info --> 58:00\n",
    "from sklearn.feature_extraction.text import CountVectorizer\n",
    "cv = CountVectorizer(max_features=5000,stop_words='english') #to remove the stopwords\n",
    "#yha pei hm 5000 most frequent words le rhe hai"
   ]
  },
  {
   "cell_type": "code",
   "execution_count": 42,
   "id": "a4a2bcfc",
   "metadata": {},
   "outputs": [
    {
     "data": {
      "text/plain": [
       "array([[0, 0, 0, ..., 0, 0, 0],\n",
       "       [0, 0, 0, ..., 0, 0, 0],\n",
       "       [0, 0, 0, ..., 0, 0, 0],\n",
       "       ...,\n",
       "       [0, 0, 0, ..., 0, 0, 0],\n",
       "       [0, 0, 0, ..., 0, 0, 0],\n",
       "       [0, 0, 0, ..., 0, 0, 0]], shape=(4806, 5000))"
      ]
     },
     "execution_count": 42,
     "metadata": {},
     "output_type": "execute_result"
    }
   ],
   "source": [
    "cv.fit_transform(new_df['tags']).toarray()"
   ]
  },
  {
   "cell_type": "code",
   "execution_count": 43,
   "id": "8de8570f",
   "metadata": {},
   "outputs": [
    {
     "data": {
      "text/plain": [
       "array([[0, 0, 0, ..., 0, 0, 0],\n",
       "       [0, 0, 0, ..., 0, 0, 0],\n",
       "       [0, 0, 0, ..., 0, 0, 0],\n",
       "       ...,\n",
       "       [0, 0, 0, ..., 0, 0, 0],\n",
       "       [0, 0, 0, ..., 0, 0, 0],\n",
       "       [0, 0, 0, ..., 0, 0, 0]], shape=(4806, 5000))"
      ]
     },
     "execution_count": 43,
     "metadata": {},
     "output_type": "execute_result"
    }
   ],
   "source": [
    "vectors = cv.fit_transform(new_df['tags']).toarray()\n",
    "vectors"
   ]
  },
  {
   "cell_type": "code",
   "execution_count": 44,
   "id": "2c16307a",
   "metadata": {},
   "outputs": [
    {
     "name": "stdout",
     "output_type": "stream",
     "text": [
      "['000', '007', '10', '100', '11', '12', '13', '14', '15', '16', '17', '18', '18th', '19', '1910', '1930', '1940', '1950', '1960', '1960s', '1970', '1970s', '1980', '1990', '19th', '19thcenturi', '20', '20th', '24', '25', '30', '3d', '40', '50', '60', '70', 'aaron', 'aaroneckhart', 'aarontaylor', 'aaronyoo', 'aasifmandvi', 'abandon', 'abduct', 'abigailbreslin', 'abil', 'abl', 'abov', 'abus', 'academi', 'accept', 'access', 'accid', 'accident', 'accompani', 'accomplish', 'account', 'accus', 'ace', 'achiev', 'act', 'action', 'activ', 'activist', 'actor', 'actress', 'actual', 'adam', 'adambrodi', 'adamgoldberg', 'adamlefevr', 'adamsandl', 'adamscott', 'adamshankman', 'adapt', 'add', 'addict', 'adewaleakinnuoye', 'adjust', 'admir', 'admit', 'adolesc', 'adopt', 'ador', 'adrianmartinez', 'adrienbrodi', 'adult', 'adulteri', 'adulthood', 'advanc', 'adventur', 'adventure', 'advertis', 'advic', 'affair', 'affect', 'afghanistan', 'africa', 'african', 'aftercreditssting', 'afterlif', 'aftermath', 'ag', 'agbaj', 'age', 'agediffer', 'agency', 'agenda', 'agent', 'aggress', 'ago', 'agre', 'ahead', 'aid', 'aidanquinn', 'ail', 'aim', 'air', 'airplan', 'airport', 'al', 'alabama', 'alanalda', 'alanarkin', 'alancum', 'alanrickman', 'alantudyk', 'alaska', 'albert', 'albertbrook', 'albertfinney', 'alcohol', 'alecbaldwin', 'alessandronivola', 'alex', 'alexandersiddig', 'alexapenavega', 'alexborstein', 'alexisbledel', 'alfredhitchcock', 'alfredmolina', 'alfrewoodard', 'ali', 'alic', 'alice', 'alicebraga', 'alicedrummond', 'aliciasilverston', 'aliciawitt', 'alien', 'alieninvas', 'alienlife', 'alilart', 'aliv', 'alive', 'allancordun', 'allen', 'allencovert', 'alleong', 'alli', 'allianc', 'allisonjanney', 'allow', 'alon', 'alongsid', 'alpacino', 'alreadi', 'alter', 'altern', 'alunarmstrong', 'alway', 'alzheimer', 'amanda', 'amandapeet', 'amandaseyfri', 'amateur', 'amaz', 'ambassador', 'amberheard', 'ambervalletta', 'ambit', 'ambiti', 'ambul', 'ambush', 'america', 'american', 'americanfootbal', 'amid', 'amidst', 'amnesia', 'amp', 'amus', 'amyadam', 'amypoehl', 'amyryan', 'amysedari', 'amysmart', 'anagastey', 'analyst', 'anarchiccomedi', 'ancient', 'ancientrom', 'ancientworld', 'anderson', 'andi', 'andiemacdowel', 'andreamartin', 'andrebraugh', 'andrew', 'andrewdali', 'android', 'andydick', 'andygarcía', 'andyricht', 'andysamberg', 'andyserki', 'angel', 'angelabassett', 'angeles', 'angelinajoli', 'angelo', 'anger', 'angle', 'angri', 'ani', 'anim', 'animalattack', 'animalhorror', 'anjelicahuston', 'ann', 'anna', 'annafari', 'annakendrick', 'annalevin', 'annapaquin', 'annasophiarobb', 'anndowd', 'anne', 'annebancroft', 'annefletch', 'annehathaway', 'annehech', 'annemoss', 'annetteben', 'anni', 'annikaperga', 'announc', 'annual', 'anonym', 'anoth', 'answer', 'ant', 'antholog', 'anthoni', 'anthonyanderson', 'anthonyhopkin', 'anthonylapaglia', 'anthonymacki', 'anthropomorph', 'anti', 'antihero', 'antonicoron', 'antoniobandera', 'antonyelchin', 'anyon', 'anyth', 'apart', 'apartheid', 'apartment', 'ape', 'apocalyps', 'apocalypt', 'appar', 'appear', 'appoint', 'appreci', 'apprentic', 'approach', 'april', 'arab', 'archaeologist', 'architect', 'arctic', 'area', 'arena', 'arielwint', 'aris', 'aristocrat', 'arm', 'armi', 'arminmueller', 'armsdeal', 'armstrong', 'army', 'arnold', 'arnoldschwarzenegg', 'arrang', 'arrest', 'arriv', 'art', 'arthur', 'arthurj', 'arthurtovey', 'artificialintellig', 'artist', 'ash', 'ashley', 'ashleyjudd', 'ashtonkutch', 'asia', 'ask', 'aspir', 'assassin', 'assault', 'assign', 'assist', 'assistant', 'associ', 'assum', 'asteroid', 'astronaut', 'asylum', 'athlet', 'atomicbomb', 'attack', 'attempt', 'attend', 'attent', 'attitud', 'attorney', 'attract', 'audienc', 'audit', 'august', 'aunjanueelli', 'aunt', 'austin', 'australia', 'australian', 'author', 'autism', 'auto', 'avaacr', 'aveng', 'avoid', 'await', 'awaken', 'award', 'away', 'awkward', 'awri', 'awry', 'azizansari', 'babe', 'babi', 'baby', 'bachelor', 'backdrop', 'background', 'bad', 'bag', 'bahama', 'bail', 'bailey', 'balanc', 'ball', 'ballet', 'band', 'banish', 'bank', 'banker', 'bankrobberi', 'baptist', 'bar', 'bare', 'bargain', 'barn', 'barney', 'barri', 'barrylevinson', 'barrypepp', 'barryshabakahenley', 'bas', 'base', 'basebal', 'basedoncomicbook', 'basedonnovel', 'basedonplay', 'basedonstagemus', 'basedontrueev', 'basedontruestori', 'basedontvseri', 'basedonvideogam', 'basedonyoungadultnovel', 'basement', 'basketbal', 'batman', 'battl', 'battle', 'battlefield', 'bay', 'bdwong', 'beach', 'bear', 'beast', 'beat', 'beaubridg', 'beauti', 'beautiful', 'beautifulwoman', 'beauty', 'becam', 'becaus', 'beccasweitz', 'becom', 'becominganadult', 'bed', 'bedroom', 'beer', 'befor', 'befriend', 'began', 'begin', 'behavior', 'belief', 'believ', 'bell', 'bella', 'belong', 'belov', 'ben', 'benaffleck', 'benchaplin', 'bend', 'benedictcumberbatch', 'benedictwong', 'benfost', 'bengazzara', 'beniciodeltoro', 'benjamin', 'benjaminbratt', 'benkingsley', 'benmendelsohn', 'bennett', 'benstil', 'bent', 'benwhishaw', 'berlin', 'bernardhil', 'bernardle', 'berniemac', 'best', 'bestfriend', 'bet', 'beth', 'bethgrant', 'betray', 'bettemidl', 'better', 'betti', 'beverli', 'bibl', 'big', 'biggest', 'biker', 'billcamp', 'billcobb', 'billduk', 'billhad', 'billi', 'billionair', 'billmoseley', 'billmurray', 'billnighi', 'billnunn', 'billpaxton', 'billpullman', 'billybobthornton', 'billyburk', 'billyconnolli', 'billycrudup', 'billycryst', 'billydeewilliam', 'billyslaught', 'billyzan', 'biographi', 'bird', 'birth', 'birthday', 'bisexu', 'bishop', 'bit', 'bite', 'bitter', 'bizarr', 'black', 'blackmail', 'blackpeopl', 'blade', 'blakeclark', 'blame', 'blend', 'blind', 'bliss', 'block', 'blond', 'blood', 'bloodi', 'bloodsplatt', 'bloodthirsti', 'blow', 'blue', 'blythedann', 'board', 'boardingschool', 'boat', 'bob', 'bobbalaban', 'bobbergen', 'bobbi', 'bobbycannaval', 'bobbyfarrelli', 'bobbymoynihan', 'bobclendenin', 'bobgunton', 'bobhoskin', 'bobodenkirk', 'bobstephenson', 'bodi', 'body', 'bodyguard', 'bokeemwoodbin', 'bold', 'bollywood', 'bomb', 'bond', 'bone', 'bonniehunt', 'book', 'border', 'bore', 'boredom', 'born', 'boss', 'boston', 'bound', 'bounti', 'bountyhunt', 'box', 'boxer', 'boy', 'boydbank', 'boydholbrook', 'boyfriend', 'boys', 'braddourif', 'bradgarrett', 'bradleycoop', 'bradleywhitford', 'bradpitt', 'bradwilliamhenk', 'brain', 'brand', 'brave', 'braveri', 'brazil', 'brazilian', 'break', 'breckinmey', 'brendanfras', 'brendangleeson', 'brendansextoniii', 'brentbrisco', 'brentspin', 'brettcullen', 'brettratn', 'brian', 'briancox', 'briandennehi', 'briandepalma', 'briandoyle', 'brianj', 'briano', 'bride', 'bridg', 'bridgettewilson', 'brief', 'brielarson', 'brien', 'brilliant', 'bring', 'brink', 'britain', 'british', 'britishsecretservic', 'brittanymurphi', 'broadway', 'broke', 'broken', 'brook', 'brooklyn', 'brothel', 'brother', 'brotherbrotherrelationship', 'brothers', 'brothersisterrelationship', 'brought', 'brown', 'bruce', 'brucecampbel', 'brucedern', 'brucegreenwood', 'brucemcgil', 'brucesp', 'brucewilli', 'brutal', 'bryan', 'bryancranston', 'bryansing', 'brycedallashoward', 'bu', 'buck', 'bud', 'buddi', 'buddy', 'buddycomedi', 'budget', 'build', 'building', 'built', 'bullet', 'bulli', 'bumbl', 'burglar', 'buri', 'burn', 'burtreynold', 'bush', 'busi', 'business', 'businessman', 'bust', 'butler', 'buy', 'byrn', 'cabin', 'caesar', 'cage', 'cairo', 'cal', 'california', 'callahan', 'callumkeithrenni', 'calvin', 'camcord', 'came', 'camera', 'cameraman', 'cameron', 'cameronbright', 'camerondiaz', 'camgigandet', 'camp', 'campaign', 'campbel', 'campbellscott', 'campu', 'canada', 'canadian', 'cancer', 'candid', 'cannib', 'capabl', 'capit', 'captain', 'captiv', 'captur', 'car', 'caraccid', 'caraseymour', 'carchas', 'carcrash', 'card', 'care', 'career', 'careymulligan', 'caribbean', 'carjourney', 'carl', 'carlagallo', 'carlagugino', 'carlo', 'carlosalazraqui', 'carmen', 'carmenelectra', 'carol', 'carolineaaron', 'carolinegoodal', 'carolkan', 'carrac', 'carri', 'carrie', 'carriefish', 'carter', 'cary', 'caryelw', 'case', 'caseyaffleck', 'cash', 'casino', 'cast', 'castl', 'cat', 'cataclysm', 'catastroph', 'catch', 'cateblanchett', 'catherinekeen', 'catherineo', 'catherinezeta', 'cathey', 'cathol', 'catholic', 'caught', 'caus', 'cave', 'cedrictheentertain', 'celebr', 'celiaimri', 'celiaweston', 'cellphon', 'cemeteri', 'center', 'central', 'centuri', 'centuries', 'century', 'certain', 'chadmichaelmurray', 'chain', 'chainsaw', 'challeng', 'champion', 'championship', 'chanc', 'chance', 'chancekelli', 'chang', 'channingtatum', 'chao', 'chaos', 'chapter', 'charact', 'character', 'characters', 'charg', 'charismat', 'charl', 'charlesd', 'charlesdurn', 'charlesnapi', 'charless', 'charli', 'charlie', 'charliesheen', 'charlizetheron', 'charlotterampl', 'charltonheston', 'charm', 'chase', 'chazzpalminteri', 'cheat', 'cheechmarin', 'cheerlead', 'chef', 'chelcieross', 'chemic', 'cher', 'cherryjon', 'chevychas', 'chicago', 'chicken', 'chief', 'child', 'childabus', 'childhood', 'children', 'chill', 'chimcbrid', 'china', 'chines', 'chip', 'chiwetelejiofor', 'chloëgracemoretz', 'chloësevigni', 'chocol', 'choic', 'choos', 'chosen', 'chowyun', 'chri', 'chrisbauer', 'chrisbrown', 'chriscolumbu', 'chriscoop', 'chriselli', 'chrisevan', 'chrishemsworth', 'chriskattan', 'chrisklein', 'chrismessina', 'chrismil', 'chrismulkey', 'chriso', 'chrisparnel', 'chrispenn', 'chrispin', 'chrispratt', 'chrisrock', 'christ', 'christian', 'christianbal', 'christianslat', 'christinaappleg', 'christinaricci', 'christinebaranski', 'christma', 'christmas', 'christmasparti', 'christoph', 'christopherguest', 'christopherlambert', 'christopherle', 'christopherlloyd', 'christophermcdonald', 'christophermeloni', 'christophermintz', 'christopherplumm', 'christopherwalken', 'christophwaltz', 'chronicl', 'church', 'cia', 'ciaránhind', 'cillianmurphi', 'cinema', 'circl', 'circu', 'circuit', 'circumst', 'citi', 'citizen', 'city', 'civil', 'civilian', 'civilwar', 'claim', 'clair', 'clairedan', 'claireforlani', 'clan', 'clancybrown', 'clark', 'clarkduk', 'clarkgregg', 'clash', 'class', 'classic', 'classmat', 'classroom', 'claudevandamm', 'cleaduval', 'clean', 'clear', 'clerk', 'client', 'cliffcurti', 'cliftoncollinsjr', 'climat', 'climb', 'clinteastwood', 'clinthoward', 'cliveowen', 'clock', 'clone', 'clorisleachman', 'close', 'closer', 'clown', 'club', 'clue', 'coach', 'coast', 'cocain', 'code', 'codycameron', 'cohen', 'col', 'cold', 'coldwar', 'cole', 'colehaus', 'colinfarrel', 'colinfirth', 'colinhank', 'colinsalmon', 'collaps', 'colleagu', 'collect', 'collector', 'colleencamp', 'colleg', 'college', 'collid', 'collin', 'collis', 'colmfeor', 'colmmeaney', 'colonel', 'coloni', 'color', 'coma', 'combat', 'combin', 'come', 'comeback', 'comedi', 'comedian', 'comedy', 'comfort', 'comic', 'coming', 'comingofag', 'comingout', 'command', 'commando', 'commerci', 'commit', 'common', 'commun', 'compani', 'companion', 'company', 'compet', 'competit', 'competition', 'complet', 'complex', 'complic', 'compos', 'compton', 'comput', 'conan', 'concern', 'concert', 'condit', 'confess', 'confid', 'conflict', 'confront', 'confus', 'congress', 'conman', 'connect', 'connel', 'connienielsen', 'connieray', 'connor', 'conquer', 'conradvernon', 'consequ', 'consequences', 'consid', 'conspir', 'conspiraci', 'constantli', 'construct', 'consum', 'contact', 'contain', 'contemporari', 'contend', 'contest', 'continu', 'contract', 'control', 'controversi', 'convent', 'convict', 'convinc', 'cook', 'cool', 'cooper', 'cop', 'cope', 'corbinbleu', 'core', 'coreyburton', 'coreyfeldman', 'coreyjohnson', 'coreystol', 'corner', 'corpor', 'corps', 'corrupt', 'cost', 'costasmandylor', 'costum', 'couldn', 'count', 'countri', 'country', 'countrysid', 'coup', 'coupl', 'couple', 'courag', 'cours', 'court', 'courtcas', 'courteneycox', 'courtneyb', 'courtroom', 'cousin', 'cover', 'covert', 'cowardli', 'cowboy', 'crack', 'craft', 'craig', 'craigbierko', 'craigrobinson', 'craigt', 'crash', 'crazi', 'creat', 'creation', 'creativ', 'creator', 'creatur', 'creatures', 'credit', 'crew', 'crime', 'crimefight', 'crimin', 'criminal', 'criminals', 'crisi', 'crisis', 'crispinglov', 'critic', 'crocodil', 'crook', 'cross', 'crowd', 'crown', 'cruel', 'cruis', 'crusad', 'crush', 'crystal', 'crystallow', 'cuba', 'cubagoodingjr', 'cult', 'cultfilm', 'cultur', 'cultureclash', 'cup', 'cure', 'current', 'curs', 'curse', 'curtisarmstrong', 'custodi', 'custom', 'cut', 'cyberpunk', 'cyborg', 'cynic', 'dad', 'daili', 'dakotafan', 'daledickey', 'daledy', 'damag', 'dan', 'danaivey', 'danaykroyd', 'danc', 'dancer', 'danecook', 'danger', 'danhedaya', 'daniel', 'danielbrühl', 'danielcraig', 'danielday', 'danielmay', 'danielradcliff', 'danielroebuck', 'danielvonbargen', 'danni', 'danny', 'dannydevito', 'dannyglov', 'dannyhuston', 'dannymann', 'dannymcbrid', 'dannytrejo', 'danpatrick', 'dare', 'dark', 'darkcomedi', 'darkest', 'darylhannah', 'darylsabara', 'dashmihok', 'date', 'daughter', 'dave', 'davechappel', 'davefoley', 'davefranco', 'davi', 'david', 'davidalangri', 'davidarquett', 'davidbow', 'davidbradley', 'davidcronenberg', 'davidcross', 'davidduchovni', 'davidfinch', 'davidharbour', 'davidhydepierc', 'davidjensen', 'davidkoechn', 'davidkrumholtz', 'davidmors', 'davido', 'davidogdensti', 'davidoyelowo', 'davidpatrickkelli', 'davidpaym', 'davidprov', 'davidschwimm', 'davidspad', 'davidstern', 'davidstrathairn', 'davidthewli', 'davidwarn', 'davidwarshofski', 'davidwenham', 'davidzuck', 'daxshepard', 'day', 'days', 'dccomic', 'dea', 'dead', 'deadli', 'deaf', 'deal', 'dealer', 'dean', 'deannorri', 'death', 'deathofafriend', 'deathpenalti', 'debimazar', 'deborahkaraung', 'debramess', 'debramonk', 'debt', 'debut', 'decad', 'decapit', 'deceas', 'deceit', 'decept', 'decid', 'decis', 'declar', 'dedic', 'deed', 'deep', 'deeper', 'deepli', 'deeproy', 'defeat', 'defend', 'defens', 'defi', 'deirdreo', 'del', 'deliv', 'delroylindo', 'delus', 'demand', 'demimoor', 'demon', 'demonicpossess', 'demons', 'deniserichard', 'denisleari', 'deniso', 'dennisdugan', 'dennisfarina', 'dennishaysbert', 'dennishopp', 'dennisquaid', 'dentist', 'denzelwashington', 'depart', 'depict', 'depress', 'deputi', 'derang', 'deraydavi', 'derek', 'derekjacobi', 'derekluk', 'dermotmulroney', 'descend', 'desert', 'design', 'desir', 'desmondllewelyn', 'desol', 'despair', 'desper', 'despit', 'destin', 'destini', 'destroy', 'destruct', 'destruction', 'detect', 'detective', 'determin', 'detroit', 'devast', 'develop', 'devic', 'devil', 'devis', 'devot', 'dexterfletch', 'diamond', 'dianekeaton', 'dianekrug', 'dianelan', 'diannewiest', 'diari', 'dick', 'dickmil', 'dictat', 'did', 'didn', 'die', 'diedrichbad', 'diego', 'diegoluna', 'dies', 'differ', 'difficult', 'dig', 'dinamey', 'diner', 'dinner', 'dinosaur', 'direct', 'director', 'dirti', 'dirtycop', 'disappear', 'disast', 'disaster', 'discov', 'discoveri', 'diseas', 'disease', 'disfigur', 'disgrac', 'disguis', 'disney', 'disord', 'dispatch', 'distant', 'district', 'disturb', 'dive', 'divid', 'divorc', 'divorce', 'djimonhouns', 'dna', 'doc', 'doctor', 'document', 'documentari', 'doe', 'doesn', 'dog', 'doll', 'dollar', 'dolphin', 'dolphlundgren', 'domest', 'domhnallgleeson', 'domin', 'dominiccoop', 'dominicwest', 'don', 'donaldfaison', 'donaldpleas', 'donaldsutherland', 'donallogu', 'doncheadl', 'donharvey', 'donnel', 'doom', 'door', 'dorsey', 'doubl', 'double', 'doublelif', 'doubt', 'doug', 'dougjon', 'douglasm', 'dr', 'dracula', 'drag', 'dragon', 'drama', 'dramat', 'draw', 'drawn', 'dread', 'dream', 'dreams', 'dress', 'drewbarrymor', 'drifter', 'drink', 'drive', 'driven', 'driver', 'drop', 'drown', 'drug', 'drugabus', 'drugaddict', 'drugdeal', 'druglord', 'drugs', 'drugtraff', 'drunk', 'drunken', 'du', 'dualident', 'dude', 'duel', 'duke', 'dump', 'duo', 'dure', 'duringcreditssting', 'dustinhoffman', 'dutch', 'duti', 'dutton', 'dwaynejohnson', 'dwightyoakam', 'dyinganddeath', 'dylan', 'dylanbak', 'dylanmcdermott', 'dynam', 'dysfunctionalfamili', 'dystopia', 'dystopicfutur', 'eager', 'earlbrown', 'earli', 'earlier', 'earn', 'earth', 'earthquak', 'easi', 'east', 'eat', 'eccentr', 'econom', 'economi', 'edbegleyjr', 'eddi', 'eddie', 'eddiegriffin', 'eddieizzard', 'eddiekayethoma', 'eddiemarsan', 'eddiemurphi', 'edg', 'edgarramírez', 'edharri', 'edhelm', 'ediemcclurg', 'editor', 'edlaut', 'educ', 'edward', 'edwardburn', 'edwardfox', 'edwardherrmann', 'edwardjamesolmo', 'edwardnorton', 'effect', 'effort', 'egg', 'ego', 'egypt', 'el', 'elabor', 'eldenhenson', 'elderli', 'elect', 'element', 'elev', 'eliaskotea', 'elijahwood', 'elimin', 'eliroth', 'elisabethshu', 'elit', 'elizabeth', 'elizabethbank', 'ella', 'ellefan', 'ellenbarkin', 'ellenburstyn', 'ellenpag', 'elli', 'elliottgould', 'els', 'elud', 'elus', 'elv', 'elvi', 'embark', 'embethdavidtz', 'embroil', 'emerg', 'emilehirsch', 'emili', 'emilyblunt', 'emilymortim', 'emilywatson', 'emma', 'emmarobert', 'emmaston', 'emmathompson', 'emmawatson', 'emmetwalsh', 'emot', 'emperor', 'empire', 'employ', 'employe', 'encount', 'encourag', 'end', 'enemi', 'enemies', 'enemy', 'energi', 'enforc', 'engag', 'engin', 'england', 'english', 'enigmat', 'enjoy', 'enlist', 'ensemblecast', 'ensu', 'ensues', 'entangl', 'enter', 'enterpris', 'entertain', 'entir', 'entiti', 'environment', 'epic', 'epidem', 'episod', 'equal', 'era', 'eric', 'ericbana', 'ericbogosian', 'ericidl', 'ericrobert', 'ericstoltz', 'erin', 'ernest', 'ernestborgnin', 'erniehudson', 'erotic', 'erupt', 'escap', 'escapad', 'escape', 'escort', 'especi', 'espionag', 'establish', 'estat', 'estrang', 'etern', 'ethan', 'ethanembri', 'ethanhawk', 'ethansuple', 'ethic', 'eugenelevi', 'europ', 'european', 'eva', 'evacu', 'evad', 'evamend', 'evanrachelwood', 'eve', 'event', 'events', 'eventu', 'everi', 'evermor', 'everybodi', 'everyday', 'everyon', 'everyth', 'evid', 'evil', 'evolv', 'ewanmcgregor', 'ewenbremn', 'ex', 'exact', 'exactli', 'examin', 'exchang', 'excit', 'execut', 'exist', 'existence', 'existenti', 'exorc', 'exot', 'exoticisland', 'expect', 'expected', 'expedit', 'experi', 'experienc', 'expert', 'explain', 'explod', 'exploit', 'explor', 'explos', 'expos', 'extramaritalaffair', 'extraordinari', 'extraterrestri', 'extraterrestrialtechnolog', 'extrem', 'extremeviol', 'eye', 'fac', 'face', 'fact', 'factori', 'fade', 'fail', 'fairi', 'fairytal', 'faith', 'faizonlov', 'fake', 'fall', 'fallen', 'fallinginlov', 'falseident', 'fame', 'famili', 'family', 'familyrelationship', 'famkejanssen', 'famou', 'fan', 'fangvamp', 'fantasi', 'fantast', 'fantasyworld', 'far', 'farm', 'farmer', 'fascin', 'fashion', 'fast', 'fat', 'fatal', 'fate', 'father', 'fatherdaughterrelationship', 'fathersonrelationship', 'favor', 'favorit', 'fbi', 'fbiagent', 'fear', 'featur', 'feder', 'feel', 'feet', 'fellow', 'femal', 'female', 'femalefriendship', 'femalenud', 'femaleprotagonist', 'fend', 'ferguson', 'festiv', 'fi', 'fiancé', 'fiction', 'fictionalplac', 'field', 'fierc', 'fight', 'fighter', 'figur', 'file', 'film', 'filmmak', 'filmproduc', 'films', 'final', 'financi', 'finish', 'firm', 'fish', 'fisherman', 'fishersteven', 'fistfight', 'fit', 'fix', 'flashback', 'flee', 'flesh', 'fli', 'flight', 'flirt', 'flood', 'florida', 'flower', 'flynn', 'focu', 'focus', 'foil', 'folk', 'follow', 'food', 'foot', 'footag', 'footbal', 'footchas', 'forbidden', 'forbiddenlov', 'forc', 'force', 'forces', 'ford', 'foreign', 'forest', 'forestwhitak', 'forev', 'forever', 'forg', 'forget', 'forgiv', 'form', 'formid', 'formula', 'fort', 'fortun', 'fortune', 'forward', 'foster', 'fought', 'foundfootag', 'fourth', 'fox', 'frame', 'franc', 'france', 'francesconroy', 'francesdelatour', 'francesfish', 'francesmcdormand', 'francisco', 'francisfordcoppola', 'frank', 'frankenstein', 'frankgrillo', 'franki', 'frankiefaison', 'frankiemuniz', 'franklangella', 'frankoz', 'frankwelk', 'frankwhaley', 'frantic', 'fratern', 'fraud', 'freak', 'fred', 'fredarmisen', 'freddi', 'freddiehighmor', 'freddieprinzejr', 'fredtatascior', 'fredward', 'fredwillard', 'free', 'freedom', 'freeman', 'freez', 'french', 'fresh', 'freshman', 'friend', 'friendli', 'friends', 'friendship', 'frighten', 'frog', 'frontier', 'frustrat', 'fu', 'fuel', 'fugit', 'fulfil', 'fun', 'fund', 'funer', 'futur', 'future', 'futurist', 'ga', 'gabrielbyrn', 'gabrielleunion', 'gain', 'gainey', 'galaxi', 'gambl', 'game', 'games', 'gang', 'gangster', 'garag', 'garden', 'garfield', 'gari', 'garretdillahunt', 'garretthedlund', 'garrymarshal', 'garycol', 'garygray', 'garygrubb', 'garyoldman', 'garysinis', 'gather', 'gay', 'genehackman', 'gener', 'general', 'genet', 'geniu', 'genius', 'geoffreylewi', 'geoffreyrush', 'georg', 'george', 'georgea', 'georgeclooney', 'georgelopez', 'georgeluca', 'georgetakei', 'georgew', 'georgia', 'geraldinesomervil', 'gerardbutl', 'german', 'germani', 'gerrybeck', 'ghetto', 'ghost', 'giancarloesposito', 'giant', 'gift', 'gilliananderson', 'ginagershon', 'ginnifergoodwin', 'giovanniribisi', 'girl', 'girlfriend', 'girls', 'given', 'glass', 'glennclos', 'glenneheadli', 'glennmorshow', 'glennplumm', 'global', 'globe', 'goal', 'god', 'goe', 'gold', 'golden', 'golf', 'gone', 'good', 'goodvsevil', 'gordon', 'gore', 'gorgeou', 'got', 'gotham', 'govern', 'government', 'governor', 'gr', 'grace', 'grade', 'gradual', 'graduat', 'grahamgreen', 'grand', 'grandfath', 'grandfather', 'grandmother', 'grant', 'grave', 'gray', 'great', 'greater', 'greatest', 'greec', 'greed', 'greek', 'green', 'greg', 'gregelli', 'greggermann', 'gregghenri', 'gregkinnear', 'gregorysporled', 'gretchenmol', 'grew', 'grief', 'griev', 'griffin', 'griffindunn', 'griffith', 'grim', 'grip', 'grisli', 'ground', 'group', 'groupoffriend', 'grow', 'grown', 'gruesom', 'guard', 'guardian', 'guerrilla', 'guest', 'guid', 'guilt', 'guitar', 'gun', 'gunfight', 'gunsling', 'guru', 'gusvans', 'guy', 'guypearc', 'guys', 'gwynethpaltrow', 'gypsi', 'génesisrodríguez', 'gérarddepardieu', 'ha', 'hack', 'hacker', 'hair', 'hal', 'haleyjoelos', 'half', 'halholbrook', 'hall', 'halleberri', 'halloran', 'halloween', 'hallucin', 'han', 'hand', 'hands', 'handsom', 'handtohandcombat', 'hang', 'hankazaria', 'hannah', 'happen', 'happi', 'happili', 'happiness', 'happy', 'har', 'hara', 'harass', 'harbor', 'hard', 'harlandwilliam', 'harlem', 'harold', 'haroldperrineau', 'haroldrami', 'harri', 'harrison', 'harrisonford', 'harrisyulin', 'harrycarey', 'harryconnickjr', 'harrydeanstanton', 'harrylennix', 'harryshear', 'harsh', 'hart', 'harvard', 'harvey', 'harveykeitel', 'hasn', 'hatch', 'hate', 'haunt', 'hauntedhous', 'haven', 'havoc', 'hawaii', 'haydenchristensen', 'haydenpanettier', 'head', 'heal', 'health', 'hear', 'heart', 'heartbreak', 'heather', 'heathergraham', 'heathledg', 'heaven', 'heir', 'heiress', 'heist', 'held', 'helen', 'helenabonhamcart', 'helenhunt', 'helenmirren', 'helicopt', 'hell', 'help', 'henri', 'henson', 'hero', 'heroes', 'heroic', 'heroin', 'hi', 'hidden', 'hide', 'high', 'highli', 'highschool', 'highschoolstud', 'highway', 'hijack', 'hil', 'hilari', 'hilaryswank', 'hill', 'hillharp', 'himalaya', 'hip', 'hire', 'hiroyukisanada', 'hiroyukitagawa', 'histor', 'histori', 'historicalfigur', 'history', 'hit', 'hitchhik', 'hitman', 'ho', 'hockey', 'hold', 'hole', 'holiday', 'hollandtaylor', 'hollyhunt', 'hollywood', 'holmesosborn', 'holtmccallani', 'home', 'homeinvas', 'homeland', 'homeless', 'homelessperson', 'hometown', 'homicid', 'homosexu', 'honeymoon', 'hong', 'honor', 'hood', 'hoodlum', 'hook', 'hop', 'hope', 'hopedavi', 'hopper', 'horribl', 'horrif', 'horrifi', 'horror', 'hors', 'hospit', 'hospital', 'host', 'hostag', 'hostage', 'hostil', 'hot', 'hotel', 'hotelroom', 'hour', 'hous', 'house', 'housewif', 'howard', 'howev', 'hudson', 'huge', 'hugh', 'hughdanc', 'hughgrant', 'hughjackman', 'hughlauri', 'hugoweav', 'human', 'humanity', 'humankind', 'humans', 'humili', 'humor', 'hun', 'hundr', 'hunger', 'hungri', 'hunt', 'hunter', 'husband', 'hustler', 'hypnosi', 'hyun', 'héctorelizondo', 'ianabercrombi', 'ianholm', 'ianmckellen', 'ianmcneic', 'ianmcshan', 'ice', 'icecub', 'icon', 'idea', 'ideal', 'idealist', 'ident', 'identity', 'idol', 'idriselba', 'idyl', 'ignit', 'ignor', 'ii', 'il', 'ill', 'illeanadougla', 'illeg', 'illegalimmigr', 'illegalprostitut', 'imag', 'imagin', 'imaginari', 'imax', 'imeldastaunton', 'immedi', 'immigr', 'immort', 'impact', 'imperson', 'import', 'imposs', 'imprison', 'inadvert', 'incest', 'incid', 'includ', 'increas', 'increasingli', 'incred', 'independ', 'independentfilm', 'india', 'indian', 'indiana', 'indianlead', 'individu', 'industri', 'inexplic', 'infam', 'infect', 'infidel', 'infiltr', 'influenc', 'inform', 'inhabit', 'inherit', 'initi', 'inject', 'injur', 'injuri', 'inmat', 'inner', 'innoc', 'insan', 'insecur', 'insid', 'insist', 'inspector', 'inspir', 'instal', 'instant', 'instantli', 'instead', 'instinct', 'instructor', 'insur', 'insurg', 'intellig', 'intend', 'intens', 'intent', 'intern', 'internet', 'interrog', 'intertwin', 'interview', 'intim', 'intrigu', 'introduc', 'invad', 'invas', 'invent', 'inventor', 'invest', 'investig', 'invis', 'invit', 'involv', 'iowa', 'ira', 'iraq', 'ireland', 'irish', 'iron', 'isaiahwashington', 'islafish', 'island', 'isn', 'isol', 'isra', 'israel', 'issu', 'itali', 'italian', 'ivanamiličević', 'jack', 'jackblack', 'jacki', 'jackiechan', 'jackieearlehaley', 'jackiesandl', 'jackkehl', 'jackmcbray', 'jackmcge', 'jacknicholson', 'jacko', 'jackson', 'jackthompson', 'jackwarden', 'jacobvarga', 'jadapinkettsmith', 'jaicourtney', 'jail', 'jake', 'jakeabel', 'jakebusey', 'jakegyllenha', 'jakejohnson', 'jakeweb', 'jam', 'jame', 'james', 'jamesbadgedal', 'jamesbrolin', 'jamescaan', 'jamescoburn', 'jamescorden', 'jamescosmo', 'jamescromwel', 'jamesd', 'jamesdoohan', 'jamesearljon', 'jamesfrain', 'jamesfranco', 'jamesgammon', 'jamesgandolfini', 'jameshong', 'jameskaren', 'jameslegro', 'jamesmacdonald', 'jamesmarsden', 'jamesmcavoy', 'jamesrebhorn', 'jamesremar', 'jamesrusso', 'jamesspad', 'jameswood', 'jami', 'jamiebel', 'jamiechung', 'jamiefoxx', 'jamiekennedi', 'jamieleecurti', 'jan', 'jane', 'janeadam', 'janeanegarofalo', 'janekrakowski', 'janelynch', 'januaryjon', 'japan', 'japanes', 'jaredharri', 'jaredleto', 'jason', 'jasonbateman', 'jasonbigg', 'jasonclark', 'jasonflemyng', 'jasonharri', 'jasonisaac', 'jasonle', 'jasonmew', 'jasonritt', 'jasonrobard', 'jasonschwartzman', 'jasonsegel', 'jasonstatham', 'jasonsudeiki', 'javierbardem', 'jay', 'jaybaruchel', 'jayhernandez', 'jaymohr', 'jayo', 'jazz', 'jealousi', 'jean', 'jeanreno', 'jedi', 'jeff', 'jeffbridg', 'jeffdaniel', 'jeffgarlin', 'jeffgoldblum', 'jeffreyjon', 'jeffreytambor', 'jeffreywright', 'jenamalon', 'jeniferlewi', 'jennif', 'jenniferaniston', 'jenniferconnelli', 'jennifercoolidg', 'jenniferesposito', 'jennifergarn', 'jenniferjasonleigh', 'jenniferlawr', 'jenniferlopez', 'jenniferlovehewitt', 'jennifertilli', 'jeremyiron', 'jeremynortham', 'jeremypiven', 'jeremyrenn', 'jeremysisto', 'jerri', 'jersey', 'jess', 'jesseeisenberg', 'jessejam', 'jesseplemon', 'jessharnel', 'jessicaalba', 'jessicabiel', 'jessicacauffiel', 'jessicachastain', 'jesu', 'jesus', 'jetli', 'jew', 'jewel', 'jewish', 'jigsaw', 'jill', 'jim', 'jimbelushi', 'jimbroadb', 'jimcarrey', 'jimcaviezel', 'jimcum', 'jimgaffigan', 'jimhayni', 'jimimistri', 'jimmi', 'jimmisimpson', 'jimmy', 'jimmybennett', 'jimnorton', 'jin', 'joanallen', 'joancusack', 'joaquinphoenix', 'job', 'jock', 'jodiefost', 'joe', 'joechrest', 'joedonbak', 'joel', 'joelcoen', 'joeledgerton', 'joelotruglio', 'joelschumach', 'joelyrichardson', 'joemantegna', 'joemorton', 'joepantoliano', 'joepesci', 'joepingu', 'joeranft', 'joey', 'joeyk', 'joeylaurenadam', 'john', 'johnathonschaech', 'johnc', 'johncandi', 'johncarpent', 'johncarrolllynch', 'johncho', 'johnclees', 'johncorbett', 'johncusack', 'johnd', 'johndimaggio', 'johnf', 'johnfranchi', 'johngielgud', 'johngoodman', 'johnhawk', 'johnheard', 'johnhurt', 'johnkrasinski', 'johnlandi', 'johnleguizamo', 'johnlithgow', 'johnmalkovich', 'johnmcconnel', 'johnmctiernan', 'johnmichaelhiggin', 'johnni', 'johnnydepp', 'johnnyknoxvil', 'johnnysimmon', 'johnortiz', 'johnp', 'johnratzenberg', 'johnrhys', 'johnrothman', 'johnsavag', 'johnsess', 'johnslatteri', 'johnson', 'johntravolta', 'johnturturro', 'johnw', 'johnwitherspoon', 'join', 'jon', 'jonabraham', 'jonahhil', 'jonathan', 'jonathanbank', 'jonathanloughran', 'jonathanpryc', 'jonathanrhysmey', 'jonbernth', 'jone', 'jones', 'jonfavreau', 'jongri', 'jonhamm', 'jonhed', 'jonlovitz', 'jonpolito', 'jonstewart', 'jontenney', 'jonvoight', 'jordan', 'jordimollà', 'joseph', 'josephfienn', 'josephgordon', 'josepholiveira', 'josh', 'joshbrolin', 'joshhartnett', 'joshhutcherson', 'joshluca', 'joshpeck', 'joshuajackson', 'journal', 'journalist', 'journey', 'joy', 'joybryant', 'jr', 'judahfriedland', 'juddlormand', 'judeciccolella', 'judelaw', 'judg', 'judidench', 'judygr', 'juli', 'julianglov', 'juliannemoor', 'julianrich', 'juliansand', 'juliarobert', 'juliastil', 'julieandrew', 'juliettelewi', 'juliewalt', 'jump', 'junesquibb', 'jungl', 'junior', 'junki', 'junotempl', 'just', 'justic', 'justice', 'justinlong', 'justintheroux', 'justintimberlak', 'jürgenprochnow', 'kadeestrickland', 'kalpenn', 'kansa', 'karelroden', 'karen', 'karenallen', 'karlurban', 'katden', 'kate', 'katebeckinsal', 'katebosworth', 'katehudson', 'katemara', 'katewinslet', 'katharinetown', 'katherineheigl', 'kathleenfreeman', 'kathleenquinlan', 'kathleenturn', 'kathrynhahn', 'kathsouci', 'kathyb', 'kathybak', 'kathynajimi', 'kati', 'katieholm', 'kay', 'keanureev', 'keef', 'keegan', 'keiraknightley', 'keithcampbel', 'keithdavid', 'kellanlutz', 'kelli', 'kelligarn', 'kelly', 'kellymacdonald', 'kellypreston', 'kellyreilli', 'kelseygramm', 'ken', 'kenanthompson', 'kenjeong', 'kenmarino', 'kennethbranagh', 'kennethwelsh', 'kerrywashington', 'kevin', 'kevinbacon', 'kevincorrigan', 'kevincostn', 'kevindunn', 'kevindurand', 'kevinhart', 'kevinjam', 'kevinklin', 'kevinmcn', 'kevinmichaelrichardson', 'kevinnealon', 'kevinpollak', 'kevinsmith', 'kevinspacey', 'key', 'kgb', 'khan', 'kick', 'kid', 'kidnap', 'kidnapp', 'kids', 'kidsandfamili', 'kiefersutherland', 'kieranculkin', 'kill', 'killed', 'killer', 'killers', 'kim', 'kimbasing', 'kimcattral', 'kimcoat', 'kind', 'king', 'kingdom', 'kingpin', 'kirk', 'kirstendunst', 'kiss', 'kitchen', 'knew', 'knife', 'knight', 'knock', 'know', 'knowledg', 'known', 'kong', 'korean', 'kriskristofferson', 'kristenbel', 'kristenscha', 'kristenstewart', 'kristenwiig', 'kristinchenoweth', 'kristinscottthoma', 'kung', 'kungfu', 'kurt', 'kurtrussel', 'kyle', 'la', 'labor', 'laboratori', 'lack', 'ladi', 'ladykil', 'laid', 'lake', 'lakebel', 'lambertwilson', 'lancee', 'lancehenriksen', 'land', 'landscap', 'lane', 'lang', 'languag', 'lapd', 'larainenewman', 'larg', 'larger', 'largest', 'larri', 'larryk', 'larrymil', 'lascoatkin', 'lassehallström', 'lasvega', 'late', 'later', 'latest', 'laugh', 'launch', 'laura', 'lauradern', 'lauralinney', 'laurencefishburn', 'laurengraham', 'lauriemetcalf', 'lavish', 'law', 'lawman', 'lawrenc', 'lawyer', 'lax', 'lay', 'lazalonso', 'le', 'lead', 'leader', 'leagu', 'leari', 'learn', 'leav', 'led', 'lee', 'leeermey', 'leepac', 'left', 'leg', 'legaci', 'legal', 'legend', 'legendari', 'legion', 'leighwhannel', 'lelandors', 'lenaheadey', 'lenaolin', 'length', 'lenniejam', 'lennieloftin', 'leo', 'leobil', 'leon', 'leonardnimoy', 'leonardodicaprio', 'lesbian', 'lesliebibb', 'lesliemann', 'leslienielsen', 'lesson', 'let', 'lethal', 'letter', 'level', 'levitt', 'lewi', 'lewtempl', 'lgbt', 'liamcunningham', 'liamneeson', 'liar', 'liber', 'lie', 'lieuten', 'lievschreib', 'lif', 'life', 'lifeanddeath', 'lifelong', 'lifestyl', 'light', 'lightn', 'lik', 'like', 'lil', 'lili', 'lilitaylor', 'limit', 'linda', 'lindsaylohan', 'line', 'link', 'linshay', 'lion', 'lisa', 'lisakudrow', 'list', 'literatur', 'littl', 'littleboy', 'live', 'lives', 'living', 'livtyl', 'll', 'llcoolj', 'lo', 'loan', 'local', 'locat', 'lochlynmunro', 'lock', 'loganlerman', 'loismaxwel', 'lola', 'lolitadavidovich', 'london', 'londonengland', 'lone', 'loneli', 'loner', 'long', 'longer', 'longtim', 'look', 'loos', 'loose', 'lord', 'lorettadevin', 'losangel', 'lose', 'loser', 'loss', 'lossofbroth', 'lossofchild', 'lossoffamili', 'lossoffath', 'lossofhusband', 'lossoflov', 'lossofmoth', 'lossofson', 'lost', 'lot', 'lou', 'loudiamondphillip', 'loui', 'louisepark', 'louisiana', 'louislombardi', 'lov', 'love', 'loveatfirstsight', 'lovelett', 'loveofone', 'lover', 'loves', 'lovesick', 'lovetriangl', 'low', 'loyal', 'loyalti', 'lt', 'luca', 'lucasblack', 'lucastil', 'luci', 'lucindajenney', 'luck', 'lucki', 'lucy', 'lucyliu', 'lucypunch', 'ludacri', 'luisguzmán', 'lukashaa', 'luke', 'lukeevan', 'lukewilson', 'lure', 'lust', 'luxuri', 'lynncohen', 'lynnredgrav', 'ma', 'machin', 'machine', 'machinegun', 'maci', 'mackenziecrook', 'mad', 'madonna', 'mafia', 'magazin', 'maggi', 'maggiegyllenha', 'maggiesmith', 'magic', 'magician', 'maid', 'mail', 'main', 'maintain', 'major', 'make', 'mako', 'malcolm', 'malcolmmcdowel', 'male', 'malefemalerelationship', 'malefriendship', 'malenud', 'malinåkerman', 'mall', 'malley', 'man', 'manag', 'mandymoor', 'manhattan', 'manhunt', 'mani', 'maniac', 'manipul', 'mankind', 'mann', 'mansion', 'map', 'mar', 'marcbluca', 'march', 'marciagayharden', 'marcmacaulay', 'marcu', 'marcuslylebrown', 'margomartindal', 'mari', 'maria', 'mariabello', 'marie', 'marijuana', 'marin', 'marioncotillard', 'marisatomei', 'mark', 'markaddi', 'markboonejunior', 'markduplass', 'market', 'markfalvo', 'markl', 'markmargoli', 'markmos', 'markrolston', 'markruffalo', 'markstrong', 'markwahlberg', 'markwebb', 'markwilliam', 'marleyshelton', 'marlonwayan', 'marri', 'marriag', 'marriage', 'marriagecrisi', 'marriagepropos', 'married', 'marriedcoupl', 'marshal', 'marshallbel', 'marti', 'martial', 'martialart', 'martian', 'martin', 'martindonovan', 'martinfreeman', 'martinklebba', 'martinlandau', 'martinlawr', 'martinscorses', 'martinsheen', 'martinshort', 'martoncsoka', 'marvelcinematicunivers', 'marvelcom', 'mary', 'maryelizabethwinstead', 'maryellentrainor', 'marykayplac', 'marymccormack', 'marysteenburgen', 'mask', 'mass', 'massacr', 'massiv', 'massmurd', 'master', 'mastermind', 'match', 'mate', 'materi', 'mathemat', 'matt', 'mattcraven', 'mattdamon', 'mattdillon', 'matter', 'matthew', 'matthewbroderick', 'matthewgood', 'matthewlillard', 'matthewmcconaughey', 'mattmalloy', 'matto', 'mattschulz', 'mattwalsh', 'mattwinston', 'maurychaykin', 'max', 'maxcasella', 'maxmartini', 'maxthieriot', 'maxvonsydow', 'maya', 'mayarudolph', 'mayor', 'maze', 'mcclane', 'mcginley', 'meagangood', 'mean', 'meanwhil', 'mechan', 'media', 'medic', 'medicin', 'mediev', 'meet', 'meganfox', 'meganmul', 'megryan', 'mekhiphif', 'melaniegriffith', 'melanielynskey', 'melbrook', 'melgibson', 'melissageorg', 'melissaleo', 'melissamccarthi', 'melvin', 'member', 'memori', 'men', 'menac', 'menasuvari', 'mental', 'mentor', 'mercenari', 'mere', 'mermaid', 'merylstreep', 'messag', 'met', 'meteor', 'method', 'methodman', 'mexican', 'mexicanstandoff', 'mexico', 'mia', 'miami', 'michael', 'michaela', 'michaelangarano', 'michaelb', 'michaelbay', 'michaelbiehn', 'michaelbyrn', 'michaelcain', 'michaelcera', 'michaelclarkeduncan', 'michaeld', 'michaeldorn', 'michaeldougla', 'michaeleali', 'michaelfassbend', 'michaelgambon', 'michaelgough', 'michaelj', 'michaeljaiwhit', 'michaeljet', 'michaelkeaton', 'michaelkelli', 'michaelkennethwilliam', 'michaelkey', 'michaelmadsen', 'michaelmckean', 'michaelmoor', 'michaelo', 'michaelpapajohn', 'michaelpark', 'michaelpeña', 'michaelpitt', 'michaelrapaport', 'michaelrispoli', 'michaelrook', 'michaelshannon', 'michaelsheen', 'michaelwincott', 'michel', 'michellemonaghan', 'michellepfeiff', 'michellerodriguez', 'michellewilliam', 'michigan', 'mickeyrourk', 'mickiemcgowan', 'mid', 'middl', 'middle', 'middleag', 'middleeast', 'midlifecrisi', 'midst', 'midwest', 'miguelsandov', 'mike', 'mikedopud', 'mikeepp', 'mikejudg', 'mikemitchel', 'mikemy', 'mikeo', 'mikestarr', 'mil', 'milakuni', 'mild', 'mile', 'milestel', 'militari', 'millajovovich', 'miller', 'million', 'millionair', 'miloventimiglia', 'mind', 'mindyk', 'mindysterl', 'miner', 'minist', 'minniedriv', 'minor', 'minut', 'miracl', 'miranda', 'mirandarichardson', 'miriammargoly', 'mirror', 'misadventur', 'mischiev', 'misfit', 'miss', 'missil', 'missing', 'missingperson', 'mission', 'missionofmurd', 'missipyl', 'mississippi', 'mistak', 'mistaken', 'mistakenident', 'mistress', 'mitchel', 'mix', 'mob', 'mobster', 'mockumentari', 'model', 'modern', 'mollyshannon', 'mom', 'moment', 'money', 'monicabellucci', 'monk', 'monkey', 'monster', 'monstrou', 'montana', 'month', 'moon', 'moonlight', 'moor', 'moral', 'morganfreeman', 'mormon', 'morn', 'morrischestnut', 'mortal', 'moscow', 'motel', 'mother', 'motherdaughterrelationship', 'mothersonrelationship', 'motion', 'motiv', 'motor', 'motorcycl', 'mount', 'mountain', 'mous', 'mouth', 'movement', 'movi', 'movie', 'mr', 'multi', 'murder', 'murdered', 'murderhunt', 'murphi', 'murray', 'murrayabraham', 'museum', 'music', 'musician', 'muslim', 'mutant', 'mutat', 'mutual', 'mykeltiwilliamson', 'mysteri', 'mystery', 'mystic', 'mythic', 'mytholog', 'naiv', 'nanni', 'naomieharri', 'naomiwatt', 'narrat', 'nasa', 'nascarella', 'nasti', 'natalieportman', 'natashalyonn', 'nathanfillion', 'nathanlan', 'nation', 'nativ', 'nativeamerican', 'natur', 'nature', 'navi', 'navig', 'nazi', 'nealmcdonough', 'near', 'nearbi', 'nearli', 'nedbeatti', 'nedbellami', 'need', 'nefari', 'negoti', 'neighbor', 'neighborhood', 'neil', 'neilpatrickharri', 'nelson', 'nemesis', 'neo', 'nephew', 'nerd', 'nerdi', 'nestorserrano', 'network', 'nevecampbel', 'new', 'newfound', 'newident', 'newjersey', 'newli', 'newlov', 'news', 'newspap', 'newyear', 'newyork', 'newyorkc', 'nialong', 'nice', 'nichol', 'nicholashoult', 'nicholson', 'nick', 'nickchinlund', 'nickfrost', 'nicknolt', 'nickofferman', 'nicksearci', 'nickswardson', 'nickykatt', 'nicolascag', 'nicolearipark', 'nicolekidman', 'niec', 'niece', 'night', 'nightclub', 'nightmar', 'nightmare', 'nightshyamalan', 'nightstand', 'nikolajcoster', 'ninja', 'noahemmerich', 'noahtaylor', 'noelgugliemi', 'noir', 'non', 'nonsoanozi', 'noradunn', 'normal', 'normanreedu', 'north', 'northern', 'noth', 'notic', 'notori', 'novel', 'novelist', 'nowher', 'nuclear', 'nuditi', 'number', 'numer', 'nun', 'nurs', 'nypd', 'object', 'obsess', 'obstacl', 'obtain', 'occult', 'occupi', 'occur', 'ocean', 'octaviaspenc', 'odd', 'odyssey', 'offer', 'offic', 'officer', 'offici', 'oil', 'old', 'older', 'olegtaktarov', 'olekkrupa', 'olethorsen', 'olgakurylenko', 'oliv', 'oliverplatt', 'oliverston', 'oliviathirlbi', 'oliviawild', 'oliviawilliam', 'olymp', 'olympicgam', 'omarepp', 'onc', 'onli', 'onlin', 'onofrio', 'ontherun', 'open', 'oper', 'opera', 'operation', 'opportun', 'oppos', 'opposit', 'oppress', 'orc', 'order', 'ordinari', 'oregon', 'organ', 'organizedcrim', 'origin', 'orlandobloom', 'orlandojon', 'orlean', 'orphan', 'orphanag', 'oscar', 'oscarisaac', 'otherworldli', 'outback', 'outbreak', 'outcast', 'outerspac', 'outlaw', 'outrag', 'outsid', 'outwit', 'overcom', 'overrun', 'overwhelm', 'owenwilson', 'owl', 'owner', 'pacif', 'pack', 'pact', 'paddyconsidin', 'paid', 'pain', 'paint', 'painter', 'pair', 'pal', 'pamgrier', 'panic', 'paper', 'parallel', 'paranoia', 'paranorm', 'parent', 'parents', 'parentskidsrelationship', 'pari', 'paris', 'park', 'parker', 'parkerposey', 'parodi', 'parol', 'parti', 'particip', 'particularli', 'partner', 'partnership', 'party', 'pass', 'passeng', 'passion', 'past', 'pastor', 'path', 'pathingl', 'patient', 'patkiernan', 'patriarch', 'patriciaarquett', 'patriciaclarkson', 'patrick', 'patrickbauchau', 'patrickfischl', 'patrickgodfrey', 'patricko', 'patricksabongui', 'patrickstewart', 'patrickwarburton', 'patrickwilson', 'pattonoswalt', 'paul', 'paulapatton', 'paulben', 'paulbettani', 'pauldano', 'pauldooley', 'paulgiamatti', 'paulguilfoyl', 'paulherman', 'paulnewman', 'paulreuben', 'paulrodríguez', 'paulrudd', 'paulsorvino', 'paulw', 'paulwalk', 'pawn', 'pay', 'peac', 'peace', 'peasant', 'penguin', 'pennsylvania', 'penélopecruz', 'peopl', 'people', 'perfect', 'perform', 'peril', 'period', 'perioddrama', 'person', 'persuad', 'pet', 'pete', 'petepostlethwait', 'peter', 'peterberg', 'peterboyl', 'petercoyot', 'peterdant', 'peterdinklag', 'peterfacinelli', 'peterfarrelli', 'petergereti', 'peterjackson', 'petermcrobbi', 'petero', 'petersarsgaard', 'peterstormar', 'petti', 'phil', 'philipbakerhal', 'philipbosco', 'philipseymourhoffman', 'phillip', 'phillipnoyc', 'philosophi', 'philproctor', 'phone', 'photo', 'photograph', 'photographi', 'physic', 'piano', 'pick', 'pictur', 'picture', 'piec', 'piercebrosnan', 'pierr', 'pig', 'pilot', 'pimp', 'pink', 'piperperabo', 'piptorren', 'pirat', 'pistol', 'pit', 'place', 'plagu', 'plan', 'plane', 'planet', 'plannedmurd', 'plans', 'plant', 'plantat', 'plass', 'play', 'playboy', 'player', 'playwright', 'pleasur', 'plenti', 'plot', 'plung', 'po', 'poet', 'poetri', 'point', 'poison', 'poker', 'polar', 'polic', 'police', 'policebrut', 'policechas', 'policeman', 'policeoffic', 'policeoper', 'polit', 'politician', 'pool', 'poor', 'pop', 'popstar', 'popul', 'popular', 'porn', 'pornographi', 'port', 'portal', 'porter', 'portrait', 'portray', 'pose', 'posit', 'possess', 'possibl', 'post', 'potenti', 'poverti', 'pow', 'power', 'powers', 'powersbooth', 'practic', 'prank', 'prayer', 'pre', 'predat', 'pregnanc', 'pregnancyandbirth', 'pregnant', 'prehistor', 'prejudic', 'premonit', 'prepar', 'presenc', 'present', 'presid', 'president', 'presidenti', 'presidentialelect', 'press', 'pressur', 'pretti', 'prevent', 'previou', 'prey', 'price', 'pride', 'priest', 'prime', 'princ', 'prince', 'princess', 'princip', 'prison', 'prisonersofwar', 'privat', 'prize', 'pro', 'problem', 'problems', 'process', 'produc', 'product', 'profession', 'professor', 'profit', 'program', 'project', 'prom', 'promin', 'promis', 'promot', 'prompt', 'properti', 'propheci', 'prosecut', 'prostitut', 'protect', 'protest', 'prove', 'provid', 'psychiatr', 'psychiatrist', 'psychic', 'psycholog', 'psychologist', 'psychopath', 'psychot', 'public', 'publish', 'pull', 'punish', 'punk', 'puppet', 'purchas', 'purpos', 'pursu', 'pursuit', 'push', 'quarantin', 'queen', 'queenlatifah', 'quentintarantino', 'quest', 'question', 'quick', 'quickli', 'quiet', 'quinn', 'quirki', 'quit', 'rabbit', 'race', 'raceagainsttim', 'racer', 'rachaelharri', 'rachaelleighcook', 'rachel', 'rachelmcadam', 'rachelnichol', 'rachelticotin', 'rachelweisz', 'racial', 'racism', 'radeserbedzija', 'radhamitchel', 'radio', 'rafespal', 'rag', 'rage', 'rageandh', 'raid', 'railroad', 'rain', 'rainnwilson', 'rais', 'ralli', 'ralph', 'ralphbrown', 'ralphfienn', 'ralphineson', 'ramimalek', 'rampag', 'rancehoward', 'ranch', 'randalldukkim', 'randallpark', 'randyquaid', 'ranger', 'rank', 'ransom', 'rape', 'rapidli', 'rapmus', 'rapper', 'rare', 'rashidajon', 'rat', 'rate', 'ravag', 'raw', 'ray', 'rayliotta', 'raymond', 'raymondj', 'raystevenson', 'raywinston', 'raywis', 'reach', 'reaction', 'read', 'readi', 'real', 'realis', 'realiti', 'reality', 'realiz', 'realli', 'reason', 'rebeccahal', 'rebeccaromijn', 'rebel', 'rebelli', 'rebellion', 'rebelwilson', 'rebuild', 'receiv', 'recent', 'reclaim', 'reclus', 'reconcil', 'reconnect', 'record', 'recov', 'recruit', 'red', 'redempt', 'reel', 'reesewitherspoon', 'refug', 'refus', 'regain', 'rege', 'regim', 'reginahal', 'reginak', 'regret', 'reid', 'reign', 'reilli', 'reject', 'rekindl', 'rel', 'relat', 'relationship', 'relationships', 'releas', 'relentless', 'reli', 'religi', 'religion', 'religionandsupernatur', 'reloc', 'reluct', 'reluctantli', 'remain', 'remak', 'rememb', 'remot', 'renegad', 'renerusso', 'rennyharlin', 'renown', 'renéezellweg', 'repair', 'repay', 'replac', 'report', 'reporter', 'repres', 'repress', 'reput', 'requir', 'rescu', 'research', 'resid', 'resist', 'resolv', 'resort', 'resourc', 'respect', 'respons', 'rest', 'restaur', 'restor', 'result', 'results', 'resurrect', 'retel', 'retir', 'retriev', 'return', 'reunion', 'reunit', 'reveal', 'revel', 'reveng', 'revenge', 'reviv', 'revolut', 'revolutionari', 'revolv', 'reward', 'rexlinn', 'rhodagriffi', 'rhysifan', 'rich', 'richard', 'richardcetron', 'richarddonn', 'richarddreyfuss', 'richarde', 'richardg', 'richardger', 'richardgriffith', 'richardharri', 'richardjenkin', 'richardkind', 'richardlinklat', 'richardo', 'richardriehl', 'richardroundtre', 'richardschiff', 'richardt', 'rick', 'rickoverton', 'rickygervai', 'rickyjay', 'rid', 'riddl', 'ride', 'ridleyscott', 'rifl', 'right', 'rightandjustic', 'riley', 'ring', 'riot', 'ripley', 'riptorn', 'rise', 'risk', 'ritawilson', 'ritchiecost', 'ritchiemontgomeri', 'rival', 'rivalri', 'river', 'road', 'roadmovi', 'roadtrip', 'roam', 'rob', 'robber', 'robberi', 'robbiecoltran', 'robcohen', 'robcorddri', 'robert', 'robertc', 'robertcarlyl', 'robertclohessi', 'robertdavi', 'robertdeniro', 'robertdowneyjr', 'robertduval', 'robertenglund', 'robertforst', 'robertharvey', 'robertjohnburk', 'robertloggia', 'robertmaillet', 'robertpatrick', 'robertredford', 'robertrodriguez', 'robertwagn', 'robertzemecki', 'robin', 'robinson', 'robinwilliam', 'robinwright', 'roblow', 'robot', 'robrein', 'robriggl', 'robschneid', 'rock', 'rockandrol', 'rocket', 'rocki', 'rockstar', 'roddymcdowal', 'rodrigosantoro', 'rodsteig', 'roger', 'rogerashton', 'rogerbart', 'rogerguenveursmith', 'rogermitchel', 'rogermoor', 'rogu', 'role', 'roll', 'roman', 'romanc', 'romance', 'romant', 'romanticcomedi', 'romanymalco', 'rome', 'romeo', 'romero', 'ron', 'ronhoward', 'ronjeremi', 'ronlivingston', 'ronni', 'ronperlman', 'ronrifkin', 'rooki', 'room', 'roommat', 'rosamundpik', 'rosannaarquett', 'rosariodawson', 'rose', 'rosebyrn', 'rosieperez', 'ross', 'round', 'rourk', 'routin', 'row', 'roy', 'royal', 'royalti', 'rufussewel', 'ruin', 'rule', 'rumor', 'run', 'runaway', 'runner', 'ruperteverett', 'rural', 'ruralset', 'rush', 'russel', 'russellbrand', 'russellcrow', 'russia', 'russian', 'rutgerhau', 'ruth', 'ruthless', 'ryan', 'ryangosl', 'ryano', 'ryanphillipp', 'ryanreynold', 'rza', 'sabotag', 'sachabaroncohen', 'sacrific', 'sad', 'sadiesandl', 'sadism', 'sadist', 'safe', 'safeti', 'safety', 'saga', 'sail', 'sailor', 'sale', 'salesman', 'sallyhawkin', 'salmahayek', 'sam', 'samantha', 'samanthamorton', 'samelliott', 'samneil', 'samraimi', 'samrockwel', 'samshepard', 'samspruel', 'samuel', 'samuell', 'samurai', 'samworthington', 'san', 'sanaalathan', 'sand', 'sandrabullock', 'sandraoh', 'sanfrancisco', 'santa', 'santaclau', 'saoirseronan', 'sara', 'sarah', 'sarahjessicapark', 'sarahmichellegellar', 'sarahpolley', 'sarahsilverman', 'sarapaxton', 'satan', 'satellit', 'satir', 'saulrubinek', 'savag', 'save', 'savingtheworld', 'say', 'sbook', 'scam', 'scandal', 'scare', 'scari', 'scarlettjohansson', 'scene', 'scheme', 'schmidt', 'scholarship', 'school', 'schoolteach', 'sci', 'scienc', 'sciencefict', 'scientif', 'scientist', 'scootmcnairi', 'score', 'scotland', 'scott', 'scottadkin', 'scottcaan', 'scotteastwood', 'scottglenn', 'scottish', 'scottlawr', 'scottspeedman', 'scottwilson', 'scout', 'scrambl', 'scream', 'screen', 'screenwrit', 'scubadiv', 'sea', 'seal', 'sean', 'seanastin', 'seanbean', 'seanconneri', 'seannwilliamscott', 'seano', 'seanpenn', 'seanpertwe', 'search', 'seasid', 'season', 'sebastian', 'second', 'secret', 'secretag', 'secretari', 'secretident', 'secretintelligenceservic', 'secretli', 'secretlov', 'secretmiss', 'secretorgan', 'secrets', 'secretservic', 'secretsocieti', 'section', 'secur', 'securityguard', 'seduc', 'seduct', 'seek', 'seemingli', 'seen', 'seiz', 'sel', 'selenagomez', 'self', 'selfsacrific', 'sell', 'selmablair', 'semi', 'senat', 'send', 'senior', 'sens', 'sent', 'sentenc', 'seo', 'separ', 'sequel', 'sergeant', 'seri', 'serial', 'serialkil', 'series', 'seriesofmurd', 'seriou', 'serv', 'servant', 'servic', 'set', 'seth', 'sethgreen', 'sethrogen', 'settl', 'settler', 'seven', 'sever', 'sewer', 'sex', 'sexaddict', 'sexi', 'sexual', 'sexualabus', 'seymourcassel', 'shadi', 'shadow', 'shake', 'shakespear', 'shakespeare', 'shannynsossamon', 'shape', 'shaquilleo', 'share', 'shark', 'sharonston', 'sharp', 'shatter', 'shawneesmith', 'shawnhatosi', 'shawnlevi', 'sheawhigham', 'shelter', 'sheriff', 'shi', 'shialabeouf', 'shift', 'ship', 'shipwreck', 'shirleyhenderson', 'shock', 'shoe', 'shohrehaghdashloo', 'shoot', 'shootout', 'shop', 'short', 'shot', 'shotgun', 'showdown', 'shower', 'shut', 'sibl', 'sick', 'sidekick', 'sight', 'sign', 'sigourneyweav', 'silenc', 'silent', 'silver', 'similar', 'simmon', 'simon', 'simonbak', 'simoncallow', 'simonchandl', 'simonmcburney', 'simonpegg', 'simpl', 'simpson', 'sin', 'sinc', 'sing', 'singer', 'singl', 'singlemoth', 'singlepar', 'sinist', 'siobhanfallon', 'sir', 'sissyspacek', 'sister', 'sisters', 'sistersisterrelationship', 'sit', 'site', 'situat', 'situation', 'size', 'skateboard', 'skeleton', 'skeptic', 'ski', 'skill', 'skull', 'sky', 'skyscrap', 'slacker', 'slasher', 'slaughter', 'slave', 'slaveri', 'sleazi', 'sleep', 'sleepi', 'slif', 'slowli', 'slum', 'small', 'smalltown', 'smart', 'smith', 'smitten', 'smoke', 'smuggl', 'smuggler', 'snake', 'snatch', 'sniper', 'snoopdogg', 'snow', 'snowstorm', 'soccer', 'social', 'societi', 'society', 'sociopath', 'sofiacoppola', 'sofíavergara', 'solar', 'sold', 'soldier', 'soldiers', 'sole', 'solomon', 'solv', 'someon', 'someth', 'sometim', 'somewher', 'son', 'song', 'soon', 'sophi', 'soror', 'sort', 'soul', 'sound', 'south', 'southern', 'southernusa', 'soviet', 'space', 'spacecraft', 'spacemarin', 'spaceopera', 'spaceship', 'spacetravel', 'spain', 'span', 'spanish', 'spark', 'speak', 'special', 'specialist', 'spectacular', 'speed', 'spell', 'spend', 'spent', 'spi', 'spider', 'spikejonz', 'spikele', 'spin', 'spiral', 'spirit', 'spiritu', 'spoof', 'sport', 'spot', 'spread', 'spring', 'squad', 'st', 'staceytravi', 'stacykeach', 'staff', 'stage', 'stahl', 'stake', 'stalk', 'stalker', 'stan', 'stand', 'stanle', 'stanleytucci', 'star', 'stardom', 'start', 'state', 'states', 'station', 'stay', 'steal', 'steel', 'stellanskarsgård', 'step', 'stepfath', 'stephen', 'stephendorff', 'stephenfrear', 'stephenfri', 'stephengraham', 'stephenlang', 'stephenmchatti', 'stephenrea', 'stephenroot', 'stephenspinella', 'stephentobolowski', 'stepmoth', 'steve', 'stevebuscemi', 'stevecarel', 'stevecoogan', 'stevemartin', 'steven', 'stevenmackintosh', 'stevenseag', 'stevensoderbergh', 'stevenspielberg', 'stevezahn', 'stewart', 'sting', 'stir', 'stock', 'stockardchan', 'stockbrok', 'stolen', 'stone', 'stoner', 'stop', 'stopmot', 'store', 'stori', 'stories', 'storm', 'story', 'straight', 'strain', 'strand', 'strang', 'stranger', 'street', 'streetgang', 'streets', 'strength', 'stress', 'strict', 'strike', 'strip', 'stripclub', 'stripper', 'strong', 'struggl', 'stuck', 'student', 'studi', 'studio', 'stumbl', 'stun', 'stunt', 'style', 'su', 'subject', 'submarin', 'suburban', 'subway', 'succeed', 'success', 'successful', 'successor', 'sudden', 'suddenli', 'sue', 'suffer', 'suggest', 'suicid', 'suicideattempt', 'suit', 'suitor', 'sullivan', 'summer', 'summon', 'sun', 'sung', 'sungkang', 'sunglass', 'super', 'superhero', 'superhuman', 'superman', 'supermarket', 'supernatur', 'supernaturalpow', 'superpow', 'superstar', 'supervillain', 'suppli', 'support', 'suppos', 'sure', 'surf', 'surface', 'surfer', 'surgeon', 'surpris', 'surreal', 'surround', 'surveil', 'surviv', 'survival', 'survive', 'survivor', 'susan', 'susansarandon', 'suspect', 'suspens', 'suspici', 'suspicion', 'sven', 'sweep', 'sweet', 'sweetheart', 'swimmingpool', 'sword', 'swordandsorceri', 'swordplay', 'sydneypollack', 'sylvesterstallon', 'symbol', 'tabl', 'tag', 'tail', 'tak', 'taken', 'tale', 'talent', 'taliashir', 'talk', 'talkinganim', 'tall', 'tamalajon', 'tank', 'tape', 'tarajip', 'tarareid', 'target', 'tarynman', 'task', 'tast', 'tattoo', 'taxi', 'tayedigg', 'taylor', 'taylorlautn', 'tchékykaryo', 'teach', 'teacher', 'team', 'tear', 'tech', 'technolog', 'ted', 'tedlevin', 'tedraimi', 'teen', 'teenag', 'teenagecrush', 'teenagegirl', 'teenager', 'teencomedi', 'teenmovi', 'telepathi', 'televis', 'tell', 'temueramorrison', 'tens', 'tension', 'terencestamp', 'term', 'termin', 'terrencehoward', 'terri', 'terribl', 'terrifi', 'terror', 'terrorist', 'terrycrew', 'terrygilliam', 'terryo', 'test', 'texa', 'texas', 'th', 'thailand', 'thandienewton', 'thanksgiv', 'theater', 'theft', 'themselv', 'theori', 'therapist', 'thi', 'thief', 'thiev', 'thing', 'things', 'think', 'thoma', 'thomasf', 'thomashadenchurch', 'thomasjan', 'thomaskretschmann', 'thomaslennon', 'thompson', 'thought', 'thousand', 'threat', 'threaten', 'thrill', 'thriller', 'throne', 'throw', 'thrown', 'thrust', 'thu', 'thug', 'thwart', 'ticket', 'tie', 'tiger', 'tildaswinton', 'tilschweig', 'tim', 'timallen', 'timblakenelson', 'timburton', 'timcurri', 'time', 'times', 'timetravel', 'timgriffin', 'timguine', 'timmeadow', 'timothyhutton', 'timothyolyph', 'timothyspal', 'timpigott', 'timrobbin', 'timroth', 'tinafey', 'tini', 'tire', 'titl', 'tobeymaguir', 'tobinbel', 'tobyhuss', 'tobyjon', 'tobykebbel', 'today', 'todd', 'togeth', 'tokyo', 'told', 'tom', 'tomarnold', 'tomasarana', 'tombereng', 'tombow', 'tomcruis', 'tomfelton', 'tomhank', 'tomhardi', 'tomholland', 'tomkenni', 'tomlisterjr', 'tommccarthi', 'tommcgrath', 'tommi', 'tommyleejon', 'tomsavini', 'tomsizemor', 'tomskerritt', 'tomwait', 'tomwilkinson', 'toni', 'tonicollett', 'tonycox', 'tonycurran', 'tonygoldwyn', 'tonyhal', 'tonyscott', 'tonyshalhoub', 'tonytodd', 'took', 'tool', 'tophergrac', 'torment', 'torn', 'tornado', 'tortur', 'total', 'touch', 'tough', 'toughest', 'tour', 'tourist', 'tournament', 'tower', 'town', 'toxic', 'toy', 'toycomestolif', 'traceywalt', 'track', 'tracymorgan', 'trade', 'tradit', 'traffic', 'tragedi', 'tragedy', 'tragic', 'trail', 'train', 'trainer', 'traitor', 'transfer', 'transform', 'transplant', 'transport', 'trap', 'trauma', 'traumat', 'travel', 'treasur', 'treasurehunt', 'treat', 'treatwilliam', 'tree', 'trek', 'tressmacneil', 'tri', 'trial', 'triangl', 'tribe', 'trick', 'trigger', 'trio', 'trip', 'triumph', 'troop', 'tropic', 'troubl', 'trouble', 'troy', 'truck', 'trucker', 'true', 'trust', 'truth', 'tunnel', 'turmoil', 'turn', 'turned', 'turner', 'turtl', 'tv', 'tvmovi', 'tvshow', 'twin', 'twist', 'tyburrel', 'tyler', 'tylerperri', 'type', 'typic', 'tyresegibson', 'tysimpkin', 'téaleoni', 'udoki', 'ugli', 'ulrichthomsen', 'ultim', 'umathurman', 'unabl', 'unawar', 'uncl', 'uncle', 'unconvent', 'uncov', 'undead', 'undercov', 'undercoverag', 'undercovercop', 'underdog', 'undergo', 'underground', 'understand', 'underwat', 'underworld', 'unemploy', 'unexpect', 'unexpectedli', 'unfold', 'unfortun', 'unfortunately', 'unhappi', 'unimagin', 'union', 'uniqu', 'unit', 'univers', 'universe', 'university', 'unknown', 'unleash', 'unlik', 'unorthodox', 'unravel', 'unsoci', 'unstabl', 'unstopp', 'unsuspect', 'unusu', 'unwittingli', 'upcom', 'upper', 'upperclass', 'upsid', 'uptight', 'urban', 'usa', 'usapresid', 'use', 'utah', 'vacat', 'vacation', 'valkilm', 'valley', 'valu', 'vampir', 'van', 'vanessa', 'vanessahudgen', 'vanessaredgrav', 'vanessawilliam', 'vanish', 'variou', 'vast', 'vatican', 'vega', 'vegas', 'veng', 'vengeanc', 'venic', 'ventur', 'verafarmiga', 'verg', 'veri', 'version', 'veteran', 'viciou', 'victim', 'victims', 'victor', 'victorargo', 'victorgarb', 'victori', 'video', 'videogam', 'vietnam', 'vietnamveteran', 'view', 'viggomortensen', 'vigilant', 'villag', 'village', 'villain', 'vincent', 'vincentcassel', 'vincentd', 'vincentlaresca', 'vincentpastor', 'vincentregan', 'vincevaughn', 'vindiesel', 'vingrham', 'vinniejon', 'violadavi', 'violenc', 'violence', 'violent', 'virgin', 'virginiamadsen', 'virtual', 'virtualr', 'viru', 'vision', 'visit', 'visitor', 'visual', 'vivicaa', 'voic', 'volcano', 'volunt', 'vow', 'voyag', 'voyeur', 'wa', 'wade', 'wage', 'wait', 'waitress', 'wake', 'waldau', 'walk', 'walker', 'wall', 'wallaceshawn', 'walsh', 'walt', 'walter', 'waltergotel', 'waltongoggin', 'wandasyk', 'wander', 'wang', 'want', 'war', 'warcrim', 'ward', 'warehous', 'warlock', 'warm', 'warn', 'warner', 'warondrug', 'warren', 'warrenbeatti', 'warrior', 'wars', 'warwickdavi', 'wash', 'washington', 'washingtond', 'wast', 'wat', 'watch', 'water', 'wave', 'way', 'wayneknight', 'ways', 'wealth', 'wealthi', 'weapon', 'wear', 'weather', 'web', 'wed', 'wedding', 'week', 'weekend', 'welcom', 'wendellpierc', 'wendycrewson', 'went', 'werewolf', 'wesbentley', 'wescraven', 'wesleysnip', 'west', 'western', 'whale', 'wheelchair', 'whi', 'whip', 'whit', 'white', 'whitehous', 'whoopigoldberg', 'widow', 'wif', 'wife', 'wifehusbandrelationship', 'wild', 'wilder', 'wilderness', 'willarnett', 'willemdafo', 'willferrel', 'willfort', 'willi', 'william', 'williamfichtn', 'williamforsyth', 'williamh', 'williamhurt', 'williammapoth', 'williamsadl', 'williamshatn', 'williegarson', 'willpatton', 'willsmith', 'wilson', 'win', 'wind', 'wing', 'winner', 'winonaryd', 'winter', 'wise', 'wish', 'wit', 'witch', 'wizard', 'wolf', 'woman', 'womandirector', 'women', 'won', 'wonder', 'woo', 'wood', 'woodharri', 'woods', 'woodyallen', 'woodyharrelson', 'word', 'work', 'workahol', 'worker', 'workers', 'working', 'world', 'worldwari', 'worldwarii', 'worri', 'wors', 'worse', 'worst', 'worth', 'wound', 'wreak', 'wrestl', 'wretch', 'wright', 'write', 'writer', 'written', 'wrong', 'xanderberkeley', 'xenophobia', 'yacht', 'yakuza', 'yard', 'yasiinbey', 'year', 'yearn', 'years', 'york', 'young', 'youngadult', 'younger', 'youngest', 'youth', 'yulvazquez', 'zacefron', 'zachgalifianaki', 'zeljkoivanek', 'zhangziyi', 'zoe', 'zoesaldana', 'zombi', 'zombies', 'zone', 'zoo', 'zooeydeschanel', 'zoëkravitz']\n"
     ]
    }
   ],
   "source": [
    "print(list(cv.get_feature_names_out())) #to check the top 5000 most frequent words in the corpus"
   ]
  },
  {
   "cell_type": "code",
   "execution_count": 45,
   "id": "bedc25e3",
   "metadata": {},
   "outputs": [],
   "source": [
    "from sklearn.metrics.pairwise import cosine_similarity"
   ]
  },
  {
   "cell_type": "code",
   "execution_count": 46,
   "id": "3d21c1f1",
   "metadata": {},
   "outputs": [
    {
     "data": {
      "text/plain": [
       "(4806, 4806)"
      ]
     },
     "execution_count": 46,
     "metadata": {},
     "output_type": "execute_result"
    }
   ],
   "source": [
    "cosine_similarity(vectors).shape"
   ]
  },
  {
   "cell_type": "code",
   "execution_count": 47,
   "id": "4ece5b8e",
   "metadata": {},
   "outputs": [],
   "source": [
    "similarity = cosine_similarity(vectors)"
   ]
  },
  {
   "cell_type": "code",
   "execution_count": 48,
   "id": "f33989d5",
   "metadata": {},
   "outputs": [
    {
     "data": {
      "text/plain": [
       "array([1.        , 0.06593805, 0.07559289, ..., 0.04259177, 0.        ,\n",
       "       0.        ], shape=(4806,))"
      ]
     },
     "execution_count": 48,
     "metadata": {},
     "output_type": "execute_result"
    }
   ],
   "source": [
    "similarity[0] #yeh pheli movie ka hr movie ke saath distance bta rha hai"
   ]
  },
  {
   "cell_type": "code",
   "execution_count": 49,
   "id": "863498b7",
   "metadata": {},
   "outputs": [
    {
     "data": {
      "text/plain": [
       "Index([0], dtype='int64')"
      ]
     },
     "execution_count": 49,
     "metadata": {},
     "output_type": "execute_result"
    }
   ],
   "source": [
    "new_df[new_df['title'] == \"Avatar\"].index"
   ]
  },
  {
   "cell_type": "code",
   "execution_count": 50,
   "id": "eef449d2",
   "metadata": {},
   "outputs": [
    {
     "data": {
      "text/plain": [
       "np.int64(0)"
      ]
     },
     "execution_count": 50,
     "metadata": {},
     "output_type": "execute_result"
    }
   ],
   "source": [
    "new_df[new_df['title'] == \"Avatar\"].index[0]"
   ]
  },
  {
   "cell_type": "code",
   "execution_count": 51,
   "id": "0c241ee2",
   "metadata": {},
   "outputs": [],
   "source": [
    "#for more info --> 1:30:14\n",
    "def recommend(movie):\n",
    "    movie_index = new_df[new_df['title'] == movie].index[0]\n",
    "    distances = similarity[movie_index]\n",
    "    movies_list = sorted(list(enumerate(distances)),reverse=True,key = lambda x: x[1])[1:6] #selecting top 5 most similar movies\n",
    "    for i in movies_list:\n",
    "        print(new_df.iloc[i[0]].title)"
   ]
  },
  {
   "cell_type": "code",
   "execution_count": 52,
   "id": "603d21bb",
   "metadata": {},
   "outputs": [
    {
     "name": "stdout",
     "output_type": "stream",
     "text": [
      "Aliens vs Predator: Requiem\n",
      "Battle: Los Angeles\n",
      "Predator\n",
      "Independence Day\n",
      "Titan A.E.\n"
     ]
    }
   ],
   "source": [
    "recommend('Avatar')"
   ]
  },
  {
   "cell_type": "code",
   "execution_count": 53,
   "id": "435cefde",
   "metadata": {},
   "outputs": [],
   "source": [
    "import pickle"
   ]
  },
  {
   "cell_type": "code",
   "execution_count": 54,
   "id": "f95cadac",
   "metadata": {},
   "outputs": [],
   "source": [
    "pickle.dump(new_df,open('movies.pkl','wb')) # isse kaam nhi ho rha tha i.e. jb hm isey use kr rhe they app.py mei tb kch error aarha tha. May be dataframe ke saath streamlit ka kch dikkt ho rha tha, toh ab hm isey dictionary mei convert krk pickle file bnayenge"
   ]
  },
  {
   "cell_type": "code",
   "execution_count": 55,
   "id": "3343b912",
   "metadata": {},
   "outputs": [
    {
     "data": {
      "text/plain": [
       "array(['Avatar', \"Pirates of the Caribbean: At World's End\", 'Spectre',\n",
       "       ..., 'Signed, Sealed, Delivered', 'Shanghai Calling',\n",
       "       'My Date with Drew'], shape=(4806,), dtype=object)"
      ]
     },
     "execution_count": 55,
     "metadata": {},
     "output_type": "execute_result"
    }
   ],
   "source": [
    "new_df['title'].values #at the end dataframe is nothing but a dictionary, so we can easily convert our dataframe into dictionary"
   ]
  },
  {
   "cell_type": "code",
   "execution_count": 56,
   "id": "0756e4e5",
   "metadata": {},
   "outputs": [],
   "source": [
    "pickle.dump(new_df.to_dict(),open('movie_dict.pkl','wb'))"
   ]
  },
  {
   "cell_type": "code",
   "execution_count": 57,
   "id": "221b1a4a",
   "metadata": {},
   "outputs": [],
   "source": [
    "pickle.dump(similarity,open('similarity.pkl','wb'))"
   ]
  }
 ],
 "metadata": {
  "kernelspec": {
   "display_name": ".venv",
   "language": "python",
   "name": "python3"
  },
  "language_info": {
   "codemirror_mode": {
    "name": "ipython",
    "version": 3
   },
   "file_extension": ".py",
   "mimetype": "text/x-python",
   "name": "python",
   "nbconvert_exporter": "python",
   "pygments_lexer": "ipython3",
   "version": "3.10.11"
  }
 },
 "nbformat": 4,
 "nbformat_minor": 5
}
